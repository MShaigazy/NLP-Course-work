{
 "cells": [
  {
   "cell_type": "markdown",
   "metadata": {},
   "source": [
    "# Part 1 News articles classification"
   ]
  },
  {
   "cell_type": "code",
   "execution_count": 63,
   "metadata": {},
   "outputs": [],
   "source": [
    "from sklearn.feature_extraction.text import TfidfVectorizer\n",
    "\n",
    "from sklearn.linear_model import LogisticRegression\n",
    "from sklearn.naive_bayes import MultinomialNB\n",
    "from sklearn.ensemble import RandomForestClassifier\n",
    "from sklearn.svm import LinearSVC\n",
    "                        \n",
    "from sklearn.externals import joblib\n",
    "import pickle\n",
    "import logging\n",
    "import warnings \n",
    "from time import time \n",
    "import pandas as pd\n",
    "import numpy as np\n",
    "from collections import Counter\n",
    "import time\n",
    "import string\n",
    "import re\n",
    "from os import listdir\n",
    "from numpy import array\n",
    "from numpy import asarray\n",
    "from numpy import zeros\n",
    "\n",
    "import gensim\n",
    "from gensim.models import Word2Vec \n",
    "\n",
    "\n",
    "import nltk\n",
    "from nltk.tokenize import sent_tokenize, word_tokenize \n",
    "from nltk.corpus import stopwords\n",
    "\n",
    "import random\n",
    "import spacy\n",
    "import talos\n",
    "from talos.utils import hidden_layers\n",
    "\n",
    "from sklearn.pipeline import Pipeline\n",
    "\n",
    "\n",
    "\n",
    "import seaborn as sns\n",
    "import matplotlib.pyplot as plt\n",
    "from matplotlib import pyplot\n",
    "\n",
    "\n",
    "\n",
    "from sklearn  import preprocessing\n",
    "from sklearn.model_selection   import cross_val_score, GridSearchCV, cross_validate, RandomizedSearchCV\n",
    "from sklearn.metrics           import accuracy_score, confusion_matrix, classification_report\n",
    "from sklearn.preprocessing     import LabelEncoder"
   ]
  },
  {
   "cell_type": "markdown",
   "metadata": {},
   "source": [
    "# Datasets exploring"
   ]
  },
  {
   "cell_type": "markdown",
   "metadata": {},
   "source": [
    "Datasets loading and overview the first rows of the data"
   ]
  },
  {
   "cell_type": "code",
   "execution_count": 2,
   "metadata": {},
   "outputs": [],
   "source": [
    "train_data=pd.read_csv('train.csv', header=None, na_values=None, names = ['label', 'article_title', 'article_text'])\n",
    "test_data=pd.read_csv('test.csv', header=None, na_values=None, names = ['label', 'article_title', 'article_text'])"
   ]
  },
  {
   "cell_type": "code",
   "execution_count": 3,
   "metadata": {},
   "outputs": [
    {
     "data": {
      "text/html": [
       "<div>\n",
       "<style scoped>\n",
       "    .dataframe tbody tr th:only-of-type {\n",
       "        vertical-align: middle;\n",
       "    }\n",
       "\n",
       "    .dataframe tbody tr th {\n",
       "        vertical-align: top;\n",
       "    }\n",
       "\n",
       "    .dataframe thead th {\n",
       "        text-align: right;\n",
       "    }\n",
       "</style>\n",
       "<table border=\"1\" class=\"dataframe\">\n",
       "  <thead>\n",
       "    <tr style=\"text-align: right;\">\n",
       "      <th></th>\n",
       "      <th>label</th>\n",
       "      <th>article_title</th>\n",
       "      <th>article_text</th>\n",
       "    </tr>\n",
       "  </thead>\n",
       "  <tbody>\n",
       "    <tr>\n",
       "      <th>0</th>\n",
       "      <td>2</td>\n",
       "      <td>Wizards Guard Blake Out 10-12 Week (AP)</td>\n",
       "      <td>AP - Washington Wizards point guard Steve Blak...</td>\n",
       "    </tr>\n",
       "    <tr>\n",
       "      <th>1</th>\n",
       "      <td>4</td>\n",
       "      <td>Brief: HP acquires Synstar for \\$293M</td>\n",
       "      <td>In a move designed to help it better compete i...</td>\n",
       "    </tr>\n",
       "    <tr>\n",
       "      <th>2</th>\n",
       "      <td>3</td>\n",
       "      <td>US Airways #39; pilots vote for 18 salary redu...</td>\n",
       "      <td>US Airways #39; pilots voted to approve a new ...</td>\n",
       "    </tr>\n",
       "    <tr>\n",
       "      <th>3</th>\n",
       "      <td>4</td>\n",
       "      <td>Radiation risks 'need updating'</td>\n",
       "      <td>A UK panel examining radiation risks says offi...</td>\n",
       "    </tr>\n",
       "    <tr>\n",
       "      <th>4</th>\n",
       "      <td>1</td>\n",
       "      <td>President's fate is on the line in Venezuela</td>\n",
       "      <td>CARACAS -- Partisans on both sides are calling...</td>\n",
       "    </tr>\n",
       "  </tbody>\n",
       "</table>\n",
       "</div>"
      ],
      "text/plain": [
       "   label                                      article_title  \\\n",
       "0      2            Wizards Guard Blake Out 10-12 Week (AP)   \n",
       "1      4              Brief: HP acquires Synstar for \\$293M   \n",
       "2      3  US Airways #39; pilots vote for 18 salary redu...   \n",
       "3      4                    Radiation risks 'need updating'   \n",
       "4      1       President's fate is on the line in Venezuela   \n",
       "\n",
       "                                        article_text  \n",
       "0  AP - Washington Wizards point guard Steve Blak...  \n",
       "1  In a move designed to help it better compete i...  \n",
       "2  US Airways #39; pilots voted to approve a new ...  \n",
       "3  A UK panel examining radiation risks says offi...  \n",
       "4  CARACAS -- Partisans on both sides are calling...  "
      ]
     },
     "execution_count": 3,
     "metadata": {},
     "output_type": "execute_result"
    }
   ],
   "source": [
    "train_data.head(5)"
   ]
  },
  {
   "cell_type": "code",
   "execution_count": 4,
   "metadata": {},
   "outputs": [
    {
     "data": {
      "text/html": [
       "<div>\n",
       "<style scoped>\n",
       "    .dataframe tbody tr th:only-of-type {\n",
       "        vertical-align: middle;\n",
       "    }\n",
       "\n",
       "    .dataframe tbody tr th {\n",
       "        vertical-align: top;\n",
       "    }\n",
       "\n",
       "    .dataframe thead th {\n",
       "        text-align: right;\n",
       "    }\n",
       "</style>\n",
       "<table border=\"1\" class=\"dataframe\">\n",
       "  <thead>\n",
       "    <tr style=\"text-align: right;\">\n",
       "      <th></th>\n",
       "      <th>label</th>\n",
       "      <th>article_title</th>\n",
       "      <th>article_text</th>\n",
       "    </tr>\n",
       "  </thead>\n",
       "  <tbody>\n",
       "    <tr>\n",
       "      <th>0</th>\n",
       "      <td>3</td>\n",
       "      <td>Qwest: The end of the beginning</td>\n",
       "      <td>Thursday #39;s agreement between Qwest Communi...</td>\n",
       "    </tr>\n",
       "    <tr>\n",
       "      <th>1</th>\n",
       "      <td>1</td>\n",
       "      <td>Sadr Militiamen Still in Control of Iraq Shrine</td>\n",
       "      <td>NAJAF, Iraq (Reuters) - Rebel Shi'ite fighter...</td>\n",
       "    </tr>\n",
       "    <tr>\n",
       "      <th>2</th>\n",
       "      <td>4</td>\n",
       "      <td>Google Unveils Scholar Search Tool</td>\n",
       "      <td>JACKSONVILLE, FL -- The online search engine l...</td>\n",
       "    </tr>\n",
       "    <tr>\n",
       "      <th>3</th>\n",
       "      <td>2</td>\n",
       "      <td>Titans OT Munoz has surgery</td>\n",
       "      <td>Knoxville, TN (Sports Network) - Tennessee Tit...</td>\n",
       "    </tr>\n",
       "    <tr>\n",
       "      <th>4</th>\n",
       "      <td>4</td>\n",
       "      <td>When outsourcing, don't forget security, exper...</td>\n",
       "      <td>When outsourcing IT operations offshore, compa...</td>\n",
       "    </tr>\n",
       "  </tbody>\n",
       "</table>\n",
       "</div>"
      ],
      "text/plain": [
       "   label                                      article_title  \\\n",
       "0      3                    Qwest: The end of the beginning   \n",
       "1      1    Sadr Militiamen Still in Control of Iraq Shrine   \n",
       "2      4                 Google Unveils Scholar Search Tool   \n",
       "3      2                        Titans OT Munoz has surgery   \n",
       "4      4  When outsourcing, don't forget security, exper...   \n",
       "\n",
       "                                        article_text  \n",
       "0  Thursday #39;s agreement between Qwest Communi...  \n",
       "1   NAJAF, Iraq (Reuters) - Rebel Shi'ite fighter...  \n",
       "2  JACKSONVILLE, FL -- The online search engine l...  \n",
       "3  Knoxville, TN (Sports Network) - Tennessee Tit...  \n",
       "4  When outsourcing IT operations offshore, compa...  "
      ]
     },
     "execution_count": 4,
     "metadata": {},
     "output_type": "execute_result"
    }
   ],
   "source": [
    "test_data.head(5)"
   ]
  },
  {
   "cell_type": "markdown",
   "metadata": {},
   "source": [
    "Checking for missing and zero values"
   ]
  },
  {
   "cell_type": "code",
   "execution_count": 5,
   "metadata": {},
   "outputs": [
    {
     "name": "stdout",
     "output_type": "stream",
     "text": [
      "<class 'pandas.core.frame.DataFrame'>\n",
      "RangeIndex: 40000 entries, 0 to 39999\n",
      "Data columns (total 3 columns):\n",
      "label            40000 non-null int64\n",
      "article_title    40000 non-null object\n",
      "article_text     40000 non-null object\n",
      "dtypes: int64(1), object(2)\n",
      "memory usage: 937.6+ KB\n"
     ]
    }
   ],
   "source": [
    "train_data.info()\n"
   ]
  },
  {
   "cell_type": "code",
   "execution_count": 6,
   "metadata": {},
   "outputs": [
    {
     "name": "stdout",
     "output_type": "stream",
     "text": [
      "<class 'pandas.core.frame.DataFrame'>\n",
      "RangeIndex: 4000 entries, 0 to 3999\n",
      "Data columns (total 3 columns):\n",
      "label            4000 non-null int64\n",
      "article_title    4000 non-null object\n",
      "article_text     4000 non-null object\n",
      "dtypes: int64(1), object(2)\n",
      "memory usage: 93.8+ KB\n"
     ]
    }
   ],
   "source": [
    "test_data.info()"
   ]
  },
  {
   "cell_type": "code",
   "execution_count": 7,
   "metadata": {},
   "outputs": [
    {
     "data": {
      "text/plain": [
       "False"
      ]
     },
     "execution_count": 7,
     "metadata": {},
     "output_type": "execute_result"
    }
   ],
   "source": [
    "train_data.isnull().values.any()"
   ]
  },
  {
   "cell_type": "code",
   "execution_count": 8,
   "metadata": {},
   "outputs": [
    {
     "data": {
      "text/plain": [
       "False"
      ]
     },
     "execution_count": 8,
     "metadata": {},
     "output_type": "execute_result"
    }
   ],
   "source": [
    "test_data.isnull().values.any()"
   ]
  },
  {
   "cell_type": "markdown",
   "metadata": {},
   "source": [
    "Datasets contain no zero and missing values"
   ]
  },
  {
   "cell_type": "markdown",
   "metadata": {},
   "source": [
    "Assigning appropriate column names and label mapping to the news topics"
   ]
  },
  {
   "cell_type": "code",
   "execution_count": 9,
   "metadata": {},
   "outputs": [],
   "source": [
    "#Defining target variable\n",
    "y_train = train_data['label']\n",
    "y_test = test_data['label']"
   ]
  },
  {
   "cell_type": "markdown",
   "metadata": {},
   "source": [
    "Mapping label numbers to the news topic category"
   ]
  },
  {
   "cell_type": "code",
   "execution_count": 10,
   "metadata": {},
   "outputs": [],
   "source": [
    "train_data['category_name']=train_data['label'].map({1:'world', 2:'sports',3:'business', 4:'sci/tech' })\n",
    "test_data['category_name']=test_data['label'].map({1:'world', 2:'sports',3:'business', 4:'sci/tech' })"
   ]
  },
  {
   "cell_type": "markdown",
   "metadata": {},
   "source": [
    "Merging the news title and text columns into one to obtain more comprehensive information"
   ]
  },
  {
   "cell_type": "code",
   "execution_count": 11,
   "metadata": {},
   "outputs": [],
   "source": [
    "train_data['full_text'] = train_data['article_title'] + \" \" + train_data['article_text']\n",
    "test_data['full_text'] = test_data['article_title'] + \" \" + test_data['article_text']"
   ]
  },
  {
   "cell_type": "code",
   "execution_count": 12,
   "metadata": {},
   "outputs": [
    {
     "data": {
      "text/html": [
       "<div>\n",
       "<style scoped>\n",
       "    .dataframe tbody tr th:only-of-type {\n",
       "        vertical-align: middle;\n",
       "    }\n",
       "\n",
       "    .dataframe tbody tr th {\n",
       "        vertical-align: top;\n",
       "    }\n",
       "\n",
       "    .dataframe thead th {\n",
       "        text-align: right;\n",
       "    }\n",
       "</style>\n",
       "<table border=\"1\" class=\"dataframe\">\n",
       "  <thead>\n",
       "    <tr style=\"text-align: right;\">\n",
       "      <th></th>\n",
       "      <th>label</th>\n",
       "      <th>article_title</th>\n",
       "      <th>article_text</th>\n",
       "      <th>category_name</th>\n",
       "      <th>full_text</th>\n",
       "    </tr>\n",
       "  </thead>\n",
       "  <tbody>\n",
       "    <tr>\n",
       "      <th>0</th>\n",
       "      <td>2</td>\n",
       "      <td>Wizards Guard Blake Out 10-12 Week (AP)</td>\n",
       "      <td>AP - Washington Wizards point guard Steve Blak...</td>\n",
       "      <td>sports</td>\n",
       "      <td>Wizards Guard Blake Out 10-12 Week (AP) AP - W...</td>\n",
       "    </tr>\n",
       "    <tr>\n",
       "      <th>1</th>\n",
       "      <td>4</td>\n",
       "      <td>Brief: HP acquires Synstar for \\$293M</td>\n",
       "      <td>In a move designed to help it better compete i...</td>\n",
       "      <td>sci/tech</td>\n",
       "      <td>Brief: HP acquires Synstar for \\$293M In a mov...</td>\n",
       "    </tr>\n",
       "    <tr>\n",
       "      <th>2</th>\n",
       "      <td>3</td>\n",
       "      <td>US Airways #39; pilots vote for 18 salary redu...</td>\n",
       "      <td>US Airways #39; pilots voted to approve a new ...</td>\n",
       "      <td>business</td>\n",
       "      <td>US Airways #39; pilots vote for 18 salary redu...</td>\n",
       "    </tr>\n",
       "    <tr>\n",
       "      <th>3</th>\n",
       "      <td>4</td>\n",
       "      <td>Radiation risks 'need updating'</td>\n",
       "      <td>A UK panel examining radiation risks says offi...</td>\n",
       "      <td>sci/tech</td>\n",
       "      <td>Radiation risks 'need updating' A UK panel exa...</td>\n",
       "    </tr>\n",
       "    <tr>\n",
       "      <th>4</th>\n",
       "      <td>1</td>\n",
       "      <td>President's fate is on the line in Venezuela</td>\n",
       "      <td>CARACAS -- Partisans on both sides are calling...</td>\n",
       "      <td>world</td>\n",
       "      <td>President's fate is on the line in Venezuela C...</td>\n",
       "    </tr>\n",
       "  </tbody>\n",
       "</table>\n",
       "</div>"
      ],
      "text/plain": [
       "   label                                      article_title  \\\n",
       "0      2            Wizards Guard Blake Out 10-12 Week (AP)   \n",
       "1      4              Brief: HP acquires Synstar for \\$293M   \n",
       "2      3  US Airways #39; pilots vote for 18 salary redu...   \n",
       "3      4                    Radiation risks 'need updating'   \n",
       "4      1       President's fate is on the line in Venezuela   \n",
       "\n",
       "                                        article_text category_name  \\\n",
       "0  AP - Washington Wizards point guard Steve Blak...        sports   \n",
       "1  In a move designed to help it better compete i...      sci/tech   \n",
       "2  US Airways #39; pilots voted to approve a new ...      business   \n",
       "3  A UK panel examining radiation risks says offi...      sci/tech   \n",
       "4  CARACAS -- Partisans on both sides are calling...         world   \n",
       "\n",
       "                                           full_text  \n",
       "0  Wizards Guard Blake Out 10-12 Week (AP) AP - W...  \n",
       "1  Brief: HP acquires Synstar for \\$293M In a mov...  \n",
       "2  US Airways #39; pilots vote for 18 salary redu...  \n",
       "3  Radiation risks 'need updating' A UK panel exa...  \n",
       "4  President's fate is on the line in Venezuela C...  "
      ]
     },
     "execution_count": 12,
     "metadata": {},
     "output_type": "execute_result"
    }
   ],
   "source": [
    "train_data.head(5)"
   ]
  },
  {
   "cell_type": "markdown",
   "metadata": {},
   "source": [
    "# Exploring the Training Dataset"
   ]
  },
  {
   "cell_type": "markdown",
   "metadata": {},
   "source": [
    "Printing and visualisation the frequency distribution of the class attributes"
   ]
  },
  {
   "cell_type": "code",
   "execution_count": 8,
   "metadata": {},
   "outputs": [
    {
     "name": "stdout",
     "output_type": "stream",
     "text": [
      "business    10000\n",
      "sci/tech    10000\n",
      "world       10000\n",
      "sports      10000\n",
      "Name: category_name, dtype: int64\n"
     ]
    },
    {
     "data": {
      "text/plain": [
       "<matplotlib.axes._subplots.AxesSubplot at 0x14bc57400>"
      ]
     },
     "execution_count": 8,
     "metadata": {},
     "output_type": "execute_result"
    },
    {
     "data": {
      "image/png": "[encoded data removed]",
      "text/plain": [
       "<Figure size 720x288 with 1 Axes>"
      ]
     },
     "metadata": {
      "needs_background": "light"
     },
     "output_type": "display_data"
    }
   ],
   "source": [
    "distr = train_data['category_name'].value_counts()\n",
    "print(distr)\n",
    "plt.figure(figsize=(10,4))\n",
    "distr.plot(kind='bar')"
   ]
  },
  {
   "cell_type": "markdown",
   "metadata": {},
   "source": [
    "The classes are very well balanced"
   ]
  },
  {
   "cell_type": "markdown",
   "metadata": {},
   "source": [
    "Word counting"
   ]
  },
  {
   "cell_type": "code",
   "execution_count": 53,
   "metadata": {},
   "outputs": [
    {
     "name": "stdout",
     "output_type": "stream",
     "text": [
      "Total number of words in the training dataset: 1537305 \n",
      "\n",
      "Total number of unique words in the training dataset: 104855 \n",
      "\n",
      "Average number of words in the training dataset: 38.432625\n"
     ]
    }
   ],
   "source": [
    "#New column with word number\n",
    "train_data['word_number'] = train_data['full_text'].apply(lambda x: len(x.split(' ')))\n",
    "\n",
    "#Number of unique words\n",
    "uniq_raw = []\n",
    "for sent in train_data['full_text']:\n",
    "    for word in (sent.split(' ')):\n",
    "        uniq_raw.append(word)\n",
    "\n",
    "print('Total number of words in the training dataset:', train_data['word_number'].sum(),'\\n')\n",
    "print('Total number of unique words in the training dataset:', len(set(uniq_raw)),'\\n')\n",
    "print('Average number of words in the training dataset:', train_data['word_number'].mean())"
   ]
  },
  {
   "cell_type": "code",
   "execution_count": 10,
   "metadata": {},
   "outputs": [
    {
     "data": {
      "text/plain": [
       "count    40000.000000\n",
       "mean        38.432625\n",
       "std         10.529942\n",
       "min          9.000000\n",
       "25%         32.000000\n",
       "50%         38.000000\n",
       "75%         44.000000\n",
       "max        178.000000\n",
       "Name: word_number, dtype: float64"
      ]
     },
     "execution_count": 10,
     "metadata": {},
     "output_type": "execute_result"
    }
   ],
   "source": [
    "train_data['word_number'].describe()"
   ]
  },
  {
   "cell_type": "code",
   "execution_count": 11,
   "metadata": {},
   "outputs": [
    {
     "data": {
      "image/png": "[encoded data removed]",
      "text/plain": [
       "<Figure size 1080x432 with 1 Axes>"
      ]
     },
     "metadata": {
      "needs_background": "light"
     },
     "output_type": "display_data"
    }
   ],
   "source": [
    "plt.figure(figsize=(15,6))\n",
    "sns.boxplot(data=train_data, x='category_name', y='word_number', width=.5);"
   ]
  },
  {
   "cell_type": "markdown",
   "metadata": {},
   "source": [
    "Document length "
   ]
  },
  {
   "cell_type": "code",
   "execution_count": 17,
   "metadata": {},
   "outputs": [
    {
     "data": {
      "text/plain": [
       "<matplotlib.axes._subplots.AxesSubplot at 0x15d59ee48>"
      ]
     },
     "execution_count": 17,
     "metadata": {},
     "output_type": "execute_result"
    },
    {
     "data": {
      "image/png": "[encoded data removed]",
      "text/plain": [
       "<Figure size 1080x432 with 1 Axes>"
      ]
     },
     "metadata": {
      "needs_background": "light"
     },
     "output_type": "display_data"
    }
   ],
   "source": [
    "train_data['length'] = train_data['full_text'].str.len()\n",
    "plt.figure(figsize=(15,6))\n",
    "sns.boxplot(data=train_data, x='category_name', y='length', width=.5)"
   ]
  },
  {
   "cell_type": "code",
   "execution_count": 18,
   "metadata": {},
   "outputs": [
    {
     "data": {
      "text/plain": [
       "count    40000.000000\n",
       "mean       236.633875\n",
       "std         66.501613\n",
       "min        100.000000\n",
       "25%        196.000000\n",
       "50%        232.000000\n",
       "75%        266.000000\n",
       "max       1006.000000\n",
       "Name: length, dtype: float64"
      ]
     },
     "execution_count": 18,
     "metadata": {},
     "output_type": "execute_result"
    }
   ],
   "source": [
    "train_data['length'].describe()"
   ]
  },
  {
   "cell_type": "code",
   "execution_count": 19,
   "metadata": {},
   "outputs": [
    {
     "data": {
      "text/html": [
       "<div>\n",
       "<style scoped>\n",
       "    .dataframe tbody tr th:only-of-type {\n",
       "        vertical-align: middle;\n",
       "    }\n",
       "\n",
       "    .dataframe tbody tr th {\n",
       "        vertical-align: top;\n",
       "    }\n",
       "\n",
       "    .dataframe thead th {\n",
       "        text-align: right;\n",
       "    }\n",
       "</style>\n",
       "<table border=\"1\" class=\"dataframe\">\n",
       "  <thead>\n",
       "    <tr style=\"text-align: right;\">\n",
       "      <th></th>\n",
       "      <th>label</th>\n",
       "      <th>article_title</th>\n",
       "      <th>article_text</th>\n",
       "      <th>category_name</th>\n",
       "      <th>full_text</th>\n",
       "      <th>word_number</th>\n",
       "      <th>length</th>\n",
       "    </tr>\n",
       "  </thead>\n",
       "  <tbody>\n",
       "    <tr>\n",
       "      <th>0</th>\n",
       "      <td>2</td>\n",
       "      <td>Wizards Guard Blake Out 10-12 Week (AP)</td>\n",
       "      <td>AP - Washington Wizards point guard Steve Blak...</td>\n",
       "      <td>sports</td>\n",
       "      <td>Wizards Guard Blake Out 10-12 Week (AP) AP - W...</td>\n",
       "      <td>31</td>\n",
       "      <td>170</td>\n",
       "    </tr>\n",
       "    <tr>\n",
       "      <th>1</th>\n",
       "      <td>4</td>\n",
       "      <td>Brief: HP acquires Synstar for \\$293M</td>\n",
       "      <td>In a move designed to help it better compete i...</td>\n",
       "      <td>sci/tech</td>\n",
       "      <td>Brief: HP acquires Synstar for \\$293M In a mov...</td>\n",
       "      <td>32</td>\n",
       "      <td>201</td>\n",
       "    </tr>\n",
       "    <tr>\n",
       "      <th>2</th>\n",
       "      <td>3</td>\n",
       "      <td>US Airways #39; pilots vote for 18 salary redu...</td>\n",
       "      <td>US Airways #39; pilots voted to approve a new ...</td>\n",
       "      <td>business</td>\n",
       "      <td>US Airways #39; pilots vote for 18 salary redu...</td>\n",
       "      <td>38</td>\n",
       "      <td>217</td>\n",
       "    </tr>\n",
       "    <tr>\n",
       "      <th>3</th>\n",
       "      <td>4</td>\n",
       "      <td>Radiation risks 'need updating'</td>\n",
       "      <td>A UK panel examining radiation risks says offi...</td>\n",
       "      <td>sci/tech</td>\n",
       "      <td>Radiation risks 'need updating' A UK panel exa...</td>\n",
       "      <td>28</td>\n",
       "      <td>166</td>\n",
       "    </tr>\n",
       "    <tr>\n",
       "      <th>4</th>\n",
       "      <td>1</td>\n",
       "      <td>President's fate is on the line in Venezuela</td>\n",
       "      <td>CARACAS -- Partisans on both sides are calling...</td>\n",
       "      <td>world</td>\n",
       "      <td>President's fate is on the line in Venezuela C...</td>\n",
       "      <td>54</td>\n",
       "      <td>340</td>\n",
       "    </tr>\n",
       "  </tbody>\n",
       "</table>\n",
       "</div>"
      ],
      "text/plain": [
       "   label                                      article_title  \\\n",
       "0      2            Wizards Guard Blake Out 10-12 Week (AP)   \n",
       "1      4              Brief: HP acquires Synstar for \\$293M   \n",
       "2      3  US Airways #39; pilots vote for 18 salary redu...   \n",
       "3      4                    Radiation risks 'need updating'   \n",
       "4      1       President's fate is on the line in Venezuela   \n",
       "\n",
       "                                        article_text category_name  \\\n",
       "0  AP - Washington Wizards point guard Steve Blak...        sports   \n",
       "1  In a move designed to help it better compete i...      sci/tech   \n",
       "2  US Airways #39; pilots voted to approve a new ...      business   \n",
       "3  A UK panel examining radiation risks says offi...      sci/tech   \n",
       "4  CARACAS -- Partisans on both sides are calling...         world   \n",
       "\n",
       "                                           full_text  word_number  length  \n",
       "0  Wizards Guard Blake Out 10-12 Week (AP) AP - W...           31     170  \n",
       "1  Brief: HP acquires Synstar for \\$293M In a mov...           32     201  \n",
       "2  US Airways #39; pilots vote for 18 salary redu...           38     217  \n",
       "3  Radiation risks 'need updating' A UK panel exa...           28     166  \n",
       "4  President's fate is on the line in Venezuela C...           54     340  "
      ]
     },
     "execution_count": 19,
     "metadata": {},
     "output_type": "execute_result"
    }
   ],
   "source": [
    "train_data.head(5)"
   ]
  },
  {
   "cell_type": "markdown",
   "metadata": {},
   "source": [
    "# Data Cleaning"
   ]
  },
  {
   "cell_type": "markdown",
   "metadata": {},
   "source": [
    "The data pre-processing stage of the training dataset includes lowercase each word and remove punctuations, non-alphabetical symbols, stopwords and one-character words."
   ]
  },
  {
   "cell_type": "markdown",
   "metadata": {},
   "source": [
    "Function to delete URL objects"
   ]
  },
  {
   "cell_type": "code",
   "execution_count": 13,
   "metadata": {},
   "outputs": [],
   "source": [
    "def remove_urls (txt):\n",
    "    txt = re.sub(r'http\\S+', '', txt)\n",
    "    txt = re.sub(r'target\\S+', '', txt)\n",
    "    txt = re.sub(r'qtype\\S+', '', txt)\n",
    "    txt = re.sub(r'qcat\\S+', '', txt)\n",
    "    return(txt)"
   ]
  },
  {
   "cell_type": "markdown",
   "metadata": {},
   "source": [
    "Function to clean a text"
   ]
  },
  {
   "cell_type": "code",
   "execution_count": 14,
   "metadata": {},
   "outputs": [],
   "source": [
    "def clean_doc(doc):\n",
    "    tokens = doc.split()\n",
    "    tokens = [word.lower() for word in tokens]\n",
    "    tokens = [remove_urls(word) for word in tokens]\n",
    "    re_punc = re.compile('[%s]' % re.escape(string.punctuation))\n",
    "    tokens = [re_punc.sub('', w) for w in tokens]\n",
    "    tokens = [word for word in tokens if word.isalpha()]\n",
    "    stop_words = set(stopwords.words('english'))\n",
    "    tokens = [w for w in tokens if not w in stop_words]\n",
    "    tokens = [word for word in tokens if len(word) > 1]\n",
    "\n",
    "    return \" \".join(tokens)\n"
   ]
  },
  {
   "cell_type": "markdown",
   "metadata": {},
   "source": [
    "After applying clean_doc function, cleaned text stored in the clean_data list. The total number of words significantly decrease from 1,537,305 to 982,083"
   ]
  },
  {
   "cell_type": "code",
   "execution_count": 15,
   "metadata": {},
   "outputs": [],
   "source": [
    "#document loading function\n",
    "def load_doc(filename):\n",
    "    # open the file as read only\n",
    "    file = open(filename, 'r')\n",
    "    # read all text\n",
    "    text = file.read()\n",
    "    # close the file\n",
    "    file.close()\n",
    "    return text.split('\\n')"
   ]
  },
  {
   "cell_type": "code",
   "execution_count": 16,
   "metadata": {},
   "outputs": [],
   "source": [
    "#loading file\n",
    "#clean_data = load_doc('clean_data.txt')"
   ]
  },
  {
   "cell_type": "code",
   "execution_count": 54,
   "metadata": {},
   "outputs": [
    {
     "name": "stdout",
     "output_type": "stream",
     "text": [
      "The number of words before cleaning: 1537305 \n",
      "\n",
      "The number of words after cleaning: 982083 \n",
      "\n",
      "The number of unique words after cleaning: 53202\n"
     ]
    }
   ],
   "source": [
    "clean_data = []\n",
    "for i in range(0, len(train_data)):\n",
    "    clean_t=clean_doc(train_data['full_text'][i])\n",
    "    clean_data.append(clean_t)\n",
    "\n",
    "uniq_clean =[]\n",
    "for sent in clean_data:\n",
    "    for word in (sent.split(' ')):\n",
    "        uniq_clean.append(word)\n",
    "\n",
    "    \n",
    "print('The number of words before cleaning:', train_data['word_number'].sum(),'\\n')    \n",
    "print('The number of words after cleaning:', sum([len(i.split()) for i in clean_data]),'\\n')\n",
    "print('The number of unique words after cleaning:', len(set(uniq_clean)))  "
   ]
  },
  {
   "cell_type": "code",
   "execution_count": null,
   "metadata": {},
   "outputs": [],
   "source": [
    "# document save function\n",
    "def save_doc(lines, filename):\n",
    "    data = '\\n'.join(lines)\n",
    "    file = open(filename, 'w')\n",
    "    file.write(data)\n",
    "    file.close()"
   ]
  },
  {
   "cell_type": "code",
   "execution_count": null,
   "metadata": {},
   "outputs": [],
   "source": [
    "#saving file\n",
    "#filename = 'clean_data.txt'\n",
    "#save_doc(clean_data, filename)"
   ]
  },
  {
   "cell_type": "markdown",
   "metadata": {},
   "source": [
    "The code below allows to compare how particular row from the text was cleaned"
   ]
  },
  {
   "cell_type": "code",
   "execution_count": 55,
   "metadata": {},
   "outputs": [
    {
     "name": "stdout",
     "output_type": "stream",
     "text": [
      "\u001b[1mText before cleaning:\u001b[0m\n",
      " Chrysler to Build Sedans in Austria  DETROIT (Reuters) - DaimlerChrysler AG's &lt;A HREF=\"http://www.investor.reuters.com/FullQuote.aspx?ticker=DCX.N target=/stocks/quickinfo/fullquote\"&gt;DCX.N&lt;/A&gt; &lt;A HREF=\"http://www.investor.reuters.com/FullQuote.aspx?ticker=DCXGn.DE target=/stocks/quickinfo/fullquote\"&gt;DCXGn.DE&lt;/A&gt;  Chrysler division on Wednesday said it will start building its  hot-selling 300C sedan at a plant operated by Magna Steyr in  Graz, Austria, early next year. \n",
      "\n",
      "\u001b[1mText after cleaning:\u001b[0m\n",
      " chrysler build sedans austria detroit reuters daimlerchrysler ags lta href lta href chrysler division wednesday said start building hotselling sedan plant operated magna steyr graz austria early next year\n"
     ]
    }
   ],
   "source": [
    "print('\\033[1m'+'Text before cleaning:'+'\\033[0m' +'\\n', train_data['full_text'][13229], '\\n')\n",
    "print('\\033[1m'+'Text after cleaning:'+'\\033[0m'+'\\n', clean_data[13229])"
   ]
  },
  {
   "cell_type": "markdown",
   "metadata": {},
   "source": [
    "Cleaning test dataset with defined earlier clean_doc text cleaning function"
   ]
  },
  {
   "cell_type": "code",
   "execution_count": null,
   "metadata": {},
   "outputs": [],
   "source": [
    "#loading file\n",
    "#clean_test_data = load_doc('clean_test_data.txt')"
   ]
  },
  {
   "cell_type": "code",
   "execution_count": 56,
   "metadata": {},
   "outputs": [],
   "source": [
    "clean_test_data = []\n",
    "for i in range(0, len(test_data)):\n",
    "    clean_t=clean_doc(test_data['full_text'][i])\n",
    "    clean_test_data.append(clean_t)"
   ]
  },
  {
   "cell_type": "code",
   "execution_count": 33,
   "metadata": {},
   "outputs": [],
   "source": [
    "#saving file\n",
    "#filename = 'clean_test_data.txt'\n",
    "#save_doc(clean_test_data, filename)"
   ]
  },
  {
   "cell_type": "markdown",
   "metadata": {},
   "source": [
    "#  Text representation with TF-IDF"
   ]
  },
  {
   "cell_type": "markdown",
   "metadata": {},
   "source": [
    "The next step is a feature engineering process, where text representation techniques such as TF-IDF and Word2vec applied to transform text data into a matrix of token counts and word embeddings. "
   ]
  },
  {
   "cell_type": "markdown",
   "metadata": {},
   "source": [
    "Term Frequency-Inverse Document Frequency (TF-IDF) is a bag-of-words technique, which converts word sequences into numerical representation – vectors."
   ]
  },
  {
   "cell_type": "markdown",
   "metadata": {},
   "source": [
    "Applying TfidfVectorizer() function with default arguments (ngram_range = (1,1), min_df =1, max_df = 1, max_features = None) on the training dataset provide with the following results:"
   ]
  },
  {
   "cell_type": "code",
   "execution_count": 18,
   "metadata": {},
   "outputs": [],
   "source": [
    "vectorizer = TfidfVectorizer()\n",
    "X = vectorizer.fit_transform(clean_data)"
   ]
  },
  {
   "cell_type": "code",
   "execution_count": 29,
   "metadata": {},
   "outputs": [],
   "source": [
    "from itertools import islice"
   ]
  },
  {
   "cell_type": "code",
   "execution_count": 40,
   "metadata": {},
   "outputs": [
    {
     "name": "stdout",
     "output_type": "stream",
     "text": [
      "Vocabulary size: 53202\n",
      "Vocabulary content:\n",
      " [('wizards', 52271), ('guard', 19561), ('blake', 5070), ('week', 51560), ('ap', 2285), ('washington', 51305), ('point', 34934), ('steve', 44895), ('miss', 29130), ('first', 16574)]\n"
     ]
    }
   ],
   "source": [
    "print('Vocabulary size:', len(vectorizer.vocabulary_))\n",
    "#print('Vocabulary content:\\n {}'.format(vectorizer.vocabulary_))\n",
    "print('Vocabulary content:\\n {}'.format(list(vectorizer.vocabulary_.items())[:10]))\n"
   ]
  },
  {
   "cell_type": "markdown",
   "metadata": {},
   "source": [
    "Next, changing min_df and max_df parameters revealed that only the four most frequent terms (new, reuters, said, us) appear in 10% of the corpus, and therefore these parameters can remain the default values.  \n",
    "\n"
   ]
  },
  {
   "cell_type": "code",
   "execution_count": 67,
   "metadata": {},
   "outputs": [],
   "source": [
    "vectorizer = TfidfVectorizer(min_df=0.1)\n",
    "X = vectorizer.fit_transform(clean_data)"
   ]
  },
  {
   "cell_type": "code",
   "execution_count": 68,
   "metadata": {},
   "outputs": [
    {
     "name": "stdout",
     "output_type": "stream",
     "text": [
      "Vocabulary size: 4\n"
     ]
    },
    {
     "data": {
      "text/plain": [
       "['new', 'reuter', 'said', 'us']"
      ]
     },
     "execution_count": 68,
     "metadata": {},
     "output_type": "execute_result"
    }
   ],
   "source": [
    "print('Vocabulary size:', len(vectorizer.vocabulary_))\n",
    "vectorizer.get_feature_names()"
   ]
  },
  {
   "cell_type": "code",
   "execution_count": 69,
   "metadata": {},
   "outputs": [],
   "source": [
    "vectorizer = TfidfVectorizer(max_df=0.1)\n",
    "X = vectorizer.fit_transform(clean_data)"
   ]
  },
  {
   "cell_type": "code",
   "execution_count": 41,
   "metadata": {},
   "outputs": [
    {
     "name": "stdout",
     "output_type": "stream",
     "text": [
      "Vocabulary size: 53202\n"
     ]
    },
    {
     "data": {
      "text/plain": [
       "['aa',\n",
       " 'aaa',\n",
       " 'aachen',\n",
       " 'aal',\n",
       " 'aalborg',\n",
       " 'aap',\n",
       " 'aapl',\n",
       " 'aaplnas',\n",
       " 'aaplnasdaq',\n",
       " 'aaplo']"
      ]
     },
     "execution_count": 41,
     "metadata": {},
     "output_type": "execute_result"
    }
   ],
   "source": [
    "print('Vocabulary size:', len(vectorizer.vocabulary_))\n",
    "vectorizer.get_feature_names()[0:10]"
   ]
  },
  {
   "cell_type": "markdown",
   "metadata": {},
   "source": [
    "Sorting IDF scores provides with information about most and less frequent words in the corpus"
   ]
  },
  {
   "cell_type": "code",
   "execution_count": 71,
   "metadata": {},
   "outputs": [
    {
     "name": "stdout",
     "output_type": "stream",
     "text": [
      "Features with lowest idf: ['year' 'compani' 'ap']\n",
      "Features with highest idf: ['kach' 'kahnlehmann' 'zyman']\n"
     ]
    }
   ],
   "source": [
    "features = np.array(vectorizer.get_feature_names())\n",
    "sort_idf = np.argsort(vectorizer.idf_)\n",
    "print('Features with lowest idf:', features[sort_idf[:3]]),'\\n'\n",
    "print('Features with highest idf:', features[sort_idf[-3:]])"
   ]
  },
  {
   "cell_type": "markdown",
   "metadata": {},
   "source": [
    "Finally, sorting TF-IDF scores provides with weighted relevance of the words"
   ]
  },
  {
   "cell_type": "code",
   "execution_count": 72,
   "metadata": {},
   "outputs": [
    {
     "name": "stdout",
     "output_type": "stream",
     "text": [
      "Features with lowest tfidf: ['backend' 'familyth' 'granular'] \n",
      "\n",
      "Features with highest tfidf: ['dilithium' 'java' 'gigaset']\n"
     ]
    }
   ],
   "source": [
    "sort_tfidf = X.max(axis=0).toarray().ravel().argsort()\n",
    "\n",
    "print('Features with lowest tfidf:',features[sort_tfidf[:3]], '\\n')\n",
    "print('Features with highest tfidf:', features[sort_tfidf[-3:]])"
   ]
  },
  {
   "cell_type": "markdown",
   "metadata": {},
   "source": [
    "The next step is to train variuous machine learning algorithms with different numbers of ngram_range and max_features"
   ]
  },
  {
   "cell_type": "markdown",
   "metadata": {},
   "source": [
    "# Training ML algorithms"
   ]
  },
  {
   "cell_type": "markdown",
   "metadata": {},
   "source": [
    "The next step is to train machine learning algorithms such as Naïve Bayes, Linear SVM, Logistic Regression and Random Forest with different numbers of ngram_range (unigram, bigram, trigram) and max_features (7000, 15000) values.  "
   ]
  },
  {
   "cell_type": "code",
   "execution_count": 73,
   "metadata": {},
   "outputs": [],
   "source": [
    "#function to display full information of tables\n",
    "pd.set_option('display.max_colwidth', 0)"
   ]
  },
  {
   "cell_type": "markdown",
   "metadata": {},
   "source": [
    "The list of hyperparameters to tune"
   ]
  },
  {
   "cell_type": "code",
   "execution_count": 1104,
   "metadata": {},
   "outputs": [],
   "source": [
    "\n",
    "n_estimators = [10, 100, 200, 400]\n",
    "max_features = ['auto', 'sqrt']\n",
    "max_depth = [30,60,90, None]\n",
    "min_samples_split = [2, 5, 10]\n",
    "min_samples_leaf = [1, 2, 4]\n",
    "criterion = ['entropy', 'gini']\n",
    "\n",
    "\n",
    "\n",
    "param = [{'vec__ngram_range': ((1, 1), (1, 2), (1,3)), \n",
    "          'vec__max_features': [7000, 15000],\n",
    "          'clf'   : [LinearSVC()],\n",
    "          'clf__C':[0.05, 0.1, 0.5, 1, 5, 10]\n",
    "         },\n",
    "         \n",
    "         {'vec__ngram_range': ((1, 1), (1, 2), (1,3)), \n",
    "          'vec__max_features': [7000, 15000],\n",
    "          'clf'   : [MultinomialNB()]\n",
    "         },\n",
    "            \n",
    "         {'vec__ngram_range': ((1, 1), (1, 2), (1,3)), \n",
    "          'vec__max_features': [7000, 15000],   \n",
    "         'clf': [LogisticRegression(max_iter = 7000)],\n",
    "         'clf__solver' : ['newton-cg', 'lbfgs', 'liblinear'],\n",
    "         'clf__penalty' : ['l2'],\n",
    "         'clf__C' : [100, 10, 1.0, 0.1, 0.01]}\n",
    "        ]\n",
    "         \n",
    "random_grid = {'vec__ngram_range': ((1, 1), (1, 2), (1,3)), \n",
    "               'vec__max_features': (7000, 15000), \n",
    "               'r_f__n_estimators': n_estimators,\n",
    "               'r_f__max_features': max_features,\n",
    "               'r_f__max_depth': max_depth,\n",
    "               'r_f__min_samples_split': min_samples_split,\n",
    "               'r_f__min_samples_leaf': min_samples_leaf,\n",
    "               'r_f__criterion': criterion\n",
    "              }"
   ]
  },
  {
   "cell_type": "markdown",
   "metadata": {},
   "source": [
    "Two pipeline: first for Linear SVM, Naive Bayes and Logistic Regression algorithms, second to train Random Forest algorithm"
   ]
  },
  {
   "cell_type": "code",
   "execution_count": 1094,
   "metadata": {},
   "outputs": [],
   "source": [
    "pipe = Pipeline([\n",
    "    ('vec', TfidfVectorizer()),\n",
    "    ('clf', LinearSVC()),\n",
    "     ])\n",
    "\n",
    "pipe_rf = Pipeline([\n",
    "    ('vec', TfidfVectorizer()),\n",
    "    ('r_f',  RandomForestClassifier()),\n",
    "     ])"
   ]
  },
  {
   "cell_type": "markdown",
   "metadata": {},
   "source": [
    "3-fold grid and random search for selected algorithms with “accuracy” performance measure"
   ]
  },
  {
   "cell_type": "code",
   "execution_count": 1105,
   "metadata": {
    "scrolled": true
   },
   "outputs": [
    {
     "data": {
      "text/html": [
       "<div>\n",
       "<style scoped>\n",
       "    .dataframe tbody tr th:only-of-type {\n",
       "        vertical-align: middle;\n",
       "    }\n",
       "\n",
       "    .dataframe tbody tr th {\n",
       "        vertical-align: top;\n",
       "    }\n",
       "\n",
       "    .dataframe thead th {\n",
       "        text-align: right;\n",
       "    }\n",
       "</style>\n",
       "<table border=\"1\" class=\"dataframe\">\n",
       "  <thead>\n",
       "    <tr style=\"text-align: right;\">\n",
       "      <th></th>\n",
       "      <th>params</th>\n",
       "      <th>mean_test_score</th>\n",
       "      <th>mean_train_score</th>\n",
       "      <th>rank_test_score</th>\n",
       "    </tr>\n",
       "  </thead>\n",
       "  <tbody>\n",
       "    <tr>\n",
       "      <th>16</th>\n",
       "      <td>{'clf': LinearSVC(C=0.5, class_weight=None, dual=True, fit_intercept=True,\n",
       "          intercept_scaling=1, loss='squared_hinge', max_iter=1000,\n",
       "          multi_class='ovr', penalty='l2', random_state=None, tol=0.0001,\n",
       "          verbose=0), 'clf__C': 0.5, 'vec__max_features': 15000, 'vec__ngram_range': (1, 2)}</td>\n",
       "      <td>0.907825</td>\n",
       "      <td>0.967550</td>\n",
       "      <td>1</td>\n",
       "    </tr>\n",
       "    <tr>\n",
       "      <th>17</th>\n",
       "      <td>{'clf': LinearSVC(C=0.5, class_weight=None, dual=True, fit_intercept=True,\n",
       "          intercept_scaling=1, loss='squared_hinge', max_iter=1000,\n",
       "          multi_class='ovr', penalty='l2', random_state=None, tol=0.0001,\n",
       "          verbose=0), 'clf__C': 0.5, 'vec__max_features': 15000, 'vec__ngram_range': (1, 3)}</td>\n",
       "      <td>0.907200</td>\n",
       "      <td>0.967150</td>\n",
       "      <td>2</td>\n",
       "    </tr>\n",
       "    <tr>\n",
       "      <th>15</th>\n",
       "      <td>{'clf': LinearSVC(C=0.5, class_weight=None, dual=True, fit_intercept=True,\n",
       "          intercept_scaling=1, loss='squared_hinge', max_iter=1000,\n",
       "          multi_class='ovr', penalty='l2', random_state=None, tol=0.0001,\n",
       "          verbose=0), 'clf__C': 0.5, 'vec__max_features': 15000, 'vec__ngram_range': (1, 1)}</td>\n",
       "      <td>0.906625</td>\n",
       "      <td>0.967262</td>\n",
       "      <td>3</td>\n",
       "    </tr>\n",
       "    <tr>\n",
       "      <th>82</th>\n",
       "      <td>{'clf': LogisticRegression(C=1.0, class_weight=None, dual=False, fit_intercept=True,\n",
       "                   intercept_scaling=1, l1_ratio=None, max_iter=500,\n",
       "                   multi_class='auto', n_jobs=None, penalty='l2',\n",
       "                   random_state=None, solver='lbfgs', tol=0.0001, verbose=0,\n",
       "                   warm_start=False), 'clf__C': 1.0, 'clf__penalty': 'l2', 'clf__solver': 'newton-cg', 'vec__max_features': 15000, 'vec__ngram_range': (1, 2)}</td>\n",
       "      <td>0.906200</td>\n",
       "      <td>0.946075</td>\n",
       "      <td>4</td>\n",
       "    </tr>\n",
       "    <tr>\n",
       "      <th>88</th>\n",
       "      <td>{'clf': LogisticRegression(C=1.0, class_weight=None, dual=False, fit_intercept=True,\n",
       "                   intercept_scaling=1, l1_ratio=None, max_iter=500,\n",
       "                   multi_class='auto', n_jobs=None, penalty='l2',\n",
       "                   random_state=None, solver='lbfgs', tol=0.0001, verbose=0,\n",
       "                   warm_start=False), 'clf__C': 1.0, 'clf__penalty': 'l2', 'clf__solver': 'lbfgs', 'vec__max_features': 15000, 'vec__ngram_range': (1, 2)}</td>\n",
       "      <td>0.906125</td>\n",
       "      <td>0.946075</td>\n",
       "      <td>5</td>\n",
       "    </tr>\n",
       "    <tr>\n",
       "      <th>11</th>\n",
       "      <td>{'clf': LinearSVC(C=0.5, class_weight=None, dual=True, fit_intercept=True,\n",
       "          intercept_scaling=1, loss='squared_hinge', max_iter=1000,\n",
       "          multi_class='ovr', penalty='l2', random_state=None, tol=0.0001,\n",
       "          verbose=0), 'clf__C': 0.1, 'vec__max_features': 15000, 'vec__ngram_range': (1, 3)}</td>\n",
       "      <td>0.906050</td>\n",
       "      <td>0.938262</td>\n",
       "      <td>6</td>\n",
       "    </tr>\n",
       "    <tr>\n",
       "      <th>83</th>\n",
       "      <td>{'clf': LogisticRegression(C=1.0, class_weight=None, dual=False, fit_intercept=True,\n",
       "                   intercept_scaling=1, l1_ratio=None, max_iter=500,\n",
       "                   multi_class='auto', n_jobs=None, penalty='l2',\n",
       "                   random_state=None, solver='lbfgs', tol=0.0001, verbose=0,\n",
       "                   warm_start=False), 'clf__C': 1.0, 'clf__penalty': 'l2', 'clf__solver': 'newton-cg', 'vec__max_features': 15000, 'vec__ngram_range': (1, 3)}</td>\n",
       "      <td>0.905925</td>\n",
       "      <td>0.945913</td>\n",
       "      <td>7</td>\n",
       "    </tr>\n",
       "    <tr>\n",
       "      <th>89</th>\n",
       "      <td>{'clf': LogisticRegression(C=1.0, class_weight=None, dual=False, fit_intercept=True,\n",
       "                   intercept_scaling=1, l1_ratio=None, max_iter=500,\n",
       "                   multi_class='auto', n_jobs=None, penalty='l2',\n",
       "                   random_state=None, solver='lbfgs', tol=0.0001, verbose=0,\n",
       "                   warm_start=False), 'clf__C': 1.0, 'clf__penalty': 'l2', 'clf__solver': 'lbfgs', 'vec__max_features': 15000, 'vec__ngram_range': (1, 3)}</td>\n",
       "      <td>0.905900</td>\n",
       "      <td>0.945900</td>\n",
       "      <td>8</td>\n",
       "    </tr>\n",
       "    <tr>\n",
       "      <th>10</th>\n",
       "      <td>{'clf': LinearSVC(C=0.5, class_weight=None, dual=True, fit_intercept=True,\n",
       "          intercept_scaling=1, loss='squared_hinge', max_iter=1000,\n",
       "          multi_class='ovr', penalty='l2', random_state=None, tol=0.0001,\n",
       "          verbose=0), 'clf__C': 0.1, 'vec__max_features': 15000, 'vec__ngram_range': (1, 2)}</td>\n",
       "      <td>0.905875</td>\n",
       "      <td>0.938737</td>\n",
       "      <td>9</td>\n",
       "    </tr>\n",
       "    <tr>\n",
       "      <th>81</th>\n",
       "      <td>{'clf': LogisticRegression(C=1.0, class_weight=None, dual=False, fit_intercept=True,\n",
       "                   intercept_scaling=1, l1_ratio=None, max_iter=500,\n",
       "                   multi_class='auto', n_jobs=None, penalty='l2',\n",
       "                   random_state=None, solver='lbfgs', tol=0.0001, verbose=0,\n",
       "                   warm_start=False), 'clf__C': 1.0, 'clf__penalty': 'l2', 'clf__solver': 'newton-cg', 'vec__max_features': 15000, 'vec__ngram_range': (1, 1)}</td>\n",
       "      <td>0.905025</td>\n",
       "      <td>0.946075</td>\n",
       "      <td>10</td>\n",
       "    </tr>\n",
       "    <tr>\n",
       "      <th>87</th>\n",
       "      <td>{'clf': LogisticRegression(C=1.0, class_weight=None, dual=False, fit_intercept=True,\n",
       "                   intercept_scaling=1, l1_ratio=None, max_iter=500,\n",
       "                   multi_class='auto', n_jobs=None, penalty='l2',\n",
       "                   random_state=None, solver='lbfgs', tol=0.0001, verbose=0,\n",
       "                   warm_start=False), 'clf__C': 1.0, 'clf__penalty': 'l2', 'clf__solver': 'lbfgs', 'vec__max_features': 15000, 'vec__ngram_range': (1, 1)}</td>\n",
       "      <td>0.905000</td>\n",
       "      <td>0.946088</td>\n",
       "      <td>11</td>\n",
       "    </tr>\n",
       "    <tr>\n",
       "      <th>77</th>\n",
       "      <td>{'clf': LogisticRegression(C=1.0, class_weight=None, dual=False, fit_intercept=True,\n",
       "                   intercept_scaling=1, l1_ratio=None, max_iter=500,\n",
       "                   multi_class='auto', n_jobs=None, penalty='l2',\n",
       "                   random_state=None, solver='lbfgs', tol=0.0001, verbose=0,\n",
       "                   warm_start=False), 'clf__C': 10, 'clf__penalty': 'l2', 'clf__solver': 'liblinear', 'vec__max_features': 15000, 'vec__ngram_range': (1, 3)}</td>\n",
       "      <td>0.904925</td>\n",
       "      <td>0.978100</td>\n",
       "      <td>12</td>\n",
       "    </tr>\n",
       "    <tr>\n",
       "      <th>9</th>\n",
       "      <td>{'clf': LinearSVC(C=0.5, class_weight=None, dual=True, fit_intercept=True,\n",
       "          intercept_scaling=1, loss='squared_hinge', max_iter=1000,\n",
       "          multi_class='ovr', penalty='l2', random_state=None, tol=0.0001,\n",
       "          verbose=0), 'clf__C': 0.1, 'vec__max_features': 15000, 'vec__ngram_range': (1, 1)}</td>\n",
       "      <td>0.904700</td>\n",
       "      <td>0.938112</td>\n",
       "      <td>13</td>\n",
       "    </tr>\n",
       "    <tr>\n",
       "      <th>76</th>\n",
       "      <td>{'clf': LogisticRegression(C=1.0, class_weight=None, dual=False, fit_intercept=True,\n",
       "                   intercept_scaling=1, l1_ratio=None, max_iter=500,\n",
       "                   multi_class='auto', n_jobs=None, penalty='l2',\n",
       "                   random_state=None, solver='lbfgs', tol=0.0001, verbose=0,\n",
       "                   warm_start=False), 'clf__C': 10, 'clf__penalty': 'l2', 'clf__solver': 'liblinear', 'vec__max_features': 15000, 'vec__ngram_range': (1, 2)}</td>\n",
       "      <td>0.904250</td>\n",
       "      <td>0.978662</td>\n",
       "      <td>14</td>\n",
       "    </tr>\n",
       "    <tr>\n",
       "      <th>94</th>\n",
       "      <td>{'clf': LogisticRegression(C=1.0, class_weight=None, dual=False, fit_intercept=True,\n",
       "                   intercept_scaling=1, l1_ratio=None, max_iter=500,\n",
       "                   multi_class='auto', n_jobs=None, penalty='l2',\n",
       "                   random_state=None, solver='lbfgs', tol=0.0001, verbose=0,\n",
       "                   warm_start=False), 'clf__C': 1.0, 'clf__penalty': 'l2', 'clf__solver': 'liblinear', 'vec__max_features': 15000, 'vec__ngram_range': (1, 2)}</td>\n",
       "      <td>0.904225</td>\n",
       "      <td>0.936587</td>\n",
       "      <td>15</td>\n",
       "    </tr>\n",
       "    <tr>\n",
       "      <th>95</th>\n",
       "      <td>{'clf': LogisticRegression(C=1.0, class_weight=None, dual=False, fit_intercept=True,\n",
       "                   intercept_scaling=1, l1_ratio=None, max_iter=500,\n",
       "                   multi_class='auto', n_jobs=None, penalty='l2',\n",
       "                   random_state=None, solver='lbfgs', tol=0.0001, verbose=0,\n",
       "                   warm_start=False), 'clf__C': 1.0, 'clf__penalty': 'l2', 'clf__solver': 'liblinear', 'vec__max_features': 15000, 'vec__ngram_range': (1, 3)}</td>\n",
       "      <td>0.904200</td>\n",
       "      <td>0.936412</td>\n",
       "      <td>16</td>\n",
       "    </tr>\n",
       "    <tr>\n",
       "      <th>22</th>\n",
       "      <td>{'clf': LinearSVC(C=0.5, class_weight=None, dual=True, fit_intercept=True,\n",
       "          intercept_scaling=1, loss='squared_hinge', max_iter=1000,\n",
       "          multi_class='ovr', penalty='l2', random_state=None, tol=0.0001,\n",
       "          verbose=0), 'clf__C': 1, 'vec__max_features': 15000, 'vec__ngram_range': (1, 2)}</td>\n",
       "      <td>0.903975</td>\n",
       "      <td>0.980275</td>\n",
       "      <td>17</td>\n",
       "    </tr>\n",
       "    <tr>\n",
       "      <th>23</th>\n",
       "      <td>{'clf': LinearSVC(C=0.5, class_weight=None, dual=True, fit_intercept=True,\n",
       "          intercept_scaling=1, loss='squared_hinge', max_iter=1000,\n",
       "          multi_class='ovr', penalty='l2', random_state=None, tol=0.0001,\n",
       "          verbose=0), 'clf__C': 1, 'vec__max_features': 15000, 'vec__ngram_range': (1, 3)}</td>\n",
       "      <td>0.903825</td>\n",
       "      <td>0.979837</td>\n",
       "      <td>18</td>\n",
       "    </tr>\n",
       "    <tr>\n",
       "      <th>93</th>\n",
       "      <td>{'clf': LogisticRegression(C=1.0, class_weight=None, dual=False, fit_intercept=True,\n",
       "                   intercept_scaling=1, l1_ratio=None, max_iter=500,\n",
       "                   multi_class='auto', n_jobs=None, penalty='l2',\n",
       "                   random_state=None, solver='lbfgs', tol=0.0001, verbose=0,\n",
       "                   warm_start=False), 'clf__C': 1.0, 'clf__penalty': 'l2', 'clf__solver': 'liblinear', 'vec__max_features': 15000, 'vec__ngram_range': (1, 1)}</td>\n",
       "      <td>0.903000</td>\n",
       "      <td>0.936300</td>\n",
       "      <td>19</td>\n",
       "    </tr>\n",
       "    <tr>\n",
       "      <th>21</th>\n",
       "      <td>{'clf': LinearSVC(C=0.5, class_weight=None, dual=True, fit_intercept=True,\n",
       "          intercept_scaling=1, loss='squared_hinge', max_iter=1000,\n",
       "          multi_class='ovr', penalty='l2', random_state=None, tol=0.0001,\n",
       "          verbose=0), 'clf__C': 1, 'vec__max_features': 15000, 'vec__ngram_range': (1, 1)}</td>\n",
       "      <td>0.902650</td>\n",
       "      <td>0.979000</td>\n",
       "      <td>20</td>\n",
       "    </tr>\n",
       "    <tr>\n",
       "      <th>7</th>\n",
       "      <td>{'clf': LinearSVC(C=0.5, class_weight=None, dual=True, fit_intercept=True,\n",
       "          intercept_scaling=1, loss='squared_hinge', max_iter=1000,\n",
       "          multi_class='ovr', penalty='l2', random_state=None, tol=0.0001,\n",
       "          verbose=0), 'clf__C': 0.1, 'vec__max_features': 7000, 'vec__ngram_range': (1, 2)}</td>\n",
       "      <td>0.902550</td>\n",
       "      <td>0.931225</td>\n",
       "      <td>21</td>\n",
       "    </tr>\n",
       "    <tr>\n",
       "      <th>79</th>\n",
       "      <td>{'clf': LogisticRegression(C=1.0, class_weight=None, dual=False, fit_intercept=True,\n",
       "                   intercept_scaling=1, l1_ratio=None, max_iter=500,\n",
       "                   multi_class='auto', n_jobs=None, penalty='l2',\n",
       "                   random_state=None, solver='lbfgs', tol=0.0001, verbose=0,\n",
       "                   warm_start=False), 'clf__C': 1.0, 'clf__penalty': 'l2', 'clf__solver': 'newton-cg', 'vec__max_features': 7000, 'vec__ngram_range': (1, 2)}</td>\n",
       "      <td>0.902425</td>\n",
       "      <td>0.938500</td>\n",
       "      <td>22</td>\n",
       "    </tr>\n",
       "    <tr>\n",
       "      <th>85</th>\n",
       "      <td>{'clf': LogisticRegression(C=1.0, class_weight=None, dual=False, fit_intercept=True,\n",
       "                   intercept_scaling=1, l1_ratio=None, max_iter=500,\n",
       "                   multi_class='auto', n_jobs=None, penalty='l2',\n",
       "                   random_state=None, solver='lbfgs', tol=0.0001, verbose=0,\n",
       "                   warm_start=False), 'clf__C': 1.0, 'clf__penalty': 'l2', 'clf__solver': 'lbfgs', 'vec__max_features': 7000, 'vec__ngram_range': (1, 2)}</td>\n",
       "      <td>0.902425</td>\n",
       "      <td>0.938512</td>\n",
       "      <td>22</td>\n",
       "    </tr>\n",
       "    <tr>\n",
       "      <th>8</th>\n",
       "      <td>{'clf': LinearSVC(C=0.5, class_weight=None, dual=True, fit_intercept=True,\n",
       "          intercept_scaling=1, loss='squared_hinge', max_iter=1000,\n",
       "          multi_class='ovr', penalty='l2', random_state=None, tol=0.0001,\n",
       "          verbose=0), 'clf__C': 0.1, 'vec__max_features': 7000, 'vec__ngram_range': (1, 3)}</td>\n",
       "      <td>0.902400</td>\n",
       "      <td>0.930712</td>\n",
       "      <td>24</td>\n",
       "    </tr>\n",
       "    <tr>\n",
       "      <th>80</th>\n",
       "      <td>{'clf': LogisticRegression(C=1.0, class_weight=None, dual=False, fit_intercept=True,\n",
       "                   intercept_scaling=1, l1_ratio=None, max_iter=500,\n",
       "                   multi_class='auto', n_jobs=None, penalty='l2',\n",
       "                   random_state=None, solver='lbfgs', tol=0.0001, verbose=0,\n",
       "                   warm_start=False), 'clf__C': 1.0, 'clf__penalty': 'l2', 'clf__solver': 'newton-cg', 'vec__max_features': 7000, 'vec__ngram_range': (1, 3)}</td>\n",
       "      <td>0.902200</td>\n",
       "      <td>0.938012</td>\n",
       "      <td>25</td>\n",
       "    </tr>\n",
       "    <tr>\n",
       "      <th>86</th>\n",
       "      <td>{'clf': LogisticRegression(C=1.0, class_weight=None, dual=False, fit_intercept=True,\n",
       "                   intercept_scaling=1, l1_ratio=None, max_iter=500,\n",
       "                   multi_class='auto', n_jobs=None, penalty='l2',\n",
       "                   random_state=None, solver='lbfgs', tol=0.0001, verbose=0,\n",
       "                   warm_start=False), 'clf__C': 1.0, 'clf__penalty': 'l2', 'clf__solver': 'lbfgs', 'vec__max_features': 7000, 'vec__ngram_range': (1, 3)}</td>\n",
       "      <td>0.902200</td>\n",
       "      <td>0.938000</td>\n",
       "      <td>25</td>\n",
       "    </tr>\n",
       "    <tr>\n",
       "      <th>75</th>\n",
       "      <td>{'clf': LogisticRegression(C=1.0, class_weight=None, dual=False, fit_intercept=True,\n",
       "                   intercept_scaling=1, l1_ratio=None, max_iter=500,\n",
       "                   multi_class='auto', n_jobs=None, penalty='l2',\n",
       "                   random_state=None, solver='lbfgs', tol=0.0001, verbose=0,\n",
       "                   warm_start=False), 'clf__C': 10, 'clf__penalty': 'l2', 'clf__solver': 'liblinear', 'vec__max_features': 15000, 'vec__ngram_range': (1, 1)}</td>\n",
       "      <td>0.902200</td>\n",
       "      <td>0.977062</td>\n",
       "      <td>27</td>\n",
       "    </tr>\n",
       "    <tr>\n",
       "      <th>6</th>\n",
       "      <td>{'clf': LinearSVC(C=0.5, class_weight=None, dual=True, fit_intercept=True,\n",
       "          intercept_scaling=1, loss='squared_hinge', max_iter=1000,\n",
       "          multi_class='ovr', penalty='l2', random_state=None, tol=0.0001,\n",
       "          verbose=0), 'clf__C': 0.1, 'vec__max_features': 7000, 'vec__ngram_range': (1, 1)}</td>\n",
       "      <td>0.901725</td>\n",
       "      <td>0.931200</td>\n",
       "      <td>28</td>\n",
       "    </tr>\n",
       "    <tr>\n",
       "      <th>92</th>\n",
       "      <td>{'clf': LogisticRegression(C=1.0, class_weight=None, dual=False, fit_intercept=True,\n",
       "                   intercept_scaling=1, l1_ratio=None, max_iter=500,\n",
       "                   multi_class='auto', n_jobs=None, penalty='l2',\n",
       "                   random_state=None, solver='lbfgs', tol=0.0001, verbose=0,\n",
       "                   warm_start=False), 'clf__C': 1.0, 'clf__penalty': 'l2', 'clf__solver': 'liblinear', 'vec__max_features': 7000, 'vec__ngram_range': (1, 3)}</td>\n",
       "      <td>0.901700</td>\n",
       "      <td>0.929225</td>\n",
       "      <td>29</td>\n",
       "    </tr>\n",
       "    <tr>\n",
       "      <th>91</th>\n",
       "      <td>{'clf': LogisticRegression(C=1.0, class_weight=None, dual=False, fit_intercept=True,\n",
       "                   intercept_scaling=1, l1_ratio=None, max_iter=500,\n",
       "                   multi_class='auto', n_jobs=None, penalty='l2',\n",
       "                   random_state=None, solver='lbfgs', tol=0.0001, verbose=0,\n",
       "                   warm_start=False), 'clf__C': 1.0, 'clf__penalty': 'l2', 'clf__solver': 'liblinear', 'vec__max_features': 7000, 'vec__ngram_range': (1, 2)}</td>\n",
       "      <td>0.901550</td>\n",
       "      <td>0.929675</td>\n",
       "      <td>30</td>\n",
       "    </tr>\n",
       "    <tr>\n",
       "      <th>...</th>\n",
       "      <td>...</td>\n",
       "      <td>...</td>\n",
       "      <td>...</td>\n",
       "      <td>...</td>\n",
       "    </tr>\n",
       "    <tr>\n",
       "      <th>26</th>\n",
       "      <td>{'clf': LinearSVC(C=0.5, class_weight=None, dual=True, fit_intercept=True,\n",
       "          intercept_scaling=1, loss='squared_hinge', max_iter=1000,\n",
       "          multi_class='ovr', penalty='l2', random_state=None, tol=0.0001,\n",
       "          verbose=0), 'clf__C': 5, 'vec__max_features': 7000, 'vec__ngram_range': (1, 3)}</td>\n",
       "      <td>0.874825</td>\n",
       "      <td>0.986637</td>\n",
       "      <td>103</td>\n",
       "    </tr>\n",
       "    <tr>\n",
       "      <th>54</th>\n",
       "      <td>{'clf': LogisticRegression(C=1.0, class_weight=None, dual=False, fit_intercept=True,\n",
       "                   intercept_scaling=1, l1_ratio=None, max_iter=500,\n",
       "                   multi_class='auto', n_jobs=None, penalty='l2',\n",
       "                   random_state=None, solver='lbfgs', tol=0.0001, verbose=0,\n",
       "                   warm_start=False), 'clf__C': 100, 'clf__penalty': 'l2', 'clf__solver': 'liblinear', 'vec__max_features': 7000, 'vec__ngram_range': (1, 1)}</td>\n",
       "      <td>0.873825</td>\n",
       "      <td>0.993425</td>\n",
       "      <td>104</td>\n",
       "    </tr>\n",
       "    <tr>\n",
       "      <th>24</th>\n",
       "      <td>{'clf': LinearSVC(C=0.5, class_weight=None, dual=True, fit_intercept=True,\n",
       "          intercept_scaling=1, loss='squared_hinge', max_iter=1000,\n",
       "          multi_class='ovr', penalty='l2', random_state=None, tol=0.0001,\n",
       "          verbose=0), 'clf__C': 5, 'vec__max_features': 7000, 'vec__ngram_range': (1, 1)}</td>\n",
       "      <td>0.873550</td>\n",
       "      <td>0.987488</td>\n",
       "      <td>105</td>\n",
       "    </tr>\n",
       "    <tr>\n",
       "      <th>119</th>\n",
       "      <td>{'clf': LogisticRegression(C=1.0, class_weight=None, dual=False, fit_intercept=True,\n",
       "                   intercept_scaling=1, l1_ratio=None, max_iter=500,\n",
       "                   multi_class='auto', n_jobs=None, penalty='l2',\n",
       "                   random_state=None, solver='lbfgs', tol=0.0001, verbose=0,\n",
       "                   warm_start=False), 'clf__C': 0.01, 'clf__penalty': 'l2', 'clf__solver': 'newton-cg', 'vec__max_features': 15000, 'vec__ngram_range': (1, 3)}</td>\n",
       "      <td>0.871400</td>\n",
       "      <td>0.879737</td>\n",
       "      <td>106</td>\n",
       "    </tr>\n",
       "    <tr>\n",
       "      <th>125</th>\n",
       "      <td>{'clf': LogisticRegression(C=1.0, class_weight=None, dual=False, fit_intercept=True,\n",
       "                   intercept_scaling=1, l1_ratio=None, max_iter=500,\n",
       "                   multi_class='auto', n_jobs=None, penalty='l2',\n",
       "                   random_state=None, solver='lbfgs', tol=0.0001, verbose=0,\n",
       "                   warm_start=False), 'clf__C': 0.01, 'clf__penalty': 'l2', 'clf__solver': 'lbfgs', 'vec__max_features': 15000, 'vec__ngram_range': (1, 3)}</td>\n",
       "      <td>0.871400</td>\n",
       "      <td>0.879750</td>\n",
       "      <td>106</td>\n",
       "    </tr>\n",
       "    <tr>\n",
       "      <th>118</th>\n",
       "      <td>{'clf': LogisticRegression(C=1.0, class_weight=None, dual=False, fit_intercept=True,\n",
       "                   intercept_scaling=1, l1_ratio=None, max_iter=500,\n",
       "                   multi_class='auto', n_jobs=None, penalty='l2',\n",
       "                   random_state=None, solver='lbfgs', tol=0.0001, verbose=0,\n",
       "                   warm_start=False), 'clf__C': 0.01, 'clf__penalty': 'l2', 'clf__solver': 'newton-cg', 'vec__max_features': 15000, 'vec__ngram_range': (1, 2)}</td>\n",
       "      <td>0.870850</td>\n",
       "      <td>0.879300</td>\n",
       "      <td>108</td>\n",
       "    </tr>\n",
       "    <tr>\n",
       "      <th>124</th>\n",
       "      <td>{'clf': LogisticRegression(C=1.0, class_weight=None, dual=False, fit_intercept=True,\n",
       "                   intercept_scaling=1, l1_ratio=None, max_iter=500,\n",
       "                   multi_class='auto', n_jobs=None, penalty='l2',\n",
       "                   random_state=None, solver='lbfgs', tol=0.0001, verbose=0,\n",
       "                   warm_start=False), 'clf__C': 0.01, 'clf__penalty': 'l2', 'clf__solver': 'lbfgs', 'vec__max_features': 15000, 'vec__ngram_range': (1, 2)}</td>\n",
       "      <td>0.870850</td>\n",
       "      <td>0.879300</td>\n",
       "      <td>108</td>\n",
       "    </tr>\n",
       "    <tr>\n",
       "      <th>131</th>\n",
       "      <td>{'clf': LogisticRegression(C=1.0, class_weight=None, dual=False, fit_intercept=True,\n",
       "                   intercept_scaling=1, l1_ratio=None, max_iter=500,\n",
       "                   multi_class='auto', n_jobs=None, penalty='l2',\n",
       "                   random_state=None, solver='lbfgs', tol=0.0001, verbose=0,\n",
       "                   warm_start=False), 'clf__C': 0.01, 'clf__penalty': 'l2', 'clf__solver': 'liblinear', 'vec__max_features': 15000, 'vec__ngram_range': (1, 3)}</td>\n",
       "      <td>0.869500</td>\n",
       "      <td>0.877687</td>\n",
       "      <td>110</td>\n",
       "    </tr>\n",
       "    <tr>\n",
       "      <th>130</th>\n",
       "      <td>{'clf': LogisticRegression(C=1.0, class_weight=None, dual=False, fit_intercept=True,\n",
       "                   intercept_scaling=1, l1_ratio=None, max_iter=500,\n",
       "                   multi_class='auto', n_jobs=None, penalty='l2',\n",
       "                   random_state=None, solver='lbfgs', tol=0.0001, verbose=0,\n",
       "                   warm_start=False), 'clf__C': 0.01, 'clf__penalty': 'l2', 'clf__solver': 'liblinear', 'vec__max_features': 15000, 'vec__ngram_range': (1, 2)}</td>\n",
       "      <td>0.869175</td>\n",
       "      <td>0.877075</td>\n",
       "      <td>111</td>\n",
       "    </tr>\n",
       "    <tr>\n",
       "      <th>116</th>\n",
       "      <td>{'clf': LogisticRegression(C=1.0, class_weight=None, dual=False, fit_intercept=True,\n",
       "                   intercept_scaling=1, l1_ratio=None, max_iter=500,\n",
       "                   multi_class='auto', n_jobs=None, penalty='l2',\n",
       "                   random_state=None, solver='lbfgs', tol=0.0001, verbose=0,\n",
       "                   warm_start=False), 'clf__C': 0.01, 'clf__penalty': 'l2', 'clf__solver': 'newton-cg', 'vec__max_features': 7000, 'vec__ngram_range': (1, 3)}</td>\n",
       "      <td>0.868425</td>\n",
       "      <td>0.876062</td>\n",
       "      <td>112</td>\n",
       "    </tr>\n",
       "    <tr>\n",
       "      <th>122</th>\n",
       "      <td>{'clf': LogisticRegression(C=1.0, class_weight=None, dual=False, fit_intercept=True,\n",
       "                   intercept_scaling=1, l1_ratio=None, max_iter=500,\n",
       "                   multi_class='auto', n_jobs=None, penalty='l2',\n",
       "                   random_state=None, solver='lbfgs', tol=0.0001, verbose=0,\n",
       "                   warm_start=False), 'clf__C': 0.01, 'clf__penalty': 'l2', 'clf__solver': 'lbfgs', 'vec__max_features': 7000, 'vec__ngram_range': (1, 3)}</td>\n",
       "      <td>0.868425</td>\n",
       "      <td>0.876050</td>\n",
       "      <td>112</td>\n",
       "    </tr>\n",
       "    <tr>\n",
       "      <th>115</th>\n",
       "      <td>{'clf': LogisticRegression(C=1.0, class_weight=None, dual=False, fit_intercept=True,\n",
       "                   intercept_scaling=1, l1_ratio=None, max_iter=500,\n",
       "                   multi_class='auto', n_jobs=None, penalty='l2',\n",
       "                   random_state=None, solver='lbfgs', tol=0.0001, verbose=0,\n",
       "                   warm_start=False), 'clf__C': 0.01, 'clf__penalty': 'l2', 'clf__solver': 'newton-cg', 'vec__max_features': 7000, 'vec__ngram_range': (1, 2)}</td>\n",
       "      <td>0.868075</td>\n",
       "      <td>0.875862</td>\n",
       "      <td>114</td>\n",
       "    </tr>\n",
       "    <tr>\n",
       "      <th>121</th>\n",
       "      <td>{'clf': LogisticRegression(C=1.0, class_weight=None, dual=False, fit_intercept=True,\n",
       "                   intercept_scaling=1, l1_ratio=None, max_iter=500,\n",
       "                   multi_class='auto', n_jobs=None, penalty='l2',\n",
       "                   random_state=None, solver='lbfgs', tol=0.0001, verbose=0,\n",
       "                   warm_start=False), 'clf__C': 0.01, 'clf__penalty': 'l2', 'clf__solver': 'lbfgs', 'vec__max_features': 7000, 'vec__ngram_range': (1, 2)}</td>\n",
       "      <td>0.868025</td>\n",
       "      <td>0.875862</td>\n",
       "      <td>115</td>\n",
       "    </tr>\n",
       "    <tr>\n",
       "      <th>43</th>\n",
       "      <td>{'clf': LogisticRegression(C=1.0, class_weight=None, dual=False, fit_intercept=True,\n",
       "                   intercept_scaling=1, l1_ratio=None, max_iter=500,\n",
       "                   multi_class='auto', n_jobs=None, penalty='l2',\n",
       "                   random_state=None, solver='lbfgs', tol=0.0001, verbose=0,\n",
       "                   warm_start=False), 'clf__C': 100, 'clf__penalty': 'l2', 'clf__solver': 'newton-cg', 'vec__max_features': 7000, 'vec__ngram_range': (1, 2)}</td>\n",
       "      <td>0.868000</td>\n",
       "      <td>0.998913</td>\n",
       "      <td>116</td>\n",
       "    </tr>\n",
       "    <tr>\n",
       "      <th>49</th>\n",
       "      <td>{'clf': LogisticRegression(C=1.0, class_weight=None, dual=False, fit_intercept=True,\n",
       "                   intercept_scaling=1, l1_ratio=None, max_iter=500,\n",
       "                   multi_class='auto', n_jobs=None, penalty='l2',\n",
       "                   random_state=None, solver='lbfgs', tol=0.0001, verbose=0,\n",
       "                   warm_start=False), 'clf__C': 100, 'clf__penalty': 'l2', 'clf__solver': 'lbfgs', 'vec__max_features': 7000, 'vec__ngram_range': (1, 2)}</td>\n",
       "      <td>0.867875</td>\n",
       "      <td>0.998913</td>\n",
       "      <td>117</td>\n",
       "    </tr>\n",
       "    <tr>\n",
       "      <th>50</th>\n",
       "      <td>{'clf': LogisticRegression(C=1.0, class_weight=None, dual=False, fit_intercept=True,\n",
       "                   intercept_scaling=1, l1_ratio=None, max_iter=500,\n",
       "                   multi_class='auto', n_jobs=None, penalty='l2',\n",
       "                   random_state=None, solver='lbfgs', tol=0.0001, verbose=0,\n",
       "                   warm_start=False), 'clf__C': 100, 'clf__penalty': 'l2', 'clf__solver': 'lbfgs', 'vec__max_features': 7000, 'vec__ngram_range': (1, 3)}</td>\n",
       "      <td>0.867750</td>\n",
       "      <td>0.998700</td>\n",
       "      <td>118</td>\n",
       "    </tr>\n",
       "    <tr>\n",
       "      <th>44</th>\n",
       "      <td>{'clf': LogisticRegression(C=1.0, class_weight=None, dual=False, fit_intercept=True,\n",
       "                   intercept_scaling=1, l1_ratio=None, max_iter=500,\n",
       "                   multi_class='auto', n_jobs=None, penalty='l2',\n",
       "                   random_state=None, solver='lbfgs', tol=0.0001, verbose=0,\n",
       "                   warm_start=False), 'clf__C': 100, 'clf__penalty': 'l2', 'clf__solver': 'newton-cg', 'vec__max_features': 7000, 'vec__ngram_range': (1, 3)}</td>\n",
       "      <td>0.867575</td>\n",
       "      <td>0.998700</td>\n",
       "      <td>119</td>\n",
       "    </tr>\n",
       "    <tr>\n",
       "      <th>48</th>\n",
       "      <td>{'clf': LogisticRegression(C=1.0, class_weight=None, dual=False, fit_intercept=True,\n",
       "                   intercept_scaling=1, l1_ratio=None, max_iter=500,\n",
       "                   multi_class='auto', n_jobs=None, penalty='l2',\n",
       "                   random_state=None, solver='lbfgs', tol=0.0001, verbose=0,\n",
       "                   warm_start=False), 'clf__C': 100, 'clf__penalty': 'l2', 'clf__solver': 'lbfgs', 'vec__max_features': 7000, 'vec__ngram_range': (1, 1)}</td>\n",
       "      <td>0.866500</td>\n",
       "      <td>0.998763</td>\n",
       "      <td>120</td>\n",
       "    </tr>\n",
       "    <tr>\n",
       "      <th>42</th>\n",
       "      <td>{'clf': LogisticRegression(C=1.0, class_weight=None, dual=False, fit_intercept=True,\n",
       "                   intercept_scaling=1, l1_ratio=None, max_iter=500,\n",
       "                   multi_class='auto', n_jobs=None, penalty='l2',\n",
       "                   random_state=None, solver='lbfgs', tol=0.0001, verbose=0,\n",
       "                   warm_start=False), 'clf__C': 100, 'clf__penalty': 'l2', 'clf__solver': 'newton-cg', 'vec__max_features': 7000, 'vec__ngram_range': (1, 1)}</td>\n",
       "      <td>0.866500</td>\n",
       "      <td>0.998738</td>\n",
       "      <td>121</td>\n",
       "    </tr>\n",
       "    <tr>\n",
       "      <th>128</th>\n",
       "      <td>{'clf': LogisticRegression(C=1.0, class_weight=None, dual=False, fit_intercept=True,\n",
       "                   intercept_scaling=1, l1_ratio=None, max_iter=500,\n",
       "                   multi_class='auto', n_jobs=None, penalty='l2',\n",
       "                   random_state=None, solver='lbfgs', tol=0.0001, verbose=0,\n",
       "                   warm_start=False), 'clf__C': 0.01, 'clf__penalty': 'l2', 'clf__solver': 'liblinear', 'vec__max_features': 7000, 'vec__ngram_range': (1, 3)}</td>\n",
       "      <td>0.866375</td>\n",
       "      <td>0.873525</td>\n",
       "      <td>122</td>\n",
       "    </tr>\n",
       "    <tr>\n",
       "      <th>120</th>\n",
       "      <td>{'clf': LogisticRegression(C=1.0, class_weight=None, dual=False, fit_intercept=True,\n",
       "                   intercept_scaling=1, l1_ratio=None, max_iter=500,\n",
       "                   multi_class='auto', n_jobs=None, penalty='l2',\n",
       "                   random_state=None, solver='lbfgs', tol=0.0001, verbose=0,\n",
       "                   warm_start=False), 'clf__C': 0.01, 'clf__penalty': 'l2', 'clf__solver': 'lbfgs', 'vec__max_features': 7000, 'vec__ngram_range': (1, 1)}</td>\n",
       "      <td>0.866300</td>\n",
       "      <td>0.873587</td>\n",
       "      <td>123</td>\n",
       "    </tr>\n",
       "    <tr>\n",
       "      <th>114</th>\n",
       "      <td>{'clf': LogisticRegression(C=1.0, class_weight=None, dual=False, fit_intercept=True,\n",
       "                   intercept_scaling=1, l1_ratio=None, max_iter=500,\n",
       "                   multi_class='auto', n_jobs=None, penalty='l2',\n",
       "                   random_state=None, solver='lbfgs', tol=0.0001, verbose=0,\n",
       "                   warm_start=False), 'clf__C': 0.01, 'clf__penalty': 'l2', 'clf__solver': 'newton-cg', 'vec__max_features': 7000, 'vec__ngram_range': (1, 1)}</td>\n",
       "      <td>0.866300</td>\n",
       "      <td>0.873587</td>\n",
       "      <td>123</td>\n",
       "    </tr>\n",
       "    <tr>\n",
       "      <th>127</th>\n",
       "      <td>{'clf': LogisticRegression(C=1.0, class_weight=None, dual=False, fit_intercept=True,\n",
       "                   intercept_scaling=1, l1_ratio=None, max_iter=500,\n",
       "                   multi_class='auto', n_jobs=None, penalty='l2',\n",
       "                   random_state=None, solver='lbfgs', tol=0.0001, verbose=0,\n",
       "                   warm_start=False), 'clf__C': 0.01, 'clf__penalty': 'l2', 'clf__solver': 'liblinear', 'vec__max_features': 7000, 'vec__ngram_range': (1, 2)}</td>\n",
       "      <td>0.866175</td>\n",
       "      <td>0.873212</td>\n",
       "      <td>125</td>\n",
       "    </tr>\n",
       "    <tr>\n",
       "      <th>123</th>\n",
       "      <td>{'clf': LogisticRegression(C=1.0, class_weight=None, dual=False, fit_intercept=True,\n",
       "                   intercept_scaling=1, l1_ratio=None, max_iter=500,\n",
       "                   multi_class='auto', n_jobs=None, penalty='l2',\n",
       "                   random_state=None, solver='lbfgs', tol=0.0001, verbose=0,\n",
       "                   warm_start=False), 'clf__C': 0.01, 'clf__penalty': 'l2', 'clf__solver': 'lbfgs', 'vec__max_features': 15000, 'vec__ngram_range': (1, 1)}</td>\n",
       "      <td>0.866100</td>\n",
       "      <td>0.873750</td>\n",
       "      <td>126</td>\n",
       "    </tr>\n",
       "    <tr>\n",
       "      <th>117</th>\n",
       "      <td>{'clf': LogisticRegression(C=1.0, class_weight=None, dual=False, fit_intercept=True,\n",
       "                   intercept_scaling=1, l1_ratio=None, max_iter=500,\n",
       "                   multi_class='auto', n_jobs=None, penalty='l2',\n",
       "                   random_state=None, solver='lbfgs', tol=0.0001, verbose=0,\n",
       "                   warm_start=False), 'clf__C': 0.01, 'clf__penalty': 'l2', 'clf__solver': 'newton-cg', 'vec__max_features': 15000, 'vec__ngram_range': (1, 1)}</td>\n",
       "      <td>0.866100</td>\n",
       "      <td>0.873775</td>\n",
       "      <td>126</td>\n",
       "    </tr>\n",
       "    <tr>\n",
       "      <th>31</th>\n",
       "      <td>{'clf': LinearSVC(C=0.5, class_weight=None, dual=True, fit_intercept=True,\n",
       "          intercept_scaling=1, loss='squared_hinge', max_iter=1000,\n",
       "          multi_class='ovr', penalty='l2', random_state=None, tol=0.0001,\n",
       "          verbose=0), 'clf__C': 10, 'vec__max_features': 7000, 'vec__ngram_range': (1, 2)}</td>\n",
       "      <td>0.864775</td>\n",
       "      <td>0.994000</td>\n",
       "      <td>128</td>\n",
       "    </tr>\n",
       "    <tr>\n",
       "      <th>126</th>\n",
       "      <td>{'clf': LogisticRegression(C=1.0, class_weight=None, dual=False, fit_intercept=True,\n",
       "                   intercept_scaling=1, l1_ratio=None, max_iter=500,\n",
       "                   multi_class='auto', n_jobs=None, penalty='l2',\n",
       "                   random_state=None, solver='lbfgs', tol=0.0001, verbose=0,\n",
       "                   warm_start=False), 'clf__C': 0.01, 'clf__penalty': 'l2', 'clf__solver': 'liblinear', 'vec__max_features': 7000, 'vec__ngram_range': (1, 1)}</td>\n",
       "      <td>0.864400</td>\n",
       "      <td>0.870937</td>\n",
       "      <td>129</td>\n",
       "    </tr>\n",
       "    <tr>\n",
       "      <th>32</th>\n",
       "      <td>{'clf': LinearSVC(C=0.5, class_weight=None, dual=True, fit_intercept=True,\n",
       "          intercept_scaling=1, loss='squared_hinge', max_iter=1000,\n",
       "          multi_class='ovr', penalty='l2', random_state=None, tol=0.0001,\n",
       "          verbose=0), 'clf__C': 10, 'vec__max_features': 7000, 'vec__ngram_range': (1, 3)}</td>\n",
       "      <td>0.864325</td>\n",
       "      <td>0.993575</td>\n",
       "      <td>130</td>\n",
       "    </tr>\n",
       "    <tr>\n",
       "      <th>129</th>\n",
       "      <td>{'clf': LogisticRegression(C=1.0, class_weight=None, dual=False, fit_intercept=True,\n",
       "                   intercept_scaling=1, l1_ratio=None, max_iter=500,\n",
       "                   multi_class='auto', n_jobs=None, penalty='l2',\n",
       "                   random_state=None, solver='lbfgs', tol=0.0001, verbose=0,\n",
       "                   warm_start=False), 'clf__C': 0.01, 'clf__penalty': 'l2', 'clf__solver': 'liblinear', 'vec__max_features': 15000, 'vec__ngram_range': (1, 1)}</td>\n",
       "      <td>0.864175</td>\n",
       "      <td>0.871825</td>\n",
       "      <td>131</td>\n",
       "    </tr>\n",
       "    <tr>\n",
       "      <th>30</th>\n",
       "      <td>{'clf': LinearSVC(C=0.5, class_weight=None, dual=True, fit_intercept=True,\n",
       "          intercept_scaling=1, loss='squared_hinge', max_iter=1000,\n",
       "          multi_class='ovr', penalty='l2', random_state=None, tol=0.0001,\n",
       "          verbose=0), 'clf__C': 10, 'vec__max_features': 7000, 'vec__ngram_range': (1, 1)}</td>\n",
       "      <td>0.862750</td>\n",
       "      <td>0.993488</td>\n",
       "      <td>132</td>\n",
       "    </tr>\n",
       "  </tbody>\n",
       "</table>\n",
       "<p>132 rows × 4 columns</p>\n",
       "</div>"
      ],
      "text/plain": [
       "                                                                                                                                                                                                                                                                                                                                                                                                                                                                       params  \\\n",
       "16   {'clf': LinearSVC(C=0.5, class_weight=None, dual=True, fit_intercept=True,\n",
       "          intercept_scaling=1, loss='squared_hinge', max_iter=1000,\n",
       "          multi_class='ovr', penalty='l2', random_state=None, tol=0.0001,\n",
       "          verbose=0), 'clf__C': 0.5, 'vec__max_features': 15000, 'vec__ngram_range': (1, 2)}                                                                                                                                                      \n",
       "17   {'clf': LinearSVC(C=0.5, class_weight=None, dual=True, fit_intercept=True,\n",
       "          intercept_scaling=1, loss='squared_hinge', max_iter=1000,\n",
       "          multi_class='ovr', penalty='l2', random_state=None, tol=0.0001,\n",
       "          verbose=0), 'clf__C': 0.5, 'vec__max_features': 15000, 'vec__ngram_range': (1, 3)}                                                                                                                                                      \n",
       "15   {'clf': LinearSVC(C=0.5, class_weight=None, dual=True, fit_intercept=True,\n",
       "          intercept_scaling=1, loss='squared_hinge', max_iter=1000,\n",
       "          multi_class='ovr', penalty='l2', random_state=None, tol=0.0001,\n",
       "          verbose=0), 'clf__C': 0.5, 'vec__max_features': 15000, 'vec__ngram_range': (1, 1)}                                                                                                                                                      \n",
       "82   {'clf': LogisticRegression(C=1.0, class_weight=None, dual=False, fit_intercept=True,\n",
       "                   intercept_scaling=1, l1_ratio=None, max_iter=500,\n",
       "                   multi_class='auto', n_jobs=None, penalty='l2',\n",
       "                   random_state=None, solver='lbfgs', tol=0.0001, verbose=0,\n",
       "                   warm_start=False), 'clf__C': 1.0, 'clf__penalty': 'l2', 'clf__solver': 'newton-cg', 'vec__max_features': 15000, 'vec__ngram_range': (1, 2)}    \n",
       "88   {'clf': LogisticRegression(C=1.0, class_weight=None, dual=False, fit_intercept=True,\n",
       "                   intercept_scaling=1, l1_ratio=None, max_iter=500,\n",
       "                   multi_class='auto', n_jobs=None, penalty='l2',\n",
       "                   random_state=None, solver='lbfgs', tol=0.0001, verbose=0,\n",
       "                   warm_start=False), 'clf__C': 1.0, 'clf__penalty': 'l2', 'clf__solver': 'lbfgs', 'vec__max_features': 15000, 'vec__ngram_range': (1, 2)}        \n",
       "11   {'clf': LinearSVC(C=0.5, class_weight=None, dual=True, fit_intercept=True,\n",
       "          intercept_scaling=1, loss='squared_hinge', max_iter=1000,\n",
       "          multi_class='ovr', penalty='l2', random_state=None, tol=0.0001,\n",
       "          verbose=0), 'clf__C': 0.1, 'vec__max_features': 15000, 'vec__ngram_range': (1, 3)}                                                                                                                                                      \n",
       "83   {'clf': LogisticRegression(C=1.0, class_weight=None, dual=False, fit_intercept=True,\n",
       "                   intercept_scaling=1, l1_ratio=None, max_iter=500,\n",
       "                   multi_class='auto', n_jobs=None, penalty='l2',\n",
       "                   random_state=None, solver='lbfgs', tol=0.0001, verbose=0,\n",
       "                   warm_start=False), 'clf__C': 1.0, 'clf__penalty': 'l2', 'clf__solver': 'newton-cg', 'vec__max_features': 15000, 'vec__ngram_range': (1, 3)}    \n",
       "89   {'clf': LogisticRegression(C=1.0, class_weight=None, dual=False, fit_intercept=True,\n",
       "                   intercept_scaling=1, l1_ratio=None, max_iter=500,\n",
       "                   multi_class='auto', n_jobs=None, penalty='l2',\n",
       "                   random_state=None, solver='lbfgs', tol=0.0001, verbose=0,\n",
       "                   warm_start=False), 'clf__C': 1.0, 'clf__penalty': 'l2', 'clf__solver': 'lbfgs', 'vec__max_features': 15000, 'vec__ngram_range': (1, 3)}        \n",
       "10   {'clf': LinearSVC(C=0.5, class_weight=None, dual=True, fit_intercept=True,\n",
       "          intercept_scaling=1, loss='squared_hinge', max_iter=1000,\n",
       "          multi_class='ovr', penalty='l2', random_state=None, tol=0.0001,\n",
       "          verbose=0), 'clf__C': 0.1, 'vec__max_features': 15000, 'vec__ngram_range': (1, 2)}                                                                                                                                                      \n",
       "81   {'clf': LogisticRegression(C=1.0, class_weight=None, dual=False, fit_intercept=True,\n",
       "                   intercept_scaling=1, l1_ratio=None, max_iter=500,\n",
       "                   multi_class='auto', n_jobs=None, penalty='l2',\n",
       "                   random_state=None, solver='lbfgs', tol=0.0001, verbose=0,\n",
       "                   warm_start=False), 'clf__C': 1.0, 'clf__penalty': 'l2', 'clf__solver': 'newton-cg', 'vec__max_features': 15000, 'vec__ngram_range': (1, 1)}    \n",
       "87   {'clf': LogisticRegression(C=1.0, class_weight=None, dual=False, fit_intercept=True,\n",
       "                   intercept_scaling=1, l1_ratio=None, max_iter=500,\n",
       "                   multi_class='auto', n_jobs=None, penalty='l2',\n",
       "                   random_state=None, solver='lbfgs', tol=0.0001, verbose=0,\n",
       "                   warm_start=False), 'clf__C': 1.0, 'clf__penalty': 'l2', 'clf__solver': 'lbfgs', 'vec__max_features': 15000, 'vec__ngram_range': (1, 1)}        \n",
       "77   {'clf': LogisticRegression(C=1.0, class_weight=None, dual=False, fit_intercept=True,\n",
       "                   intercept_scaling=1, l1_ratio=None, max_iter=500,\n",
       "                   multi_class='auto', n_jobs=None, penalty='l2',\n",
       "                   random_state=None, solver='lbfgs', tol=0.0001, verbose=0,\n",
       "                   warm_start=False), 'clf__C': 10, 'clf__penalty': 'l2', 'clf__solver': 'liblinear', 'vec__max_features': 15000, 'vec__ngram_range': (1, 3)}     \n",
       "9    {'clf': LinearSVC(C=0.5, class_weight=None, dual=True, fit_intercept=True,\n",
       "          intercept_scaling=1, loss='squared_hinge', max_iter=1000,\n",
       "          multi_class='ovr', penalty='l2', random_state=None, tol=0.0001,\n",
       "          verbose=0), 'clf__C': 0.1, 'vec__max_features': 15000, 'vec__ngram_range': (1, 1)}                                                                                                                                                      \n",
       "76   {'clf': LogisticRegression(C=1.0, class_weight=None, dual=False, fit_intercept=True,\n",
       "                   intercept_scaling=1, l1_ratio=None, max_iter=500,\n",
       "                   multi_class='auto', n_jobs=None, penalty='l2',\n",
       "                   random_state=None, solver='lbfgs', tol=0.0001, verbose=0,\n",
       "                   warm_start=False), 'clf__C': 10, 'clf__penalty': 'l2', 'clf__solver': 'liblinear', 'vec__max_features': 15000, 'vec__ngram_range': (1, 2)}     \n",
       "94   {'clf': LogisticRegression(C=1.0, class_weight=None, dual=False, fit_intercept=True,\n",
       "                   intercept_scaling=1, l1_ratio=None, max_iter=500,\n",
       "                   multi_class='auto', n_jobs=None, penalty='l2',\n",
       "                   random_state=None, solver='lbfgs', tol=0.0001, verbose=0,\n",
       "                   warm_start=False), 'clf__C': 1.0, 'clf__penalty': 'l2', 'clf__solver': 'liblinear', 'vec__max_features': 15000, 'vec__ngram_range': (1, 2)}    \n",
       "95   {'clf': LogisticRegression(C=1.0, class_weight=None, dual=False, fit_intercept=True,\n",
       "                   intercept_scaling=1, l1_ratio=None, max_iter=500,\n",
       "                   multi_class='auto', n_jobs=None, penalty='l2',\n",
       "                   random_state=None, solver='lbfgs', tol=0.0001, verbose=0,\n",
       "                   warm_start=False), 'clf__C': 1.0, 'clf__penalty': 'l2', 'clf__solver': 'liblinear', 'vec__max_features': 15000, 'vec__ngram_range': (1, 3)}    \n",
       "22   {'clf': LinearSVC(C=0.5, class_weight=None, dual=True, fit_intercept=True,\n",
       "          intercept_scaling=1, loss='squared_hinge', max_iter=1000,\n",
       "          multi_class='ovr', penalty='l2', random_state=None, tol=0.0001,\n",
       "          verbose=0), 'clf__C': 1, 'vec__max_features': 15000, 'vec__ngram_range': (1, 2)}                                                                                                                                                        \n",
       "23   {'clf': LinearSVC(C=0.5, class_weight=None, dual=True, fit_intercept=True,\n",
       "          intercept_scaling=1, loss='squared_hinge', max_iter=1000,\n",
       "          multi_class='ovr', penalty='l2', random_state=None, tol=0.0001,\n",
       "          verbose=0), 'clf__C': 1, 'vec__max_features': 15000, 'vec__ngram_range': (1, 3)}                                                                                                                                                        \n",
       "93   {'clf': LogisticRegression(C=1.0, class_weight=None, dual=False, fit_intercept=True,\n",
       "                   intercept_scaling=1, l1_ratio=None, max_iter=500,\n",
       "                   multi_class='auto', n_jobs=None, penalty='l2',\n",
       "                   random_state=None, solver='lbfgs', tol=0.0001, verbose=0,\n",
       "                   warm_start=False), 'clf__C': 1.0, 'clf__penalty': 'l2', 'clf__solver': 'liblinear', 'vec__max_features': 15000, 'vec__ngram_range': (1, 1)}    \n",
       "21   {'clf': LinearSVC(C=0.5, class_weight=None, dual=True, fit_intercept=True,\n",
       "          intercept_scaling=1, loss='squared_hinge', max_iter=1000,\n",
       "          multi_class='ovr', penalty='l2', random_state=None, tol=0.0001,\n",
       "          verbose=0), 'clf__C': 1, 'vec__max_features': 15000, 'vec__ngram_range': (1, 1)}                                                                                                                                                        \n",
       "7    {'clf': LinearSVC(C=0.5, class_weight=None, dual=True, fit_intercept=True,\n",
       "          intercept_scaling=1, loss='squared_hinge', max_iter=1000,\n",
       "          multi_class='ovr', penalty='l2', random_state=None, tol=0.0001,\n",
       "          verbose=0), 'clf__C': 0.1, 'vec__max_features': 7000, 'vec__ngram_range': (1, 2)}                                                                                                                                                       \n",
       "79   {'clf': LogisticRegression(C=1.0, class_weight=None, dual=False, fit_intercept=True,\n",
       "                   intercept_scaling=1, l1_ratio=None, max_iter=500,\n",
       "                   multi_class='auto', n_jobs=None, penalty='l2',\n",
       "                   random_state=None, solver='lbfgs', tol=0.0001, verbose=0,\n",
       "                   warm_start=False), 'clf__C': 1.0, 'clf__penalty': 'l2', 'clf__solver': 'newton-cg', 'vec__max_features': 7000, 'vec__ngram_range': (1, 2)}     \n",
       "85   {'clf': LogisticRegression(C=1.0, class_weight=None, dual=False, fit_intercept=True,\n",
       "                   intercept_scaling=1, l1_ratio=None, max_iter=500,\n",
       "                   multi_class='auto', n_jobs=None, penalty='l2',\n",
       "                   random_state=None, solver='lbfgs', tol=0.0001, verbose=0,\n",
       "                   warm_start=False), 'clf__C': 1.0, 'clf__penalty': 'l2', 'clf__solver': 'lbfgs', 'vec__max_features': 7000, 'vec__ngram_range': (1, 2)}         \n",
       "8    {'clf': LinearSVC(C=0.5, class_weight=None, dual=True, fit_intercept=True,\n",
       "          intercept_scaling=1, loss='squared_hinge', max_iter=1000,\n",
       "          multi_class='ovr', penalty='l2', random_state=None, tol=0.0001,\n",
       "          verbose=0), 'clf__C': 0.1, 'vec__max_features': 7000, 'vec__ngram_range': (1, 3)}                                                                                                                                                       \n",
       "80   {'clf': LogisticRegression(C=1.0, class_weight=None, dual=False, fit_intercept=True,\n",
       "                   intercept_scaling=1, l1_ratio=None, max_iter=500,\n",
       "                   multi_class='auto', n_jobs=None, penalty='l2',\n",
       "                   random_state=None, solver='lbfgs', tol=0.0001, verbose=0,\n",
       "                   warm_start=False), 'clf__C': 1.0, 'clf__penalty': 'l2', 'clf__solver': 'newton-cg', 'vec__max_features': 7000, 'vec__ngram_range': (1, 3)}     \n",
       "86   {'clf': LogisticRegression(C=1.0, class_weight=None, dual=False, fit_intercept=True,\n",
       "                   intercept_scaling=1, l1_ratio=None, max_iter=500,\n",
       "                   multi_class='auto', n_jobs=None, penalty='l2',\n",
       "                   random_state=None, solver='lbfgs', tol=0.0001, verbose=0,\n",
       "                   warm_start=False), 'clf__C': 1.0, 'clf__penalty': 'l2', 'clf__solver': 'lbfgs', 'vec__max_features': 7000, 'vec__ngram_range': (1, 3)}         \n",
       "75   {'clf': LogisticRegression(C=1.0, class_weight=None, dual=False, fit_intercept=True,\n",
       "                   intercept_scaling=1, l1_ratio=None, max_iter=500,\n",
       "                   multi_class='auto', n_jobs=None, penalty='l2',\n",
       "                   random_state=None, solver='lbfgs', tol=0.0001, verbose=0,\n",
       "                   warm_start=False), 'clf__C': 10, 'clf__penalty': 'l2', 'clf__solver': 'liblinear', 'vec__max_features': 15000, 'vec__ngram_range': (1, 1)}     \n",
       "6    {'clf': LinearSVC(C=0.5, class_weight=None, dual=True, fit_intercept=True,\n",
       "          intercept_scaling=1, loss='squared_hinge', max_iter=1000,\n",
       "          multi_class='ovr', penalty='l2', random_state=None, tol=0.0001,\n",
       "          verbose=0), 'clf__C': 0.1, 'vec__max_features': 7000, 'vec__ngram_range': (1, 1)}                                                                                                                                                       \n",
       "92   {'clf': LogisticRegression(C=1.0, class_weight=None, dual=False, fit_intercept=True,\n",
       "                   intercept_scaling=1, l1_ratio=None, max_iter=500,\n",
       "                   multi_class='auto', n_jobs=None, penalty='l2',\n",
       "                   random_state=None, solver='lbfgs', tol=0.0001, verbose=0,\n",
       "                   warm_start=False), 'clf__C': 1.0, 'clf__penalty': 'l2', 'clf__solver': 'liblinear', 'vec__max_features': 7000, 'vec__ngram_range': (1, 3)}     \n",
       "91   {'clf': LogisticRegression(C=1.0, class_weight=None, dual=False, fit_intercept=True,\n",
       "                   intercept_scaling=1, l1_ratio=None, max_iter=500,\n",
       "                   multi_class='auto', n_jobs=None, penalty='l2',\n",
       "                   random_state=None, solver='lbfgs', tol=0.0001, verbose=0,\n",
       "                   warm_start=False), 'clf__C': 1.0, 'clf__penalty': 'l2', 'clf__solver': 'liblinear', 'vec__max_features': 7000, 'vec__ngram_range': (1, 2)}     \n",
       "..                                                                                                                                                                                                                                                                                                                                                                                                                                                                      ...     \n",
       "26   {'clf': LinearSVC(C=0.5, class_weight=None, dual=True, fit_intercept=True,\n",
       "          intercept_scaling=1, loss='squared_hinge', max_iter=1000,\n",
       "          multi_class='ovr', penalty='l2', random_state=None, tol=0.0001,\n",
       "          verbose=0), 'clf__C': 5, 'vec__max_features': 7000, 'vec__ngram_range': (1, 3)}                                                                                                                                                         \n",
       "54   {'clf': LogisticRegression(C=1.0, class_weight=None, dual=False, fit_intercept=True,\n",
       "                   intercept_scaling=1, l1_ratio=None, max_iter=500,\n",
       "                   multi_class='auto', n_jobs=None, penalty='l2',\n",
       "                   random_state=None, solver='lbfgs', tol=0.0001, verbose=0,\n",
       "                   warm_start=False), 'clf__C': 100, 'clf__penalty': 'l2', 'clf__solver': 'liblinear', 'vec__max_features': 7000, 'vec__ngram_range': (1, 1)}     \n",
       "24   {'clf': LinearSVC(C=0.5, class_weight=None, dual=True, fit_intercept=True,\n",
       "          intercept_scaling=1, loss='squared_hinge', max_iter=1000,\n",
       "          multi_class='ovr', penalty='l2', random_state=None, tol=0.0001,\n",
       "          verbose=0), 'clf__C': 5, 'vec__max_features': 7000, 'vec__ngram_range': (1, 1)}                                                                                                                                                         \n",
       "119  {'clf': LogisticRegression(C=1.0, class_weight=None, dual=False, fit_intercept=True,\n",
       "                   intercept_scaling=1, l1_ratio=None, max_iter=500,\n",
       "                   multi_class='auto', n_jobs=None, penalty='l2',\n",
       "                   random_state=None, solver='lbfgs', tol=0.0001, verbose=0,\n",
       "                   warm_start=False), 'clf__C': 0.01, 'clf__penalty': 'l2', 'clf__solver': 'newton-cg', 'vec__max_features': 15000, 'vec__ngram_range': (1, 3)}   \n",
       "125  {'clf': LogisticRegression(C=1.0, class_weight=None, dual=False, fit_intercept=True,\n",
       "                   intercept_scaling=1, l1_ratio=None, max_iter=500,\n",
       "                   multi_class='auto', n_jobs=None, penalty='l2',\n",
       "                   random_state=None, solver='lbfgs', tol=0.0001, verbose=0,\n",
       "                   warm_start=False), 'clf__C': 0.01, 'clf__penalty': 'l2', 'clf__solver': 'lbfgs', 'vec__max_features': 15000, 'vec__ngram_range': (1, 3)}       \n",
       "118  {'clf': LogisticRegression(C=1.0, class_weight=None, dual=False, fit_intercept=True,\n",
       "                   intercept_scaling=1, l1_ratio=None, max_iter=500,\n",
       "                   multi_class='auto', n_jobs=None, penalty='l2',\n",
       "                   random_state=None, solver='lbfgs', tol=0.0001, verbose=0,\n",
       "                   warm_start=False), 'clf__C': 0.01, 'clf__penalty': 'l2', 'clf__solver': 'newton-cg', 'vec__max_features': 15000, 'vec__ngram_range': (1, 2)}   \n",
       "124  {'clf': LogisticRegression(C=1.0, class_weight=None, dual=False, fit_intercept=True,\n",
       "                   intercept_scaling=1, l1_ratio=None, max_iter=500,\n",
       "                   multi_class='auto', n_jobs=None, penalty='l2',\n",
       "                   random_state=None, solver='lbfgs', tol=0.0001, verbose=0,\n",
       "                   warm_start=False), 'clf__C': 0.01, 'clf__penalty': 'l2', 'clf__solver': 'lbfgs', 'vec__max_features': 15000, 'vec__ngram_range': (1, 2)}       \n",
       "131  {'clf': LogisticRegression(C=1.0, class_weight=None, dual=False, fit_intercept=True,\n",
       "                   intercept_scaling=1, l1_ratio=None, max_iter=500,\n",
       "                   multi_class='auto', n_jobs=None, penalty='l2',\n",
       "                   random_state=None, solver='lbfgs', tol=0.0001, verbose=0,\n",
       "                   warm_start=False), 'clf__C': 0.01, 'clf__penalty': 'l2', 'clf__solver': 'liblinear', 'vec__max_features': 15000, 'vec__ngram_range': (1, 3)}   \n",
       "130  {'clf': LogisticRegression(C=1.0, class_weight=None, dual=False, fit_intercept=True,\n",
       "                   intercept_scaling=1, l1_ratio=None, max_iter=500,\n",
       "                   multi_class='auto', n_jobs=None, penalty='l2',\n",
       "                   random_state=None, solver='lbfgs', tol=0.0001, verbose=0,\n",
       "                   warm_start=False), 'clf__C': 0.01, 'clf__penalty': 'l2', 'clf__solver': 'liblinear', 'vec__max_features': 15000, 'vec__ngram_range': (1, 2)}   \n",
       "116  {'clf': LogisticRegression(C=1.0, class_weight=None, dual=False, fit_intercept=True,\n",
       "                   intercept_scaling=1, l1_ratio=None, max_iter=500,\n",
       "                   multi_class='auto', n_jobs=None, penalty='l2',\n",
       "                   random_state=None, solver='lbfgs', tol=0.0001, verbose=0,\n",
       "                   warm_start=False), 'clf__C': 0.01, 'clf__penalty': 'l2', 'clf__solver': 'newton-cg', 'vec__max_features': 7000, 'vec__ngram_range': (1, 3)}    \n",
       "122  {'clf': LogisticRegression(C=1.0, class_weight=None, dual=False, fit_intercept=True,\n",
       "                   intercept_scaling=1, l1_ratio=None, max_iter=500,\n",
       "                   multi_class='auto', n_jobs=None, penalty='l2',\n",
       "                   random_state=None, solver='lbfgs', tol=0.0001, verbose=0,\n",
       "                   warm_start=False), 'clf__C': 0.01, 'clf__penalty': 'l2', 'clf__solver': 'lbfgs', 'vec__max_features': 7000, 'vec__ngram_range': (1, 3)}        \n",
       "115  {'clf': LogisticRegression(C=1.0, class_weight=None, dual=False, fit_intercept=True,\n",
       "                   intercept_scaling=1, l1_ratio=None, max_iter=500,\n",
       "                   multi_class='auto', n_jobs=None, penalty='l2',\n",
       "                   random_state=None, solver='lbfgs', tol=0.0001, verbose=0,\n",
       "                   warm_start=False), 'clf__C': 0.01, 'clf__penalty': 'l2', 'clf__solver': 'newton-cg', 'vec__max_features': 7000, 'vec__ngram_range': (1, 2)}    \n",
       "121  {'clf': LogisticRegression(C=1.0, class_weight=None, dual=False, fit_intercept=True,\n",
       "                   intercept_scaling=1, l1_ratio=None, max_iter=500,\n",
       "                   multi_class='auto', n_jobs=None, penalty='l2',\n",
       "                   random_state=None, solver='lbfgs', tol=0.0001, verbose=0,\n",
       "                   warm_start=False), 'clf__C': 0.01, 'clf__penalty': 'l2', 'clf__solver': 'lbfgs', 'vec__max_features': 7000, 'vec__ngram_range': (1, 2)}        \n",
       "43   {'clf': LogisticRegression(C=1.0, class_weight=None, dual=False, fit_intercept=True,\n",
       "                   intercept_scaling=1, l1_ratio=None, max_iter=500,\n",
       "                   multi_class='auto', n_jobs=None, penalty='l2',\n",
       "                   random_state=None, solver='lbfgs', tol=0.0001, verbose=0,\n",
       "                   warm_start=False), 'clf__C': 100, 'clf__penalty': 'l2', 'clf__solver': 'newton-cg', 'vec__max_features': 7000, 'vec__ngram_range': (1, 2)}     \n",
       "49   {'clf': LogisticRegression(C=1.0, class_weight=None, dual=False, fit_intercept=True,\n",
       "                   intercept_scaling=1, l1_ratio=None, max_iter=500,\n",
       "                   multi_class='auto', n_jobs=None, penalty='l2',\n",
       "                   random_state=None, solver='lbfgs', tol=0.0001, verbose=0,\n",
       "                   warm_start=False), 'clf__C': 100, 'clf__penalty': 'l2', 'clf__solver': 'lbfgs', 'vec__max_features': 7000, 'vec__ngram_range': (1, 2)}         \n",
       "50   {'clf': LogisticRegression(C=1.0, class_weight=None, dual=False, fit_intercept=True,\n",
       "                   intercept_scaling=1, l1_ratio=None, max_iter=500,\n",
       "                   multi_class='auto', n_jobs=None, penalty='l2',\n",
       "                   random_state=None, solver='lbfgs', tol=0.0001, verbose=0,\n",
       "                   warm_start=False), 'clf__C': 100, 'clf__penalty': 'l2', 'clf__solver': 'lbfgs', 'vec__max_features': 7000, 'vec__ngram_range': (1, 3)}         \n",
       "44   {'clf': LogisticRegression(C=1.0, class_weight=None, dual=False, fit_intercept=True,\n",
       "                   intercept_scaling=1, l1_ratio=None, max_iter=500,\n",
       "                   multi_class='auto', n_jobs=None, penalty='l2',\n",
       "                   random_state=None, solver='lbfgs', tol=0.0001, verbose=0,\n",
       "                   warm_start=False), 'clf__C': 100, 'clf__penalty': 'l2', 'clf__solver': 'newton-cg', 'vec__max_features': 7000, 'vec__ngram_range': (1, 3)}     \n",
       "48   {'clf': LogisticRegression(C=1.0, class_weight=None, dual=False, fit_intercept=True,\n",
       "                   intercept_scaling=1, l1_ratio=None, max_iter=500,\n",
       "                   multi_class='auto', n_jobs=None, penalty='l2',\n",
       "                   random_state=None, solver='lbfgs', tol=0.0001, verbose=0,\n",
       "                   warm_start=False), 'clf__C': 100, 'clf__penalty': 'l2', 'clf__solver': 'lbfgs', 'vec__max_features': 7000, 'vec__ngram_range': (1, 1)}         \n",
       "42   {'clf': LogisticRegression(C=1.0, class_weight=None, dual=False, fit_intercept=True,\n",
       "                   intercept_scaling=1, l1_ratio=None, max_iter=500,\n",
       "                   multi_class='auto', n_jobs=None, penalty='l2',\n",
       "                   random_state=None, solver='lbfgs', tol=0.0001, verbose=0,\n",
       "                   warm_start=False), 'clf__C': 100, 'clf__penalty': 'l2', 'clf__solver': 'newton-cg', 'vec__max_features': 7000, 'vec__ngram_range': (1, 1)}     \n",
       "128  {'clf': LogisticRegression(C=1.0, class_weight=None, dual=False, fit_intercept=True,\n",
       "                   intercept_scaling=1, l1_ratio=None, max_iter=500,\n",
       "                   multi_class='auto', n_jobs=None, penalty='l2',\n",
       "                   random_state=None, solver='lbfgs', tol=0.0001, verbose=0,\n",
       "                   warm_start=False), 'clf__C': 0.01, 'clf__penalty': 'l2', 'clf__solver': 'liblinear', 'vec__max_features': 7000, 'vec__ngram_range': (1, 3)}    \n",
       "120  {'clf': LogisticRegression(C=1.0, class_weight=None, dual=False, fit_intercept=True,\n",
       "                   intercept_scaling=1, l1_ratio=None, max_iter=500,\n",
       "                   multi_class='auto', n_jobs=None, penalty='l2',\n",
       "                   random_state=None, solver='lbfgs', tol=0.0001, verbose=0,\n",
       "                   warm_start=False), 'clf__C': 0.01, 'clf__penalty': 'l2', 'clf__solver': 'lbfgs', 'vec__max_features': 7000, 'vec__ngram_range': (1, 1)}        \n",
       "114  {'clf': LogisticRegression(C=1.0, class_weight=None, dual=False, fit_intercept=True,\n",
       "                   intercept_scaling=1, l1_ratio=None, max_iter=500,\n",
       "                   multi_class='auto', n_jobs=None, penalty='l2',\n",
       "                   random_state=None, solver='lbfgs', tol=0.0001, verbose=0,\n",
       "                   warm_start=False), 'clf__C': 0.01, 'clf__penalty': 'l2', 'clf__solver': 'newton-cg', 'vec__max_features': 7000, 'vec__ngram_range': (1, 1)}    \n",
       "127  {'clf': LogisticRegression(C=1.0, class_weight=None, dual=False, fit_intercept=True,\n",
       "                   intercept_scaling=1, l1_ratio=None, max_iter=500,\n",
       "                   multi_class='auto', n_jobs=None, penalty='l2',\n",
       "                   random_state=None, solver='lbfgs', tol=0.0001, verbose=0,\n",
       "                   warm_start=False), 'clf__C': 0.01, 'clf__penalty': 'l2', 'clf__solver': 'liblinear', 'vec__max_features': 7000, 'vec__ngram_range': (1, 2)}    \n",
       "123  {'clf': LogisticRegression(C=1.0, class_weight=None, dual=False, fit_intercept=True,\n",
       "                   intercept_scaling=1, l1_ratio=None, max_iter=500,\n",
       "                   multi_class='auto', n_jobs=None, penalty='l2',\n",
       "                   random_state=None, solver='lbfgs', tol=0.0001, verbose=0,\n",
       "                   warm_start=False), 'clf__C': 0.01, 'clf__penalty': 'l2', 'clf__solver': 'lbfgs', 'vec__max_features': 15000, 'vec__ngram_range': (1, 1)}       \n",
       "117  {'clf': LogisticRegression(C=1.0, class_weight=None, dual=False, fit_intercept=True,\n",
       "                   intercept_scaling=1, l1_ratio=None, max_iter=500,\n",
       "                   multi_class='auto', n_jobs=None, penalty='l2',\n",
       "                   random_state=None, solver='lbfgs', tol=0.0001, verbose=0,\n",
       "                   warm_start=False), 'clf__C': 0.01, 'clf__penalty': 'l2', 'clf__solver': 'newton-cg', 'vec__max_features': 15000, 'vec__ngram_range': (1, 1)}   \n",
       "31   {'clf': LinearSVC(C=0.5, class_weight=None, dual=True, fit_intercept=True,\n",
       "          intercept_scaling=1, loss='squared_hinge', max_iter=1000,\n",
       "          multi_class='ovr', penalty='l2', random_state=None, tol=0.0001,\n",
       "          verbose=0), 'clf__C': 10, 'vec__max_features': 7000, 'vec__ngram_range': (1, 2)}                                                                                                                                                        \n",
       "126  {'clf': LogisticRegression(C=1.0, class_weight=None, dual=False, fit_intercept=True,\n",
       "                   intercept_scaling=1, l1_ratio=None, max_iter=500,\n",
       "                   multi_class='auto', n_jobs=None, penalty='l2',\n",
       "                   random_state=None, solver='lbfgs', tol=0.0001, verbose=0,\n",
       "                   warm_start=False), 'clf__C': 0.01, 'clf__penalty': 'l2', 'clf__solver': 'liblinear', 'vec__max_features': 7000, 'vec__ngram_range': (1, 1)}    \n",
       "32   {'clf': LinearSVC(C=0.5, class_weight=None, dual=True, fit_intercept=True,\n",
       "          intercept_scaling=1, loss='squared_hinge', max_iter=1000,\n",
       "          multi_class='ovr', penalty='l2', random_state=None, tol=0.0001,\n",
       "          verbose=0), 'clf__C': 10, 'vec__max_features': 7000, 'vec__ngram_range': (1, 3)}                                                                                                                                                        \n",
       "129  {'clf': LogisticRegression(C=1.0, class_weight=None, dual=False, fit_intercept=True,\n",
       "                   intercept_scaling=1, l1_ratio=None, max_iter=500,\n",
       "                   multi_class='auto', n_jobs=None, penalty='l2',\n",
       "                   random_state=None, solver='lbfgs', tol=0.0001, verbose=0,\n",
       "                   warm_start=False), 'clf__C': 0.01, 'clf__penalty': 'l2', 'clf__solver': 'liblinear', 'vec__max_features': 15000, 'vec__ngram_range': (1, 1)}   \n",
       "30   {'clf': LinearSVC(C=0.5, class_weight=None, dual=True, fit_intercept=True,\n",
       "          intercept_scaling=1, loss='squared_hinge', max_iter=1000,\n",
       "          multi_class='ovr', penalty='l2', random_state=None, tol=0.0001,\n",
       "          verbose=0), 'clf__C': 10, 'vec__max_features': 7000, 'vec__ngram_range': (1, 1)}                                                                                                                                                        \n",
       "\n",
       "     mean_test_score  mean_train_score  rank_test_score  \n",
       "16   0.907825         0.967550          1                \n",
       "17   0.907200         0.967150          2                \n",
       "15   0.906625         0.967262          3                \n",
       "82   0.906200         0.946075          4                \n",
       "88   0.906125         0.946075          5                \n",
       "11   0.906050         0.938262          6                \n",
       "83   0.905925         0.945913          7                \n",
       "89   0.905900         0.945900          8                \n",
       "10   0.905875         0.938737          9                \n",
       "81   0.905025         0.946075          10               \n",
       "87   0.905000         0.946088          11               \n",
       "77   0.904925         0.978100          12               \n",
       "9    0.904700         0.938112          13               \n",
       "76   0.904250         0.978662          14               \n",
       "94   0.904225         0.936587          15               \n",
       "95   0.904200         0.936412          16               \n",
       "22   0.903975         0.980275          17               \n",
       "23   0.903825         0.979837          18               \n",
       "93   0.903000         0.936300          19               \n",
       "21   0.902650         0.979000          20               \n",
       "7    0.902550         0.931225          21               \n",
       "79   0.902425         0.938500          22               \n",
       "85   0.902425         0.938512          22               \n",
       "8    0.902400         0.930712          24               \n",
       "80   0.902200         0.938012          25               \n",
       "86   0.902200         0.938000          25               \n",
       "75   0.902200         0.977062          27               \n",
       "6    0.901725         0.931200          28               \n",
       "92   0.901700         0.929225          29               \n",
       "91   0.901550         0.929675          30               \n",
       "..        ...              ...          ..               \n",
       "26   0.874825         0.986637          103              \n",
       "54   0.873825         0.993425          104              \n",
       "24   0.873550         0.987488          105              \n",
       "119  0.871400         0.879737          106              \n",
       "125  0.871400         0.879750          106              \n",
       "118  0.870850         0.879300          108              \n",
       "124  0.870850         0.879300          108              \n",
       "131  0.869500         0.877687          110              \n",
       "130  0.869175         0.877075          111              \n",
       "116  0.868425         0.876062          112              \n",
       "122  0.868425         0.876050          112              \n",
       "115  0.868075         0.875862          114              \n",
       "121  0.868025         0.875862          115              \n",
       "43   0.868000         0.998913          116              \n",
       "49   0.867875         0.998913          117              \n",
       "50   0.867750         0.998700          118              \n",
       "44   0.867575         0.998700          119              \n",
       "48   0.866500         0.998763          120              \n",
       "42   0.866500         0.998738          121              \n",
       "128  0.866375         0.873525          122              \n",
       "120  0.866300         0.873587          123              \n",
       "114  0.866300         0.873587          123              \n",
       "127  0.866175         0.873212          125              \n",
       "123  0.866100         0.873750          126              \n",
       "117  0.866100         0.873775          126              \n",
       "31   0.864775         0.994000          128              \n",
       "126  0.864400         0.870937          129              \n",
       "32   0.864325         0.993575          130              \n",
       "129  0.864175         0.871825          131              \n",
       "30   0.862750         0.993488          132              \n",
       "\n",
       "[132 rows x 4 columns]"
      ]
     },
     "execution_count": 1105,
     "metadata": {},
     "output_type": "execute_result"
    }
   ],
   "source": [
    "search_m = GridSearchCV(pipe, param, cv = 3, return_train_score=True, scoring = 'accuracy', n_jobs=-1)\n",
    "search_m.fit(clean_data, y_train)\n",
    "\n",
    "df_m = pd.DataFrame.from_dict(search_m.cv_results_)\n",
    "df_m[['params', 'mean_test_score', 'mean_train_score', 'rank_test_score']].sort_values('rank_test_score', ascending=True)"
   ]
  },
  {
   "cell_type": "markdown",
   "metadata": {},
   "source": [
    "Because of the large hyperparameter space (576 different combinations), hyperparameter tuning has been performed with the Randomised search tool"
   ]
  },
  {
   "cell_type": "code",
   "execution_count": 810,
   "metadata": {
    "scrolled": true
   },
   "outputs": [
    {
     "data": {
      "text/html": [
       "<div>\n",
       "<style scoped>\n",
       "    .dataframe tbody tr th:only-of-type {\n",
       "        vertical-align: middle;\n",
       "    }\n",
       "\n",
       "    .dataframe tbody tr th {\n",
       "        vertical-align: top;\n",
       "    }\n",
       "\n",
       "    .dataframe thead th {\n",
       "        text-align: right;\n",
       "    }\n",
       "</style>\n",
       "<table border=\"1\" class=\"dataframe\">\n",
       "  <thead>\n",
       "    <tr style=\"text-align: right;\">\n",
       "      <th></th>\n",
       "      <th>params</th>\n",
       "      <th>mean_test_score</th>\n",
       "      <th>mean_train_score</th>\n",
       "      <th>rank_test_score</th>\n",
       "    </tr>\n",
       "  </thead>\n",
       "  <tbody>\n",
       "    <tr>\n",
       "      <th>6</th>\n",
       "      <td>{'vec__ngram_range': (1, 2), 'vec__max_features': 15000, 'r_f__n_estimators': 400, 'r_f__min_samples_split': 10, 'r_f__min_samples_leaf': 1, 'r_f__max_features': 'auto', 'r_f__max_depth': None, 'r_f__criterion': 'gini'}</td>\n",
       "      <td>0.863800</td>\n",
       "      <td>0.997763</td>\n",
       "      <td>1</td>\n",
       "    </tr>\n",
       "    <tr>\n",
       "      <th>3</th>\n",
       "      <td>{'vec__ngram_range': (1, 1), 'vec__max_features': 15000, 'r_f__n_estimators': 100, 'r_f__min_samples_split': 10, 'r_f__min_samples_leaf': 2, 'r_f__max_features': 'auto', 'r_f__max_depth': None, 'r_f__criterion': 'gini'}</td>\n",
       "      <td>0.859325</td>\n",
       "      <td>0.931350</td>\n",
       "      <td>2</td>\n",
       "    </tr>\n",
       "    <tr>\n",
       "      <th>7</th>\n",
       "      <td>{'vec__ngram_range': (1, 3), 'vec__max_features': 7000, 'r_f__n_estimators': 200, 'r_f__min_samples_split': 10, 'r_f__min_samples_leaf': 2, 'r_f__max_features': 'auto', 'r_f__max_depth': None, 'r_f__criterion': 'entropy'}</td>\n",
       "      <td>0.857075</td>\n",
       "      <td>0.936613</td>\n",
       "      <td>3</td>\n",
       "    </tr>\n",
       "    <tr>\n",
       "      <th>9</th>\n",
       "      <td>{'vec__ngram_range': (1, 2), 'vec__max_features': 7000, 'r_f__n_estimators': 200, 'r_f__min_samples_split': 2, 'r_f__min_samples_leaf': 1, 'r_f__max_features': 'auto', 'r_f__max_depth': None, 'r_f__criterion': 'entropy'}</td>\n",
       "      <td>0.856975</td>\n",
       "      <td>0.999913</td>\n",
       "      <td>4</td>\n",
       "    </tr>\n",
       "    <tr>\n",
       "      <th>5</th>\n",
       "      <td>{'vec__ngram_range': (1, 1), 'vec__max_features': 7000, 'r_f__n_estimators': 200, 'r_f__min_samples_split': 10, 'r_f__min_samples_leaf': 1, 'r_f__max_features': 'sqrt', 'r_f__max_depth': 60, 'r_f__criterion': 'gini'}</td>\n",
       "      <td>0.837325</td>\n",
       "      <td>0.934212</td>\n",
       "      <td>5</td>\n",
       "    </tr>\n",
       "    <tr>\n",
       "      <th>8</th>\n",
       "      <td>{'vec__ngram_range': (1, 2), 'vec__max_features': 15000, 'r_f__n_estimators': 10, 'r_f__min_samples_split': 2, 'r_f__min_samples_leaf': 4, 'r_f__max_features': 'sqrt', 'r_f__max_depth': None, 'r_f__criterion': 'gini'}</td>\n",
       "      <td>0.836150</td>\n",
       "      <td>0.871800</td>\n",
       "      <td>6</td>\n",
       "    </tr>\n",
       "    <tr>\n",
       "      <th>1</th>\n",
       "      <td>{'vec__ngram_range': (1, 1), 'vec__max_features': 7000, 'r_f__n_estimators': 100, 'r_f__min_samples_split': 5, 'r_f__min_samples_leaf': 4, 'r_f__max_features': 'auto', 'r_f__max_depth': 90, 'r_f__criterion': 'gini'}</td>\n",
       "      <td>0.833525</td>\n",
       "      <td>0.858413</td>\n",
       "      <td>7</td>\n",
       "    </tr>\n",
       "    <tr>\n",
       "      <th>4</th>\n",
       "      <td>{'vec__ngram_range': (1, 3), 'vec__max_features': 15000, 'r_f__n_estimators': 100, 'r_f__min_samples_split': 10, 'r_f__min_samples_leaf': 1, 'r_f__max_features': 'sqrt', 'r_f__max_depth': 30, 'r_f__criterion': 'gini'}</td>\n",
       "      <td>0.825000</td>\n",
       "      <td>0.873400</td>\n",
       "      <td>8</td>\n",
       "    </tr>\n",
       "    <tr>\n",
       "      <th>2</th>\n",
       "      <td>{'vec__ngram_range': (1, 2), 'vec__max_features': 7000, 'r_f__n_estimators': 200, 'r_f__min_samples_split': 5, 'r_f__min_samples_leaf': 2, 'r_f__max_features': 'sqrt', 'r_f__max_depth': 30, 'r_f__criterion': 'gini'}</td>\n",
       "      <td>0.816775</td>\n",
       "      <td>0.847963</td>\n",
       "      <td>9</td>\n",
       "    </tr>\n",
       "    <tr>\n",
       "      <th>0</th>\n",
       "      <td>{'vec__ngram_range': (1, 2), 'vec__max_features': 7000, 'r_f__n_estimators': 400, 'r_f__min_samples_split': 5, 'r_f__min_samples_leaf': 4, 'r_f__max_features': 'auto', 'r_f__max_depth': 30, 'r_f__criterion': 'gini'}</td>\n",
       "      <td>0.809750</td>\n",
       "      <td>0.827625</td>\n",
       "      <td>10</td>\n",
       "    </tr>\n",
       "  </tbody>\n",
       "</table>\n",
       "</div>"
      ],
      "text/plain": [
       "                                                                                                                                                                                                                          params  \\\n",
       "6  {'vec__ngram_range': (1, 2), 'vec__max_features': 15000, 'r_f__n_estimators': 400, 'r_f__min_samples_split': 10, 'r_f__min_samples_leaf': 1, 'r_f__max_features': 'auto', 'r_f__max_depth': None, 'r_f__criterion': 'gini'}     \n",
       "3  {'vec__ngram_range': (1, 1), 'vec__max_features': 15000, 'r_f__n_estimators': 100, 'r_f__min_samples_split': 10, 'r_f__min_samples_leaf': 2, 'r_f__max_features': 'auto', 'r_f__max_depth': None, 'r_f__criterion': 'gini'}     \n",
       "7  {'vec__ngram_range': (1, 3), 'vec__max_features': 7000, 'r_f__n_estimators': 200, 'r_f__min_samples_split': 10, 'r_f__min_samples_leaf': 2, 'r_f__max_features': 'auto', 'r_f__max_depth': None, 'r_f__criterion': 'entropy'}   \n",
       "9  {'vec__ngram_range': (1, 2), 'vec__max_features': 7000, 'r_f__n_estimators': 200, 'r_f__min_samples_split': 2, 'r_f__min_samples_leaf': 1, 'r_f__max_features': 'auto', 'r_f__max_depth': None, 'r_f__criterion': 'entropy'}    \n",
       "5  {'vec__ngram_range': (1, 1), 'vec__max_features': 7000, 'r_f__n_estimators': 200, 'r_f__min_samples_split': 10, 'r_f__min_samples_leaf': 1, 'r_f__max_features': 'sqrt', 'r_f__max_depth': 60, 'r_f__criterion': 'gini'}        \n",
       "8  {'vec__ngram_range': (1, 2), 'vec__max_features': 15000, 'r_f__n_estimators': 10, 'r_f__min_samples_split': 2, 'r_f__min_samples_leaf': 4, 'r_f__max_features': 'sqrt', 'r_f__max_depth': None, 'r_f__criterion': 'gini'}       \n",
       "1  {'vec__ngram_range': (1, 1), 'vec__max_features': 7000, 'r_f__n_estimators': 100, 'r_f__min_samples_split': 5, 'r_f__min_samples_leaf': 4, 'r_f__max_features': 'auto', 'r_f__max_depth': 90, 'r_f__criterion': 'gini'}         \n",
       "4  {'vec__ngram_range': (1, 3), 'vec__max_features': 15000, 'r_f__n_estimators': 100, 'r_f__min_samples_split': 10, 'r_f__min_samples_leaf': 1, 'r_f__max_features': 'sqrt', 'r_f__max_depth': 30, 'r_f__criterion': 'gini'}       \n",
       "2  {'vec__ngram_range': (1, 2), 'vec__max_features': 7000, 'r_f__n_estimators': 200, 'r_f__min_samples_split': 5, 'r_f__min_samples_leaf': 2, 'r_f__max_features': 'sqrt', 'r_f__max_depth': 30, 'r_f__criterion': 'gini'}         \n",
       "0  {'vec__ngram_range': (1, 2), 'vec__max_features': 7000, 'r_f__n_estimators': 400, 'r_f__min_samples_split': 5, 'r_f__min_samples_leaf': 4, 'r_f__max_features': 'auto', 'r_f__max_depth': 30, 'r_f__criterion': 'gini'}         \n",
       "\n",
       "   mean_test_score  mean_train_score  rank_test_score  \n",
       "6  0.863800         0.997763          1                \n",
       "3  0.859325         0.931350          2                \n",
       "7  0.857075         0.936613          3                \n",
       "9  0.856975         0.999913          4                \n",
       "5  0.837325         0.934212          5                \n",
       "8  0.836150         0.871800          6                \n",
       "1  0.833525         0.858413          7                \n",
       "4  0.825000         0.873400          8                \n",
       "2  0.816775         0.847963          9                \n",
       "0  0.809750         0.827625          10               "
      ]
     },
     "execution_count": 810,
     "metadata": {},
     "output_type": "execute_result"
    }
   ],
   "source": [
    "search_rf = RandomizedSearchCV(pipe_rf, random_grid, cv = 3, return_train_score=True, scoring = 'accuracy', n_jobs=-1)\n",
    "search_rf.fit(clean_data, y_train)\n",
    "\n",
    "df_rf = pd.DataFrame.from_dict(search_rf.cv_results_)\n",
    "df_rf[['params', 'mean_test_score', 'mean_train_score', 'rank_test_score']].sort_values(by=['rank_test_score'], ascending=True)"
   ]
  },
  {
   "cell_type": "markdown",
   "metadata": {},
   "source": [
    "The highest score of about 90,8% obtained with Linear SVM algorithm, unigram and bigram sequence of words, size of vocabulary equal 15,000 and regularization hyperparameter (C) equal 0.5"
   ]
  },
  {
   "cell_type": "code",
   "execution_count": 854,
   "metadata": {},
   "outputs": [
    {
     "name": "stdout",
     "output_type": "stream",
     "text": [
      "Maximum validation accuracy\n",
      " \n",
      "SVM: 0.9078249605107684,\n",
      "Random Forest: 0.8637999829551761,\n",
      "Naive Bayes: 0.8999749461263155\n"
     ]
    },
    {
     "data": {
      "image/png": "[encoded data removed]",
      "text/plain": [
       "<Figure size 432x288 with 1 Axes>"
      ]
     },
     "metadata": {
      "needs_background": "light"
     },
     "output_type": "display_data"
    }
   ],
   "source": [
    "svm_max = search_svm.cv_results_.get('mean_test_score').max()\n",
    "r_f_max = search_rf.cv_results_.get('mean_test_score').max() \n",
    "NB_max =  search_NB.cv_results_.get('mean_test_score').max()\n",
    "print ('Maximum validation accuracy\\n \\nSVM: {},\\nRandom Forest: {},\\nNaive Bayes: {}'.format(svm_max, r_f_max, NB_max))\n",
    "\n",
    "\n",
    "Accuracy = [svm_max, r_f_max, NB_max]\n",
    "Models = ['SVM','Random_Forest','Naive_Bayes']\n",
    "Accuracy_pos = np.arange(len(Models))\n",
    "plt.bar(Accuracy_pos, Accuracy)\n",
    "plt.xticks(Accuracy_pos, Models)\n",
    "plt.title('comparing the accuracy of each model')\n",
    "plt.show()"
   ]
  },
  {
   "cell_type": "markdown",
   "metadata": {},
   "source": [
    "Fit and transform the training text data with obtained earlier best parameters of ngram_range and max_features"
   ]
  },
  {
   "cell_type": "code",
   "execution_count": null,
   "metadata": {},
   "outputs": [],
   "source": [
    "#Loading vectorizer\n",
    "#vectorizer = joblib.load('tfidf_vectroizer.pkl')"
   ]
  },
  {
   "cell_type": "code",
   "execution_count": 139,
   "metadata": {},
   "outputs": [],
   "source": [
    "vectorizer = TfidfVectorizer(ngram_range=(1,2), max_features = 15000)\n",
    "X_train = vectorizer.fit_transform(clean_data)"
   ]
  },
  {
   "cell_type": "code",
   "execution_count": 149,
   "metadata": {},
   "outputs": [
    {
     "data": {
      "text/plain": [
       "['tfidf_vectroizer.pkl']"
      ]
     },
     "execution_count": 149,
     "metadata": {},
     "output_type": "execute_result"
    }
   ],
   "source": [
    "#saving vectorizer\n",
    "#joblib.dump(vectorizer, 'tfidf_vectroizer.pkl')"
   ]
  },
  {
   "cell_type": "markdown",
   "metadata": {},
   "source": [
    "Applying best value for the 'C' hyperparameter"
   ]
  },
  {
   "cell_type": "code",
   "execution_count": 143,
   "metadata": {},
   "outputs": [],
   "source": [
    "best_mod_tf_idf = LinearSVC(C = 0.5)"
   ]
  },
  {
   "cell_type": "markdown",
   "metadata": {},
   "source": [
    "Training time estimation for the Linear SVM algorithm "
   ]
  },
  {
   "cell_type": "code",
   "execution_count": 144,
   "metadata": {},
   "outputs": [
    {
     "name": "stdout",
     "output_type": "stream",
     "text": [
      "507 ms ± 53.4 ms per loop (mean ± std. dev. of 7 runs, 1 loop each)\n"
     ]
    }
   ],
   "source": [
    "%%timeit\n",
    "best_mod_tf_idf.fit(X_train, y_train)"
   ]
  },
  {
   "cell_type": "code",
   "execution_count": 145,
   "metadata": {},
   "outputs": [
    {
     "data": {
      "text/plain": [
       "['best_model_tfidf.pkl']"
      ]
     },
     "execution_count": 145,
     "metadata": {},
     "output_type": "execute_result"
    }
   ],
   "source": [
    "#saving best model\n",
    "joblib_file = \"best_model_tfidf.pkl\"\n",
    "joblib.dump(best_mod_tf_idf, joblib_file)"
   ]
  },
  {
   "cell_type": "markdown",
   "metadata": {},
   "source": [
    "# Evaluation on the test dataset"
   ]
  },
  {
   "cell_type": "markdown",
   "metadata": {},
   "source": [
    "Transforming the test dataset with the same TF-IDF vectorizer and applying trained earlier Linear SVM model, the accuracy score around 91% have been achieved:"
   ]
  },
  {
   "cell_type": "code",
   "execution_count": null,
   "metadata": {},
   "outputs": [],
   "source": [
    "#Loading vectorizer\n",
    "#vectorizer = joblib.load('tfidf_vectroizer.pkl')"
   ]
  },
  {
   "cell_type": "code",
   "execution_count": 183,
   "metadata": {},
   "outputs": [],
   "source": [
    "X_test = vectorizer.transform(clean_test_data)"
   ]
  },
  {
   "cell_type": "code",
   "execution_count": null,
   "metadata": {},
   "outputs": [],
   "source": [
    "#loading best model\n",
    "model_tfidf = joblib.load('best_model_tfidf.pkl')"
   ]
  },
  {
   "cell_type": "code",
   "execution_count": 14,
   "metadata": {},
   "outputs": [
    {
     "name": "stdout",
     "output_type": "stream",
     "text": [
      "Test dataset accuracy score: 0.91275 \n",
      "\n",
      "              precision    recall  f1-score   support\n",
      "\n",
      "       world       0.93      0.90      0.92      1000\n",
      "      sports       0.95      0.98      0.97      1000\n",
      "    business       0.89      0.87      0.88      1000\n",
      "    sci/tech       0.88      0.89      0.89      1000\n",
      "\n",
      "    accuracy                           0.91      4000\n",
      "   macro avg       0.91      0.91      0.91      4000\n",
      "weighted avg       0.91      0.91      0.91      4000\n",
      "\n"
     ]
    },
    {
     "data": {
      "image/png": "[encoded data removed]",
      "text/plain": [
       "<Figure size 864x648 with 1 Axes>"
      ]
     },
     "metadata": {
      "needs_background": "light"
     },
     "output_type": "display_data"
    }
   ],
   "source": [
    "#Creating the list with unique category names\n",
    "aux_df = test_data[['category_name', 'label']].drop_duplicates().sort_values('label')\n",
    "\n",
    "#prediction on the cleaned test dataset\n",
    "y_pred = model_tfidf.predict(X_test)\n",
    "\n",
    "print('Test dataset accuracy score:', accuracy_score(y_test, y_pred),'\\n')\n",
    "print(classification_report(y_test, y_pred, target_names=aux_df['category_name'].values))\n",
    "\n",
    "con = confusion_matrix(y_test, y_pred)\n",
    "plt.figure(figsize=(12,9))\n",
    "ax_cor_b = sns.heatmap(con.T, square=False, annot=True, fmt='d', cbar=False,\n",
    "            xticklabels=aux_df['category_name'].values, \n",
    "            yticklabels=aux_df['category_name'].values,\n",
    "            cmap=\"Blues\")\n",
    "plt.xlabel('true label')\n",
    "plt.ylabel('predicted label')\n",
    "plt.title('Confusion matrix')\n",
    "plt.show()\n",
    "\n",
    "\n",
    "\n"
   ]
  },
  {
   "cell_type": "markdown",
   "metadata": {},
   "source": [
    "The most accurately classified news topic is sports with f1-score equal to 0.97. More classification errors of the model occurred on the business and sci/tech topics both performing with 0.88 f1-score."
   ]
  },
  {
   "cell_type": "markdown",
   "metadata": {},
   "source": [
    "# Text Representation with Word2vec"
   ]
  },
  {
   "cell_type": "markdown",
   "metadata": {},
   "source": [
    "Word2vec is a word embedding technique with the general assumption that words in the corpus share similar contexts and meaning and therefore might have similar vector representation. "
   ]
  },
  {
   "cell_type": "markdown",
   "metadata": {},
   "source": [
    "The first step is to tokenised input text and transform it to list of lists format"
   ]
  },
  {
   "cell_type": "code",
   "execution_count": 42,
   "metadata": {},
   "outputs": [],
   "source": [
    "sent = [row.split() for row in clean_data]"
   ]
  },
  {
   "cell_type": "markdown",
   "metadata": {},
   "source": [
    "Since the overall size of corpus is relatively small (53202 unique words) and dataset was previously cleaned from stopwords, parameters such as size = 100 (the number of transformed vector’s dimensions), window = 5 (the maximum number of surrounding words to analyze), min_count = 1 (minimum count of words to proceed) and sg =1 (Skip-gram architecture) were selected for text transformation. "
   ]
  },
  {
   "cell_type": "code",
   "execution_count": null,
   "metadata": {},
   "outputs": [],
   "source": [
    "#Load the Word2vec model\n",
    "#model_w2v = Word2Vec.load(\"word2vec.model\")\n",
    "#model_w2v.init_sims(replace = True)"
   ]
  },
  {
   "cell_type": "code",
   "execution_count": 47,
   "metadata": {},
   "outputs": [
    {
     "data": {
      "text/plain": [
       "(53202, 100)"
      ]
     },
     "execution_count": 47,
     "metadata": {},
     "output_type": "execute_result"
    }
   ],
   "source": [
    "w_model_sg = Word2Vec(sent, size = 100, window = 5, min_count = 1, sg = 1)\n",
    "w_model_sg.init_sims(replace = True)\n",
    "w_model_sg.wv.vectors.shape"
   ]
  },
  {
   "cell_type": "code",
   "execution_count": 84,
   "metadata": {},
   "outputs": [],
   "source": [
    "#saving model\n",
    "#w_model_sg.save(\"word2vec.model\")"
   ]
  },
  {
   "cell_type": "code",
   "execution_count": 49,
   "metadata": {},
   "outputs": [],
   "source": [
    "#saving weights\n",
    "filename = 'embedding_sg_word2vec.txt'\n",
    "w_model_sg.wv.save_word2vec_format(filename, binary=False)"
   ]
  },
  {
   "cell_type": "markdown",
   "metadata": {},
   "source": [
    "Each word in the vocabulary transformed to the 100-dimensinal vector"
   ]
  },
  {
   "cell_type": "code",
   "execution_count": 48,
   "metadata": {},
   "outputs": [],
   "source": [
    "ww = dict(zip(w_model_sg.wv.index2word, w_model_sg.wv.vectors))"
   ]
  },
  {
   "cell_type": "markdown",
   "metadata": {},
   "source": [
    "Expressions below demonstrate the 100-dimensional representation of the‘computer’ word and the most relevant context words estimated with cosine similarity. "
   ]
  },
  {
   "cell_type": "code",
   "execution_count": 1422,
   "metadata": {},
   "outputs": [
    {
     "data": {
      "text/plain": [
       "array([ 0.06388441, -0.08133382, -0.13676958,  0.10582004,  0.06654062,\n",
       "       -0.04945404,  0.07931393,  0.08044662, -0.19894224, -0.04958534,\n",
       "        0.08718207, -0.20376472, -0.02995504, -0.11479849, -0.09902271,\n",
       "        0.08149272, -0.02656364, -0.00617725, -0.01187406, -0.13356061,\n",
       "        0.05705734, -0.0504782 ,  0.21819203,  0.14567892,  0.11150423,\n",
       "        0.22995125, -0.13097145, -0.04231865, -0.05635202,  0.01697813,\n",
       "        0.09151268,  0.08142684,  0.09050979, -0.07395874,  0.02765094,\n",
       "       -0.10545062, -0.07931811,  0.00223664, -0.00463745, -0.06310347,\n",
       "        0.019389  ,  0.17977041,  0.17574738,  0.04723195,  0.0760856 ,\n",
       "       -0.00848501,  0.12051502,  0.15135323, -0.02821335, -0.07651005,\n",
       "       -0.05400637, -0.06249378, -0.03090185, -0.1311977 ,  0.13637047,\n",
       "       -0.01506626, -0.06128463,  0.07527307,  0.03063625, -0.02353359,\n",
       "       -0.135863  ,  0.11806294,  0.00530435, -0.06856249,  0.13208763,\n",
       "        0.02626646, -0.05626931, -0.24905108, -0.03653201, -0.05046824,\n",
       "       -0.01047773, -0.00566028,  0.03844219, -0.16854328, -0.18983673,\n",
       "       -0.00351789, -0.03189205, -0.00683244, -0.07032195, -0.11395986,\n",
       "        0.15294251, -0.10210698,  0.05696347,  0.02076365, -0.00205236,\n",
       "       -0.05633365,  0.00996392,  0.03992171,  0.09938776,  0.10060339,\n",
       "        0.06184255,  0.03764948,  0.06169024, -0.07659867,  0.02831339,\n",
       "       -0.15962256, -0.02482823, -0.03540504, -0.31427738,  0.04544675],\n",
       "      dtype=float32)"
      ]
     },
     "execution_count": 1422,
     "metadata": {},
     "output_type": "execute_result"
    }
   ],
   "source": [
    "    w_model_sg.wv['computer']"
   ]
  },
  {
   "cell_type": "code",
   "execution_count": 1420,
   "metadata": {},
   "outputs": [
    {
     "data": {
      "text/plain": [
       "[('computers', 0.7709169387817383),\n",
       " ('powerbook', 0.7192236185073853),\n",
       " ('hacker', 0.7096250057220459),\n",
       " ('personal', 0.7085227966308594),\n",
       " ('ibook', 0.6991468667984009),\n",
       " ('macintosh', 0.6917257308959961),\n",
       " ('aapl', 0.6909997463226318),\n",
       " ('pc', 0.6901720762252808),\n",
       " ('cupertino', 0.6838955879211426),\n",
       " ('accessed', 0.6793504953384399)]"
      ]
     },
     "execution_count": 1420,
     "metadata": {},
     "output_type": "execute_result"
    }
   ],
   "source": [
    "w_model_sg.wv.most_similar('computer')"
   ]
  },
  {
   "cell_type": "markdown",
   "metadata": {},
   "source": [
    "Furthermore, it is possible to calculate a similarity between two words "
   ]
  },
  {
   "cell_type": "code",
   "execution_count": 119,
   "metadata": {},
   "outputs": [
    {
     "data": {
      "text/plain": [
       "0.6137135"
      ]
     },
     "execution_count": 119,
     "metadata": {},
     "output_type": "execute_result"
    }
   ],
   "source": [
    "w_model_sg.wv.similarity('ibm', 'computer')"
   ]
  },
  {
   "cell_type": "markdown",
   "metadata": {},
   "source": [
    "The expression below excludes an irrelevant word from the list of three"
   ]
  },
  {
   "cell_type": "code",
   "execution_count": 120,
   "metadata": {},
   "outputs": [
    {
     "data": {
      "text/plain": [
       "'computer'"
      ]
     },
     "execution_count": 120,
     "metadata": {},
     "output_type": "execute_result"
    }
   ],
   "source": [
    "w_model_sg.wv.doesnt_match(['computer', 'paris', 'berlin'])"
   ]
  },
  {
   "cell_type": "markdown",
   "metadata": {},
   "source": [
    "# Training ML algorithms"
   ]
  },
  {
   "cell_type": "markdown",
   "metadata": {},
   "source": [
    "One common approach to performing classification with ML algorithms is to calculate the average feature vector for each list of words in the training dataset. "
   ]
  },
  {
   "cell_type": "markdown",
   "metadata": {},
   "source": [
    "Word averaging has been performed with defined by https://gist.github.com/susanli2016/dae5c9ff3cea5744822384881fc619dd#file-word_averaging\n",
    "function, which iterates through each row of the input text, extracts 100-dimensional vectorial representation and then calculates mean value by each column (axis=0)"
   ]
  },
  {
   "cell_type": "code",
   "execution_count": 81,
   "metadata": {},
   "outputs": [],
   "source": [
    "def word_averaging(wv, words):\n",
    "    all_words, mean = set(), []\n",
    "    \n",
    "    for word in words:\n",
    "        if isinstance(word, np.ndarray):\n",
    "            mean.append(word)\n",
    "        elif word in wv.vocab:\n",
    "            mean.append(wv.vectors_norm[wv.vocab[word].index])\n",
    "            all_words.add(wv.vocab[word].index)\n",
    "\n",
    "    if not mean:\n",
    "        logging.warning(\"cannot compute similarity with no input %s\", words)\n",
    "        return np.zeros(wv.vector_size,)\n",
    "\n",
    "    mean = gensim.matutils.unitvec(np.array(mean).mean(axis=0)).astype(np.float32)\n",
    "    return mean\n",
    "\n",
    "def  word_averaging_list(wv, text_list):\n",
    "    return np.vstack([word_averaging(wv, post) for post in text_list ])"
   ]
  },
  {
   "cell_type": "code",
   "execution_count": 95,
   "metadata": {},
   "outputs": [
    {
     "data": {
      "text/plain": [
       "(40000, 100)"
      ]
     },
     "execution_count": 95,
     "metadata": {},
     "output_type": "execute_result"
    }
   ],
   "source": [
    "X_train_word_average_sg = word_averaging_list(w_model_sg.wv, np.array(sent))\n",
    "X_train_word_average_sg.shape"
   ]
  },
  {
   "cell_type": "markdown",
   "metadata": {},
   "source": [
    "After applying defined averaging function, transformed dataset with dimensions (40000,100) is ready to be processed through Linear SVM, Logistic Regression and Random Forest ML algorithms. Naïve Bayes has been excluded due to negative values in the training dataset"
   ]
  },
  {
   "cell_type": "code",
   "execution_count": 83,
   "metadata": {},
   "outputs": [],
   "source": [
    "params = [{ 'clf': [LinearSVC(max_iter = 7000)],\n",
    "          'clf__C':[0.5, 1, 10, 50, 100, 500]},\n",
    "          \n",
    "          {'clf': [LogisticRegression(max_iter = 9000)],\n",
    "           'clf__solver': ['newton-cg', 'lbfgs', 'liblinear'],\n",
    "           'clf__C': [1, 100, 500, 800]\n",
    "          }]\n",
    "\n",
    "# RandomForest Hyperparameters\n",
    "n_estimators = [100, 250, 400]\n",
    "max_features = ['auto', 'sqrt']\n",
    "max_depth = [30,60,90, None]\n",
    "min_samples_split = [2, 5, 10]\n",
    "min_samples_leaf = [1, 2, 4]\n",
    "criterion = ['entropy', 'gini']\n",
    "\n",
    "\n",
    "r_f_par = {   'n_estimators': n_estimators,\n",
    "               'max_features': max_features,\n",
    "               'max_depth': max_depth,\n",
    "               'min_samples_split': min_samples_split,\n",
    "               'min_samples_leaf': min_samples_leaf,\n",
    "               'criterion': criterion\n",
    "           }"
   ]
  },
  {
   "cell_type": "code",
   "execution_count": 84,
   "metadata": {},
   "outputs": [],
   "source": [
    "pipe2 = Pipeline([('clf', LinearSVC())])"
   ]
  },
  {
   "cell_type": "markdown",
   "metadata": {},
   "source": [
    "As for TF-IDF method, Linear SVM, Logistic Regression and Random Forest algorithms were estimated and tuned through 3-fold grid and randomized search tools with ‘accuracy’ scoring."
   ]
  },
  {
   "cell_type": "code",
   "execution_count": 98,
   "metadata": {},
   "outputs": [
    {
     "name": "stdout",
     "output_type": "stream",
     "text": [
      "{'clf': LogisticRegression(C=500, class_weight=None, dual=False, fit_intercept=True,\n",
      "                   intercept_scaling=1, l1_ratio=None, max_iter=9000,\n",
      "                   multi_class='auto', n_jobs=None, penalty='l2',\n",
      "                   random_state=None, solver='liblinear', tol=0.0001, verbose=0,\n",
      "                   warm_start=False), 'clf__C': 500, 'clf__solver': 'liblinear'}\n"
     ]
    }
   ],
   "source": [
    "search_sg = GridSearchCV(pipe2, params,cv = 3,return_train_score = True, n_jobs = -1, scoring = 'accuracy')\n",
    "search_sg.fit(X_train_word_average_sg, y_train)\n",
    "print(search_sg.best_params_)"
   ]
  },
  {
   "cell_type": "code",
   "execution_count": 107,
   "metadata": {
    "scrolled": true
   },
   "outputs": [
    {
     "data": {
      "text/html": [
       "<div>\n",
       "<style scoped>\n",
       "    .dataframe tbody tr th:only-of-type {\n",
       "        vertical-align: middle;\n",
       "    }\n",
       "\n",
       "    .dataframe tbody tr th {\n",
       "        vertical-align: top;\n",
       "    }\n",
       "\n",
       "    .dataframe thead th {\n",
       "        text-align: right;\n",
       "    }\n",
       "</style>\n",
       "<table border=\"1\" class=\"dataframe\">\n",
       "  <thead>\n",
       "    <tr style=\"text-align: right;\">\n",
       "      <th></th>\n",
       "      <th>params</th>\n",
       "      <th>mean_test_score</th>\n",
       "      <th>mean_train_score</th>\n",
       "      <th>rank_test_score</th>\n",
       "    </tr>\n",
       "  </thead>\n",
       "  <tbody>\n",
       "    <tr>\n",
       "      <th>9</th>\n",
       "      <td>{'clf': LogisticRegression(C=500, class_weight=None, dual=False, fit_intercept=True,\n",
       "                   intercept_scaling=1, l1_ratio=None, max_iter=9000,\n",
       "                   multi_class='auto', n_jobs=None, penalty='l2',\n",
       "                   random_state=None, solver='liblinear', tol=0.0001, verbose=0,\n",
       "                   warm_start=False), 'clf__C': 500, 'clf__solver': 'liblinear'}</td>\n",
       "      <td>0.886075</td>\n",
       "      <td>0.888675</td>\n",
       "      <td>1</td>\n",
       "    </tr>\n",
       "    <tr>\n",
       "      <th>3</th>\n",
       "      <td>{'clf': LinearSVC(C=1.0, class_weight=None, dual=True, fit_intercept=True,\n",
       "          intercept_scaling=1, loss='squared_hinge', max_iter=7000,\n",
       "          multi_class='ovr', penalty='l2', random_state=None, tol=0.0001,\n",
       "          verbose=0), 'clf__C': 50}</td>\n",
       "      <td>0.886000</td>\n",
       "      <td>0.888600</td>\n",
       "      <td>2</td>\n",
       "    </tr>\n",
       "    <tr>\n",
       "      <th>4</th>\n",
       "      <td>{'clf': LinearSVC(C=1.0, class_weight=None, dual=True, fit_intercept=True,\n",
       "          intercept_scaling=1, loss='squared_hinge', max_iter=7000,\n",
       "          multi_class='ovr', penalty='l2', random_state=None, tol=0.0001,\n",
       "          verbose=0), 'clf__C': 100}</td>\n",
       "      <td>0.885950</td>\n",
       "      <td>0.888625</td>\n",
       "      <td>3</td>\n",
       "    </tr>\n",
       "    <tr>\n",
       "      <th>2</th>\n",
       "      <td>{'clf': LinearSVC(C=1.0, class_weight=None, dual=True, fit_intercept=True,\n",
       "          intercept_scaling=1, loss='squared_hinge', max_iter=7000,\n",
       "          multi_class='ovr', penalty='l2', random_state=None, tol=0.0001,\n",
       "          verbose=0), 'clf__C': 10}</td>\n",
       "      <td>0.885750</td>\n",
       "      <td>0.888575</td>\n",
       "      <td>4</td>\n",
       "    </tr>\n",
       "    <tr>\n",
       "      <th>5</th>\n",
       "      <td>{'clf': LinearSVC(C=1.0, class_weight=None, dual=True, fit_intercept=True,\n",
       "          intercept_scaling=1, loss='squared_hinge', max_iter=7000,\n",
       "          multi_class='ovr', penalty='l2', random_state=None, tol=0.0001,\n",
       "          verbose=0), 'clf__C': 500}</td>\n",
       "      <td>0.885600</td>\n",
       "      <td>0.888475</td>\n",
       "      <td>5</td>\n",
       "    </tr>\n",
       "    <tr>\n",
       "      <th>12</th>\n",
       "      <td>{'clf': LogisticRegression(C=500, class_weight=None, dual=False, fit_intercept=True,\n",
       "                   intercept_scaling=1, l1_ratio=None, max_iter=9000,\n",
       "                   multi_class='auto', n_jobs=None, penalty='l2',\n",
       "                   random_state=None, solver='liblinear', tol=0.0001, verbose=0,\n",
       "                   warm_start=False), 'clf__C': 100, 'clf__solver': 'liblinear'}</td>\n",
       "      <td>0.885500</td>\n",
       "      <td>0.888487</td>\n",
       "      <td>6</td>\n",
       "    </tr>\n",
       "    <tr>\n",
       "      <th>10</th>\n",
       "      <td>{'clf': LogisticRegression(C=500, class_weight=None, dual=False, fit_intercept=True,\n",
       "                   intercept_scaling=1, l1_ratio=None, max_iter=9000,\n",
       "                   multi_class='auto', n_jobs=None, penalty='l2',\n",
       "                   random_state=None, solver='liblinear', tol=0.0001, verbose=0,\n",
       "                   warm_start=False), 'clf__C': 100, 'clf__solver': 'newton-cg'}</td>\n",
       "      <td>0.885500</td>\n",
       "      <td>0.888537</td>\n",
       "      <td>7</td>\n",
       "    </tr>\n",
       "    <tr>\n",
       "      <th>11</th>\n",
       "      <td>{'clf': LogisticRegression(C=500, class_weight=None, dual=False, fit_intercept=True,\n",
       "                   intercept_scaling=1, l1_ratio=None, max_iter=9000,\n",
       "                   multi_class='auto', n_jobs=None, penalty='l2',\n",
       "                   random_state=None, solver='liblinear', tol=0.0001, verbose=0,\n",
       "                   warm_start=False), 'clf__C': 100, 'clf__solver': 'lbfgs'}</td>\n",
       "      <td>0.885450</td>\n",
       "      <td>0.888562</td>\n",
       "      <td>8</td>\n",
       "    </tr>\n",
       "    <tr>\n",
       "      <th>7</th>\n",
       "      <td>{'clf': LogisticRegression(C=500, class_weight=None, dual=False, fit_intercept=True,\n",
       "                   intercept_scaling=1, l1_ratio=None, max_iter=9000,\n",
       "                   multi_class='auto', n_jobs=None, penalty='l2',\n",
       "                   random_state=None, solver='liblinear', tol=0.0001, verbose=0,\n",
       "                   warm_start=False), 'clf__C': 500, 'clf__solver': 'newton-cg'}</td>\n",
       "      <td>0.885200</td>\n",
       "      <td>0.888537</td>\n",
       "      <td>9</td>\n",
       "    </tr>\n",
       "    <tr>\n",
       "      <th>1</th>\n",
       "      <td>{'clf': LinearSVC(C=1.0, class_weight=None, dual=True, fit_intercept=True,\n",
       "          intercept_scaling=1, loss='squared_hinge', max_iter=7000,\n",
       "          multi_class='ovr', penalty='l2', random_state=None, tol=0.0001,\n",
       "          verbose=0), 'clf__C': 1}</td>\n",
       "      <td>0.885200</td>\n",
       "      <td>0.887712</td>\n",
       "      <td>10</td>\n",
       "    </tr>\n",
       "    <tr>\n",
       "      <th>13</th>\n",
       "      <td>{'clf': LogisticRegression(C=500, class_weight=None, dual=False, fit_intercept=True,\n",
       "                   intercept_scaling=1, l1_ratio=None, max_iter=9000,\n",
       "                   multi_class='auto', n_jobs=None, penalty='l2',\n",
       "                   random_state=None, solver='liblinear', tol=0.0001, verbose=0,\n",
       "                   warm_start=False), 'clf__C': 10, 'clf__solver': 'newton-cg'}</td>\n",
       "      <td>0.885150</td>\n",
       "      <td>0.888200</td>\n",
       "      <td>11</td>\n",
       "    </tr>\n",
       "    <tr>\n",
       "      <th>8</th>\n",
       "      <td>{'clf': LogisticRegression(C=500, class_weight=None, dual=False, fit_intercept=True,\n",
       "                   intercept_scaling=1, l1_ratio=None, max_iter=9000,\n",
       "                   multi_class='auto', n_jobs=None, penalty='l2',\n",
       "                   random_state=None, solver='liblinear', tol=0.0001, verbose=0,\n",
       "                   warm_start=False), 'clf__C': 500, 'clf__solver': 'lbfgs'}</td>\n",
       "      <td>0.885125</td>\n",
       "      <td>0.888487</td>\n",
       "      <td>12</td>\n",
       "    </tr>\n",
       "    <tr>\n",
       "      <th>15</th>\n",
       "      <td>{'clf': LogisticRegression(C=500, class_weight=None, dual=False, fit_intercept=True,\n",
       "                   intercept_scaling=1, l1_ratio=None, max_iter=9000,\n",
       "                   multi_class='auto', n_jobs=None, penalty='l2',\n",
       "                   random_state=None, solver='liblinear', tol=0.0001, verbose=0,\n",
       "                   warm_start=False), 'clf__C': 10, 'clf__solver': 'liblinear'}</td>\n",
       "      <td>0.885100</td>\n",
       "      <td>0.887662</td>\n",
       "      <td>13</td>\n",
       "    </tr>\n",
       "    <tr>\n",
       "      <th>14</th>\n",
       "      <td>{'clf': LogisticRegression(C=500, class_weight=None, dual=False, fit_intercept=True,\n",
       "                   intercept_scaling=1, l1_ratio=None, max_iter=9000,\n",
       "                   multi_class='auto', n_jobs=None, penalty='l2',\n",
       "                   random_state=None, solver='liblinear', tol=0.0001, verbose=0,\n",
       "                   warm_start=False), 'clf__C': 10, 'clf__solver': 'lbfgs'}</td>\n",
       "      <td>0.885075</td>\n",
       "      <td>0.888162</td>\n",
       "      <td>14</td>\n",
       "    </tr>\n",
       "    <tr>\n",
       "      <th>0</th>\n",
       "      <td>{'clf': LinearSVC(C=1.0, class_weight=None, dual=True, fit_intercept=True,\n",
       "          intercept_scaling=1, loss='squared_hinge', max_iter=7000,\n",
       "          multi_class='ovr', penalty='l2', random_state=None, tol=0.0001,\n",
       "          verbose=0), 'clf__C': 0.5}</td>\n",
       "      <td>0.885050</td>\n",
       "      <td>0.887287</td>\n",
       "      <td>15</td>\n",
       "    </tr>\n",
       "    <tr>\n",
       "      <th>6</th>\n",
       "      <td>{'clf': LinearSVC(C=1.0, class_weight=None, dual=True, fit_intercept=True,\n",
       "          intercept_scaling=1, loss='squared_hinge', max_iter=7000,\n",
       "          multi_class='ovr', penalty='l2', random_state=None, tol=0.0001,\n",
       "          verbose=0), 'clf__C': 1000}</td>\n",
       "      <td>0.883600</td>\n",
       "      <td>0.885650</td>\n",
       "      <td>16</td>\n",
       "    </tr>\n",
       "    <tr>\n",
       "      <th>16</th>\n",
       "      <td>{'clf': LogisticRegression(C=500, class_weight=None, dual=False, fit_intercept=True,\n",
       "                   intercept_scaling=1, l1_ratio=None, max_iter=9000,\n",
       "                   multi_class='auto', n_jobs=None, penalty='l2',\n",
       "                   random_state=None, solver='liblinear', tol=0.0001, verbose=0,\n",
       "                   warm_start=False), 'clf__C': 1.0, 'clf__solver': 'newton-cg'}</td>\n",
       "      <td>0.883050</td>\n",
       "      <td>0.884775</td>\n",
       "      <td>17</td>\n",
       "    </tr>\n",
       "    <tr>\n",
       "      <th>17</th>\n",
       "      <td>{'clf': LogisticRegression(C=500, class_weight=None, dual=False, fit_intercept=True,\n",
       "                   intercept_scaling=1, l1_ratio=None, max_iter=9000,\n",
       "                   multi_class='auto', n_jobs=None, penalty='l2',\n",
       "                   random_state=None, solver='liblinear', tol=0.0001, verbose=0,\n",
       "                   warm_start=False), 'clf__C': 1.0, 'clf__solver': 'lbfgs'}</td>\n",
       "      <td>0.883050</td>\n",
       "      <td>0.884762</td>\n",
       "      <td>17</td>\n",
       "    </tr>\n",
       "    <tr>\n",
       "      <th>18</th>\n",
       "      <td>{'clf': LogisticRegression(C=500, class_weight=None, dual=False, fit_intercept=True,\n",
       "                   intercept_scaling=1, l1_ratio=None, max_iter=9000,\n",
       "                   multi_class='auto', n_jobs=None, penalty='l2',\n",
       "                   random_state=None, solver='liblinear', tol=0.0001, verbose=0,\n",
       "                   warm_start=False), 'clf__C': 1.0, 'clf__solver': 'liblinear'}</td>\n",
       "      <td>0.882300</td>\n",
       "      <td>0.883687</td>\n",
       "      <td>19</td>\n",
       "    </tr>\n",
       "    <tr>\n",
       "      <th>19</th>\n",
       "      <td>{'clf': LogisticRegression(C=500, class_weight=None, dual=False, fit_intercept=True,\n",
       "                   intercept_scaling=1, l1_ratio=None, max_iter=9000,\n",
       "                   multi_class='auto', n_jobs=None, penalty='l2',\n",
       "                   random_state=None, solver='liblinear', tol=0.0001, verbose=0,\n",
       "                   warm_start=False), 'clf__C': 0.1, 'clf__solver': 'newton-cg'}</td>\n",
       "      <td>0.875300</td>\n",
       "      <td>0.875825</td>\n",
       "      <td>20</td>\n",
       "    </tr>\n",
       "    <tr>\n",
       "      <th>20</th>\n",
       "      <td>{'clf': LogisticRegression(C=500, class_weight=None, dual=False, fit_intercept=True,\n",
       "                   intercept_scaling=1, l1_ratio=None, max_iter=9000,\n",
       "                   multi_class='auto', n_jobs=None, penalty='l2',\n",
       "                   random_state=None, solver='liblinear', tol=0.0001, verbose=0,\n",
       "                   warm_start=False), 'clf__C': 0.1, 'clf__solver': 'lbfgs'}</td>\n",
       "      <td>0.875300</td>\n",
       "      <td>0.875812</td>\n",
       "      <td>20</td>\n",
       "    </tr>\n",
       "    <tr>\n",
       "      <th>21</th>\n",
       "      <td>{'clf': LogisticRegression(C=500, class_weight=None, dual=False, fit_intercept=True,\n",
       "                   intercept_scaling=1, l1_ratio=None, max_iter=9000,\n",
       "                   multi_class='auto', n_jobs=None, penalty='l2',\n",
       "                   random_state=None, solver='liblinear', tol=0.0001, verbose=0,\n",
       "                   warm_start=False), 'clf__C': 0.1, 'clf__solver': 'liblinear'}</td>\n",
       "      <td>0.872900</td>\n",
       "      <td>0.873450</td>\n",
       "      <td>22</td>\n",
       "    </tr>\n",
       "  </tbody>\n",
       "</table>\n",
       "</div>"
      ],
      "text/plain": [
       "                                                                                                                                                                                                                                                                                                                                                                                            params  \\\n",
       "9   {'clf': LogisticRegression(C=500, class_weight=None, dual=False, fit_intercept=True,\n",
       "                   intercept_scaling=1, l1_ratio=None, max_iter=9000,\n",
       "                   multi_class='auto', n_jobs=None, penalty='l2',\n",
       "                   random_state=None, solver='liblinear', tol=0.0001, verbose=0,\n",
       "                   warm_start=False), 'clf__C': 500, 'clf__solver': 'liblinear'}   \n",
       "3   {'clf': LinearSVC(C=1.0, class_weight=None, dual=True, fit_intercept=True,\n",
       "          intercept_scaling=1, loss='squared_hinge', max_iter=7000,\n",
       "          multi_class='ovr', penalty='l2', random_state=None, tol=0.0001,\n",
       "          verbose=0), 'clf__C': 50}                                                                                                                                     \n",
       "4   {'clf': LinearSVC(C=1.0, class_weight=None, dual=True, fit_intercept=True,\n",
       "          intercept_scaling=1, loss='squared_hinge', max_iter=7000,\n",
       "          multi_class='ovr', penalty='l2', random_state=None, tol=0.0001,\n",
       "          verbose=0), 'clf__C': 100}                                                                                                                                    \n",
       "2   {'clf': LinearSVC(C=1.0, class_weight=None, dual=True, fit_intercept=True,\n",
       "          intercept_scaling=1, loss='squared_hinge', max_iter=7000,\n",
       "          multi_class='ovr', penalty='l2', random_state=None, tol=0.0001,\n",
       "          verbose=0), 'clf__C': 10}                                                                                                                                     \n",
       "5   {'clf': LinearSVC(C=1.0, class_weight=None, dual=True, fit_intercept=True,\n",
       "          intercept_scaling=1, loss='squared_hinge', max_iter=7000,\n",
       "          multi_class='ovr', penalty='l2', random_state=None, tol=0.0001,\n",
       "          verbose=0), 'clf__C': 500}                                                                                                                                    \n",
       "12  {'clf': LogisticRegression(C=500, class_weight=None, dual=False, fit_intercept=True,\n",
       "                   intercept_scaling=1, l1_ratio=None, max_iter=9000,\n",
       "                   multi_class='auto', n_jobs=None, penalty='l2',\n",
       "                   random_state=None, solver='liblinear', tol=0.0001, verbose=0,\n",
       "                   warm_start=False), 'clf__C': 100, 'clf__solver': 'liblinear'}   \n",
       "10  {'clf': LogisticRegression(C=500, class_weight=None, dual=False, fit_intercept=True,\n",
       "                   intercept_scaling=1, l1_ratio=None, max_iter=9000,\n",
       "                   multi_class='auto', n_jobs=None, penalty='l2',\n",
       "                   random_state=None, solver='liblinear', tol=0.0001, verbose=0,\n",
       "                   warm_start=False), 'clf__C': 100, 'clf__solver': 'newton-cg'}   \n",
       "11  {'clf': LogisticRegression(C=500, class_weight=None, dual=False, fit_intercept=True,\n",
       "                   intercept_scaling=1, l1_ratio=None, max_iter=9000,\n",
       "                   multi_class='auto', n_jobs=None, penalty='l2',\n",
       "                   random_state=None, solver='liblinear', tol=0.0001, verbose=0,\n",
       "                   warm_start=False), 'clf__C': 100, 'clf__solver': 'lbfgs'}       \n",
       "7   {'clf': LogisticRegression(C=500, class_weight=None, dual=False, fit_intercept=True,\n",
       "                   intercept_scaling=1, l1_ratio=None, max_iter=9000,\n",
       "                   multi_class='auto', n_jobs=None, penalty='l2',\n",
       "                   random_state=None, solver='liblinear', tol=0.0001, verbose=0,\n",
       "                   warm_start=False), 'clf__C': 500, 'clf__solver': 'newton-cg'}   \n",
       "1   {'clf': LinearSVC(C=1.0, class_weight=None, dual=True, fit_intercept=True,\n",
       "          intercept_scaling=1, loss='squared_hinge', max_iter=7000,\n",
       "          multi_class='ovr', penalty='l2', random_state=None, tol=0.0001,\n",
       "          verbose=0), 'clf__C': 1}                                                                                                                                      \n",
       "13  {'clf': LogisticRegression(C=500, class_weight=None, dual=False, fit_intercept=True,\n",
       "                   intercept_scaling=1, l1_ratio=None, max_iter=9000,\n",
       "                   multi_class='auto', n_jobs=None, penalty='l2',\n",
       "                   random_state=None, solver='liblinear', tol=0.0001, verbose=0,\n",
       "                   warm_start=False), 'clf__C': 10, 'clf__solver': 'newton-cg'}    \n",
       "8   {'clf': LogisticRegression(C=500, class_weight=None, dual=False, fit_intercept=True,\n",
       "                   intercept_scaling=1, l1_ratio=None, max_iter=9000,\n",
       "                   multi_class='auto', n_jobs=None, penalty='l2',\n",
       "                   random_state=None, solver='liblinear', tol=0.0001, verbose=0,\n",
       "                   warm_start=False), 'clf__C': 500, 'clf__solver': 'lbfgs'}       \n",
       "15  {'clf': LogisticRegression(C=500, class_weight=None, dual=False, fit_intercept=True,\n",
       "                   intercept_scaling=1, l1_ratio=None, max_iter=9000,\n",
       "                   multi_class='auto', n_jobs=None, penalty='l2',\n",
       "                   random_state=None, solver='liblinear', tol=0.0001, verbose=0,\n",
       "                   warm_start=False), 'clf__C': 10, 'clf__solver': 'liblinear'}    \n",
       "14  {'clf': LogisticRegression(C=500, class_weight=None, dual=False, fit_intercept=True,\n",
       "                   intercept_scaling=1, l1_ratio=None, max_iter=9000,\n",
       "                   multi_class='auto', n_jobs=None, penalty='l2',\n",
       "                   random_state=None, solver='liblinear', tol=0.0001, verbose=0,\n",
       "                   warm_start=False), 'clf__C': 10, 'clf__solver': 'lbfgs'}        \n",
       "0   {'clf': LinearSVC(C=1.0, class_weight=None, dual=True, fit_intercept=True,\n",
       "          intercept_scaling=1, loss='squared_hinge', max_iter=7000,\n",
       "          multi_class='ovr', penalty='l2', random_state=None, tol=0.0001,\n",
       "          verbose=0), 'clf__C': 0.5}                                                                                                                                    \n",
       "6   {'clf': LinearSVC(C=1.0, class_weight=None, dual=True, fit_intercept=True,\n",
       "          intercept_scaling=1, loss='squared_hinge', max_iter=7000,\n",
       "          multi_class='ovr', penalty='l2', random_state=None, tol=0.0001,\n",
       "          verbose=0), 'clf__C': 1000}                                                                                                                                   \n",
       "16  {'clf': LogisticRegression(C=500, class_weight=None, dual=False, fit_intercept=True,\n",
       "                   intercept_scaling=1, l1_ratio=None, max_iter=9000,\n",
       "                   multi_class='auto', n_jobs=None, penalty='l2',\n",
       "                   random_state=None, solver='liblinear', tol=0.0001, verbose=0,\n",
       "                   warm_start=False), 'clf__C': 1.0, 'clf__solver': 'newton-cg'}   \n",
       "17  {'clf': LogisticRegression(C=500, class_weight=None, dual=False, fit_intercept=True,\n",
       "                   intercept_scaling=1, l1_ratio=None, max_iter=9000,\n",
       "                   multi_class='auto', n_jobs=None, penalty='l2',\n",
       "                   random_state=None, solver='liblinear', tol=0.0001, verbose=0,\n",
       "                   warm_start=False), 'clf__C': 1.0, 'clf__solver': 'lbfgs'}       \n",
       "18  {'clf': LogisticRegression(C=500, class_weight=None, dual=False, fit_intercept=True,\n",
       "                   intercept_scaling=1, l1_ratio=None, max_iter=9000,\n",
       "                   multi_class='auto', n_jobs=None, penalty='l2',\n",
       "                   random_state=None, solver='liblinear', tol=0.0001, verbose=0,\n",
       "                   warm_start=False), 'clf__C': 1.0, 'clf__solver': 'liblinear'}   \n",
       "19  {'clf': LogisticRegression(C=500, class_weight=None, dual=False, fit_intercept=True,\n",
       "                   intercept_scaling=1, l1_ratio=None, max_iter=9000,\n",
       "                   multi_class='auto', n_jobs=None, penalty='l2',\n",
       "                   random_state=None, solver='liblinear', tol=0.0001, verbose=0,\n",
       "                   warm_start=False), 'clf__C': 0.1, 'clf__solver': 'newton-cg'}   \n",
       "20  {'clf': LogisticRegression(C=500, class_weight=None, dual=False, fit_intercept=True,\n",
       "                   intercept_scaling=1, l1_ratio=None, max_iter=9000,\n",
       "                   multi_class='auto', n_jobs=None, penalty='l2',\n",
       "                   random_state=None, solver='liblinear', tol=0.0001, verbose=0,\n",
       "                   warm_start=False), 'clf__C': 0.1, 'clf__solver': 'lbfgs'}       \n",
       "21  {'clf': LogisticRegression(C=500, class_weight=None, dual=False, fit_intercept=True,\n",
       "                   intercept_scaling=1, l1_ratio=None, max_iter=9000,\n",
       "                   multi_class='auto', n_jobs=None, penalty='l2',\n",
       "                   random_state=None, solver='liblinear', tol=0.0001, verbose=0,\n",
       "                   warm_start=False), 'clf__C': 0.1, 'clf__solver': 'liblinear'}   \n",
       "\n",
       "    mean_test_score  mean_train_score  rank_test_score  \n",
       "9   0.886075         0.888675          1                \n",
       "3   0.886000         0.888600          2                \n",
       "4   0.885950         0.888625          3                \n",
       "2   0.885750         0.888575          4                \n",
       "5   0.885600         0.888475          5                \n",
       "12  0.885500         0.888487          6                \n",
       "10  0.885500         0.888537          7                \n",
       "11  0.885450         0.888562          8                \n",
       "7   0.885200         0.888537          9                \n",
       "1   0.885200         0.887712          10               \n",
       "13  0.885150         0.888200          11               \n",
       "8   0.885125         0.888487          12               \n",
       "15  0.885100         0.887662          13               \n",
       "14  0.885075         0.888162          14               \n",
       "0   0.885050         0.887287          15               \n",
       "6   0.883600         0.885650          16               \n",
       "16  0.883050         0.884775          17               \n",
       "17  0.883050         0.884762          17               \n",
       "18  0.882300         0.883687          19               \n",
       "19  0.875300         0.875825          20               \n",
       "20  0.875300         0.875812          20               \n",
       "21  0.872900         0.873450          22               "
      ]
     },
     "execution_count": 107,
     "metadata": {},
     "output_type": "execute_result"
    }
   ],
   "source": [
    "df3 = pd.DataFrame.from_dict(search_sg.cv_results_)\n",
    "df3[['params', 'mean_test_score', 'mean_train_score', 'rank_test_score']].sort_values(by=['mean_test_score'], ascending=False)"
   ]
  },
  {
   "cell_type": "code",
   "execution_count": 179,
   "metadata": {},
   "outputs": [
    {
     "name": "stdout",
     "output_type": "stream",
     "text": [
      "{'n_estimators': 400, 'min_samples_split': 2, 'min_samples_leaf': 1, 'max_features': 'sqrt', 'max_depth': 30, 'criterion': 'gini'}\n"
     ]
    }
   ],
   "source": [
    "r_f_clf = RandomForestClassifier()\n",
    "r_f2 = RandomizedSearchCV(r_f_clf, r_f_par, cv = 3, return_train_score = True, n_jobs = -1, scoring = 'accuracy')\n",
    "r_f2.fit(X_train_word_average_sg,y_train)\n",
    "print(r_f2.best_params_)"
   ]
  },
  {
   "cell_type": "code",
   "execution_count": 202,
   "metadata": {
    "scrolled": true
   },
   "outputs": [
    {
     "data": {
      "text/html": [
       "<div>\n",
       "<style scoped>\n",
       "    .dataframe tbody tr th:only-of-type {\n",
       "        vertical-align: middle;\n",
       "    }\n",
       "\n",
       "    .dataframe tbody tr th {\n",
       "        vertical-align: top;\n",
       "    }\n",
       "\n",
       "    .dataframe thead th {\n",
       "        text-align: right;\n",
       "    }\n",
       "</style>\n",
       "<table border=\"1\" class=\"dataframe\">\n",
       "  <thead>\n",
       "    <tr style=\"text-align: right;\">\n",
       "      <th></th>\n",
       "      <th>params</th>\n",
       "      <th>mean_test_score</th>\n",
       "      <th>mean_train_score</th>\n",
       "      <th>mean_fit_time</th>\n",
       "      <th>rank_test_score</th>\n",
       "    </tr>\n",
       "  </thead>\n",
       "  <tbody>\n",
       "    <tr>\n",
       "      <th>2</th>\n",
       "      <td>{'n_estimators': 400, 'min_samples_split': 2, 'min_samples_leaf': 1, 'max_features': 'sqrt', 'max_depth': 30, 'criterion': 'gini'}</td>\n",
       "      <td>0.890225</td>\n",
       "      <td>0.999400</td>\n",
       "      <td>210.500233</td>\n",
       "      <td>1</td>\n",
       "    </tr>\n",
       "    <tr>\n",
       "      <th>7</th>\n",
       "      <td>{'n_estimators': 250, 'min_samples_split': 2, 'min_samples_leaf': 2, 'max_features': 'sqrt', 'max_depth': 90, 'criterion': 'entropy'}</td>\n",
       "      <td>0.889525</td>\n",
       "      <td>0.998237</td>\n",
       "      <td>150.769254</td>\n",
       "      <td>2</td>\n",
       "    </tr>\n",
       "    <tr>\n",
       "      <th>5</th>\n",
       "      <td>{'n_estimators': 400, 'min_samples_split': 5, 'min_samples_leaf': 1, 'max_features': 'sqrt', 'max_depth': 30, 'criterion': 'gini'}</td>\n",
       "      <td>0.889250</td>\n",
       "      <td>0.995250</td>\n",
       "      <td>221.109260</td>\n",
       "      <td>3</td>\n",
       "    </tr>\n",
       "    <tr>\n",
       "      <th>3</th>\n",
       "      <td>{'n_estimators': 250, 'min_samples_split': 10, 'min_samples_leaf': 2, 'max_features': 'auto', 'max_depth': 60, 'criterion': 'entropy'}</td>\n",
       "      <td>0.889025</td>\n",
       "      <td>0.977188</td>\n",
       "      <td>146.604610</td>\n",
       "      <td>4</td>\n",
       "    </tr>\n",
       "    <tr>\n",
       "      <th>0</th>\n",
       "      <td>{'n_estimators': 250, 'min_samples_split': 2, 'min_samples_leaf': 2, 'max_features': 'auto', 'max_depth': None, 'criterion': 'gini'}</td>\n",
       "      <td>0.888850</td>\n",
       "      <td>0.990925</td>\n",
       "      <td>119.318242</td>\n",
       "      <td>5</td>\n",
       "    </tr>\n",
       "    <tr>\n",
       "      <th>9</th>\n",
       "      <td>{'n_estimators': 400, 'min_samples_split': 5, 'min_samples_leaf': 4, 'max_features': 'auto', 'max_depth': None, 'criterion': 'gini'}</td>\n",
       "      <td>0.888275</td>\n",
       "      <td>0.963050</td>\n",
       "      <td>134.553910</td>\n",
       "      <td>6</td>\n",
       "    </tr>\n",
       "    <tr>\n",
       "      <th>8</th>\n",
       "      <td>{'n_estimators': 100, 'min_samples_split': 10, 'min_samples_leaf': 1, 'max_features': 'auto', 'max_depth': 90, 'criterion': 'gini'}</td>\n",
       "      <td>0.888100</td>\n",
       "      <td>0.981900</td>\n",
       "      <td>54.498798</td>\n",
       "      <td>7</td>\n",
       "    </tr>\n",
       "    <tr>\n",
       "      <th>4</th>\n",
       "      <td>{'n_estimators': 100, 'min_samples_split': 5, 'min_samples_leaf': 4, 'max_features': 'sqrt', 'max_depth': None, 'criterion': 'gini'}</td>\n",
       "      <td>0.887075</td>\n",
       "      <td>0.962150</td>\n",
       "      <td>49.541311</td>\n",
       "      <td>8</td>\n",
       "    </tr>\n",
       "    <tr>\n",
       "      <th>1</th>\n",
       "      <td>{'n_estimators': 100, 'min_samples_split': 10, 'min_samples_leaf': 4, 'max_features': 'sqrt', 'max_depth': 90, 'criterion': 'entropy'}</td>\n",
       "      <td>0.886325</td>\n",
       "      <td>0.967188</td>\n",
       "      <td>54.791506</td>\n",
       "      <td>9</td>\n",
       "    </tr>\n",
       "    <tr>\n",
       "      <th>6</th>\n",
       "      <td>{'n_estimators': 100, 'min_samples_split': 2, 'min_samples_leaf': 4, 'max_features': 'auto', 'max_depth': None, 'criterion': 'gini'}</td>\n",
       "      <td>0.885550</td>\n",
       "      <td>0.962475</td>\n",
       "      <td>51.079988</td>\n",
       "      <td>10</td>\n",
       "    </tr>\n",
       "  </tbody>\n",
       "</table>\n",
       "</div>"
      ],
      "text/plain": [
       "                                                                                                                                   params  \\\n",
       "2  {'n_estimators': 400, 'min_samples_split': 2, 'min_samples_leaf': 1, 'max_features': 'sqrt', 'max_depth': 30, 'criterion': 'gini'}       \n",
       "7  {'n_estimators': 250, 'min_samples_split': 2, 'min_samples_leaf': 2, 'max_features': 'sqrt', 'max_depth': 90, 'criterion': 'entropy'}    \n",
       "5  {'n_estimators': 400, 'min_samples_split': 5, 'min_samples_leaf': 1, 'max_features': 'sqrt', 'max_depth': 30, 'criterion': 'gini'}       \n",
       "3  {'n_estimators': 250, 'min_samples_split': 10, 'min_samples_leaf': 2, 'max_features': 'auto', 'max_depth': 60, 'criterion': 'entropy'}   \n",
       "0  {'n_estimators': 250, 'min_samples_split': 2, 'min_samples_leaf': 2, 'max_features': 'auto', 'max_depth': None, 'criterion': 'gini'}     \n",
       "9  {'n_estimators': 400, 'min_samples_split': 5, 'min_samples_leaf': 4, 'max_features': 'auto', 'max_depth': None, 'criterion': 'gini'}     \n",
       "8  {'n_estimators': 100, 'min_samples_split': 10, 'min_samples_leaf': 1, 'max_features': 'auto', 'max_depth': 90, 'criterion': 'gini'}      \n",
       "4  {'n_estimators': 100, 'min_samples_split': 5, 'min_samples_leaf': 4, 'max_features': 'sqrt', 'max_depth': None, 'criterion': 'gini'}     \n",
       "1  {'n_estimators': 100, 'min_samples_split': 10, 'min_samples_leaf': 4, 'max_features': 'sqrt', 'max_depth': 90, 'criterion': 'entropy'}   \n",
       "6  {'n_estimators': 100, 'min_samples_split': 2, 'min_samples_leaf': 4, 'max_features': 'auto', 'max_depth': None, 'criterion': 'gini'}     \n",
       "\n",
       "   mean_test_score  mean_train_score  mean_fit_time  rank_test_score  \n",
       "2  0.890225         0.999400          210.500233     1                \n",
       "7  0.889525         0.998237          150.769254     2                \n",
       "5  0.889250         0.995250          221.109260     3                \n",
       "3  0.889025         0.977188          146.604610     4                \n",
       "0  0.888850         0.990925          119.318242     5                \n",
       "9  0.888275         0.963050          134.553910     6                \n",
       "8  0.888100         0.981900          54.498798      7                \n",
       "4  0.887075         0.962150          49.541311      8                \n",
       "1  0.886325         0.967188          54.791506      9                \n",
       "6  0.885550         0.962475          51.079988      10               "
      ]
     },
     "execution_count": 202,
     "metadata": {},
     "output_type": "execute_result"
    }
   ],
   "source": [
    "df7 = pd.DataFrame.from_dict(r_f2.cv_results_)\n",
    "df7[['params', 'mean_test_score', 'mean_train_score','mean_fit_time', 'rank_test_score']].sort_values(by=['mean_test_score'], ascending=False)"
   ]
  },
  {
   "cell_type": "markdown",
   "metadata": {},
   "source": [
    "Although the highest score of about 88,8% achieved with Random Forest algorithm, this model has been overfitted with accuracy 99,99% on the training dataset. \n",
    "Thus, Logistic regression algorithm with accuracy scores 88,6% on validation and 88,8% on training datasets was selected as the best model."
   ]
  },
  {
   "cell_type": "code",
   "execution_count": 102,
   "metadata": {},
   "outputs": [],
   "source": [
    "best_lr = search_sg.best_estimator_"
   ]
  },
  {
   "cell_type": "code",
   "execution_count": 150,
   "metadata": {},
   "outputs": [
    {
     "name": "stdout",
     "output_type": "stream",
     "text": [
      "\n",
      " Completed training in 8.134909868240356 seconds.\n",
      "\n"
     ]
    }
   ],
   "source": [
    "start = time.time()\n",
    "\n",
    "best_lr.fit(X_train_word_average_sg,y_train)\n",
    "\n",
    "elapsed = time.time() - start\n",
    "print('\\n Completed training in {} seconds.'.format(elapsed),end='\\n\\n')"
   ]
  },
  {
   "cell_type": "markdown",
   "metadata": {},
   "source": [
    "Saving the best-performed model to the pkl-format file"
   ]
  },
  {
   "cell_type": "code",
   "execution_count": 103,
   "metadata": {},
   "outputs": [
    {
     "data": {
      "text/plain": [
       "['best_w2v.pkl']"
      ]
     },
     "execution_count": 103,
     "metadata": {},
     "output_type": "execute_result"
    }
   ],
   "source": [
    "joblib_file = \"best_w2v.pkl\"\n",
    "joblib.dump(best_lr, joblib_file)"
   ]
  },
  {
   "cell_type": "markdown",
   "metadata": {},
   "source": [
    "# Evaluation on the test dataset"
   ]
  },
  {
   "cell_type": "markdown",
   "metadata": {},
   "source": [
    "Transforming cleaned test dataset to the list of lists format"
   ]
  },
  {
   "cell_type": "code",
   "execution_count": null,
   "metadata": {},
   "outputs": [],
   "source": [
    "#load cleaned test data\n",
    "clean_test_data = load_doc('clean_test_data.txt')"
   ]
  },
  {
   "cell_type": "code",
   "execution_count": 87,
   "metadata": {},
   "outputs": [],
   "source": [
    "test_sent = [row.split() for row in clean_test_data]"
   ]
  },
  {
   "cell_type": "markdown",
   "metadata": {},
   "source": [
    "Word averaging with devined earlier function"
   ]
  },
  {
   "cell_type": "code",
   "execution_count": 91,
   "metadata": {},
   "outputs": [],
   "source": [
    "X_test_word_average_sg = word_averaging_list(w_model_sg.wv,np.array(test_sent))"
   ]
  },
  {
   "cell_type": "markdown",
   "metadata": {},
   "source": [
    "Applying Logistic Regression algorithm with the best tuned hyperparameters on the test dataset, the accuracy score 88,7% has been achieved. "
   ]
  },
  {
   "cell_type": "markdown",
   "metadata": {},
   "source": [
    "The best result has been achieved by sports news topic with 967 from 1000 correctly classified articles. The most classification errors (160) have been generated by Business topic."
   ]
  },
  {
   "cell_type": "code",
   "execution_count": null,
   "metadata": {},
   "outputs": [],
   "source": [
    "# Load the best model\n",
    "best_lr = joblib.load(\"best_w2v.pkl\")"
   ]
  },
  {
   "cell_type": "code",
   "execution_count": 108,
   "metadata": {},
   "outputs": [
    {
     "name": "stdout",
     "output_type": "stream",
     "text": [
      "Test dataset accuracy score: 0.887 \n",
      "\n",
      "              precision    recall  f1-score   support\n",
      "\n",
      "       world       0.91      0.89      0.90      1000\n",
      "      sports       0.94      0.97      0.95      1000\n",
      "    business       0.85      0.84      0.84      1000\n",
      "    sci/tech       0.85      0.85      0.85      1000\n",
      "\n",
      "    accuracy                           0.89      4000\n",
      "   macro avg       0.89      0.89      0.89      4000\n",
      "weighted avg       0.89      0.89      0.89      4000\n",
      "\n"
     ]
    },
    {
     "data": {
      "image/png": "[encoded data removed]",
      "text/plain": [
       "<Figure size 864x648 with 1 Axes>"
      ]
     },
     "metadata": {
      "needs_background": "light"
     },
     "output_type": "display_data"
    }
   ],
   "source": [
    "#Creating the list with unique category names\n",
    "aux_df = test_data[['category_name', 'label']].drop_duplicates().sort_values('label')\n",
    "\n",
    "#prediction on the cleaned test dataset\n",
    "y_pred = best_lr.predict(X_test_word_average_sg)\n",
    "\n",
    "print('Test dataset accuracy score:', accuracy_score(y_test, y_pred),'\\n')\n",
    "print(classification_report(y_test, y_pred, target_names=aux_df['category_name'].values))\n",
    "\n",
    "con = confusion_matrix(y_test, y_pred)\n",
    "plt.figure(figsize=(12,9))\n",
    "ax_cor_b = sns.heatmap(con.T, square=False, annot=True, fmt='d', cbar=False,\n",
    "            xticklabels=aux_df['category_name'].values, \n",
    "            yticklabels=aux_df['category_name'].values,\n",
    "            cmap=\"Blues\")\n",
    "plt.xlabel('true label')\n",
    "plt.ylabel('predicted label')\n",
    "plt.title('Confusion matrix')\n",
    "plt.show()"
   ]
  },
  {
   "cell_type": "markdown",
   "metadata": {},
   "source": [
    "# Deep Learning Model"
   ]
  },
  {
   "cell_type": "code",
   "execution_count": 50,
   "metadata": {},
   "outputs": [],
   "source": [
    "from tensorflow import keras\n",
    "from keras.models import load_model\n",
    "from keras.preprocessing.text import Tokenizer\n",
    "from keras.preprocessing.sequence import pad_sequences\n",
    "from keras.utils.vis_utils import plot_model\n",
    "from keras.models import Sequential\n",
    "from keras.layers import Dense, Dropout, Flatten, Embedding, LSTM, GRU, TimeDistributed, Bidirectional, GlobalMaxPooling1D\n",
    "\n",
    "from keras.callbacks import ModelCheckpoint\n",
    "from keras.layers.convolutional import Conv1D, MaxPooling1D"
   ]
  },
  {
   "cell_type": "markdown",
   "metadata": {},
   "source": [
    "The first step to develop a Deep Learning (DL) model is to import a 100-dimensional vector with 53,202 unique words Word2vec model, pre-trained in the previous section. The function below imports pre-trained model and returns words inside the dictionary.                  \n",
    "The function build by https://machinelearningmastery.com/develop-word-embedding-model-predicting-movie-review-sentiment/"
   ]
  },
  {
   "cell_type": "code",
   "execution_count": 17,
   "metadata": {},
   "outputs": [],
   "source": [
    "# load embedding as a dict\n",
    "def load_embedding(filename):\n",
    "    # load embedding into memory, skip first line\n",
    "    file = open(filename,'r')\n",
    "    lines = file.readlines()[1:]\n",
    "    file.close()\n",
    "    # create a map of words to vectors\n",
    "    embedding = dict()\n",
    "    for line in lines:\n",
    "        parts = line.split()\n",
    "        # key is string word, value is numpy array for vector\n",
    "        embedding[parts[0]] = asarray(parts[1:], dtype='float32')\n",
    "    return embedding"
   ]
  },
  {
   "cell_type": "code",
   "execution_count": 18,
   "metadata": {},
   "outputs": [],
   "source": [
    "imported_vocab = load_embedding('embedding_sg_word2vec.txt')"
   ]
  },
  {
   "cell_type": "markdown",
   "metadata": {},
   "source": [
    "The next step is to encode the training data by assigning integer number to each unique word and then convert each row of the source text to sequences of corresponding integers. Encoding has been performed with Keras Tokenizer tool"
   ]
  },
  {
   "cell_type": "code",
   "execution_count": 29,
   "metadata": {},
   "outputs": [],
   "source": [
    "#Load files and Tokenizer\n",
    "#clean_data = load_doc('clean_data.txt')\n",
    "#clean_test_data = load_doc('clean_test_data.txt')\n",
    "#tokenizer1 = joblib.load('C_LSTM_tokenizer.pkl')"
   ]
  },
  {
   "cell_type": "code",
   "execution_count": 57,
   "metadata": {},
   "outputs": [],
   "source": [
    "tokenizer1 = Tokenizer()\n",
    "tokenizer1.fit_on_texts(clean_data)\n",
    "\n",
    "encoded_docs_tr = tokenizer1.texts_to_sequences(clean_data)\n",
    "encoded_docs_te = tokenizer1.texts_to_sequences(clean_test_data)"
   ]
  },
  {
   "cell_type": "code",
   "execution_count": 41,
   "metadata": {},
   "outputs": [
    {
     "data": {
      "text/plain": [
       "['CNN_tokenizer.pkl']"
      ]
     },
     "execution_count": 41,
     "metadata": {},
     "output_type": "execute_result"
    }
   ],
   "source": [
    "#saving Tokenizer\n",
    "#joblib.dump(tokenizer1, 'C_LSTM_tokenizer.pkl')"
   ]
  },
  {
   "cell_type": "markdown",
   "metadata": {},
   "source": [
    "Calling word_index attribute demonstrates how each unique word has been encoded with integer numbers"
   ]
  },
  {
   "cell_type": "code",
   "execution_count": 62,
   "metadata": {
    "scrolled": true
   },
   "outputs": [
    {
     "data": {
      "text/plain": [
       "[('new', 1),\n",
       " ('said', 2),\n",
       " ('us', 3),\n",
       " ('reuters', 4),\n",
       " ('ap', 5),\n",
       " ('first', 6),\n",
       " ('two', 7),\n",
       " ('world', 8),\n",
       " ('thursday', 9),\n",
       " ('oil', 10)]"
      ]
     },
     "execution_count": 62,
     "metadata": {},
     "output_type": "execute_result"
    }
   ],
   "source": [
    "list(tokenizer1.word_index.items())[0:10]"
   ]
  },
  {
   "cell_type": "markdown",
   "metadata": {},
   "source": [
    "One of the dimensions of the Keras embedding layer is the vocabulary size. This number equal to the number of unique words + 1 (because of Keras indexing from zero) is 53203"
   ]
  },
  {
   "cell_type": "code",
   "execution_count": 21,
   "metadata": {},
   "outputs": [
    {
     "data": {
      "text/plain": [
       "53203"
      ]
     },
     "execution_count": 21,
     "metadata": {},
     "output_type": "execute_result"
    }
   ],
   "source": [
    "vocab_size = len(tokenizer1.word_index) + 1\n",
    "vocab_size"
   ]
  },
  {
   "cell_type": "markdown",
   "metadata": {},
   "source": [
    "Keras embedding layer has been built by mapping encoded integers to the vocabulary with pre-trained weights. The mapping process has been performed with get_weight_matrix function, where weight matrix with dimensions (53203, 100) mapped pre-trained weights with integer numbers.\n",
    "\n",
    "The function build by https://machinelearningmastery.com/develop-word-embedding-model-predicting-movie-review-sentiment/"
   ]
  },
  {
   "cell_type": "code",
   "execution_count": 22,
   "metadata": {},
   "outputs": [],
   "source": [
    "# create a weight matrix for the Embedding layer from a loaded embedding\n",
    "def get_weight_matrix(embedding, vocab):\n",
    "    # total vocabulary size plus 0 for unknown words\n",
    "    vocab_size = len(vocab) + 1\n",
    "    # define weight matrix dimensions with all 0\n",
    "    weight_matrix = zeros((vocab_size, 100))\n",
    "    # step vocab, store vectors using the Tokenizer's integer mapping\n",
    "    for word, i in vocab.items():\n",
    "        weight_matrix[i] = embedding.get(word)\n",
    "    return weight_matrix"
   ]
  },
  {
   "cell_type": "code",
   "execution_count": 23,
   "metadata": {},
   "outputs": [],
   "source": [
    "embedding_vectors = get_weight_matrix(imported_vocab, tokenizer1.word_index)"
   ]
  },
  {
   "cell_type": "markdown",
   "metadata": {},
   "source": [
    "Finally, training and testing datasets with appropriate to Keras format might be created with a defined earlier encoded-word dictionary. One of the Keras requirement is that input data should be a vector in the same length, therefore training and testing datasets zero-padded to 90 (maximum length of the vector in the training dataset)"
   ]
  },
  {
   "cell_type": "code",
   "execution_count": 24,
   "metadata": {},
   "outputs": [
    {
     "data": {
      "text/plain": [
       "90"
      ]
     },
     "execution_count": 24,
     "metadata": {},
     "output_type": "execute_result"
    }
   ],
   "source": [
    "max_length = max([len(s.split()) for s in clean_data])\n",
    "max_length"
   ]
  },
  {
   "cell_type": "code",
   "execution_count": 25,
   "metadata": {},
   "outputs": [],
   "source": [
    "Xtrain = pad_sequences(encoded_docs_tr, maxlen=max_length, padding='post')\n",
    "Xtest = pad_sequences(encoded_docs_te, maxlen=max_length, padding='post')"
   ]
  },
  {
   "cell_type": "code",
   "execution_count": 26,
   "metadata": {},
   "outputs": [
    {
     "data": {
      "text/plain": [
       "(40000, 90)"
      ]
     },
     "execution_count": 26,
     "metadata": {},
     "output_type": "execute_result"
    }
   ],
   "source": [
    "Xtrain.shape"
   ]
  },
  {
   "cell_type": "markdown",
   "metadata": {},
   "source": [
    "Class attributes on both train and test datasets should be one-hot encoded"
   ]
  },
  {
   "cell_type": "code",
   "execution_count": 27,
   "metadata": {},
   "outputs": [],
   "source": [
    "#load label encoder\n",
    "#le = joblib.load('label_encoder.pkl')"
   ]
  },
  {
   "cell_type": "code",
   "execution_count": 28,
   "metadata": {},
   "outputs": [],
   "source": [
    "le = preprocessing.LabelEncoder()\n",
    "train_data['labeling'] = le.fit_transform(train_data['label'])\n",
    "test_data['labeling'] = le.transform(test_data['label'])\n",
    "num_classes = np.max(train_data['labeling']) + 1"
   ]
  },
  {
   "cell_type": "code",
   "execution_count": 29,
   "metadata": {},
   "outputs": [],
   "source": [
    "#saving label encoder\n",
    "#joblib.dump(le, 'label_encoder.pkl')"
   ]
  },
  {
   "cell_type": "code",
   "execution_count": 30,
   "metadata": {},
   "outputs": [],
   "source": [
    "ytrain = keras.utils.to_categorical(train_data['labeling'],num_classes)\n",
    "ytest = keras.utils.to_categorical(test_data['labeling'],num_classes)"
   ]
  },
  {
   "cell_type": "markdown",
   "metadata": {},
   "source": [
    "In the present work, news articles classification task was performed with C-LSTM Neural Network model, which consists of both CNN and LSTM layers. \n"
   ]
  },
  {
   "cell_type": "markdown",
   "metadata": {},
   "source": [
    "The following parameters were applied to train C-LSTM model: \n",
    "“categorical_crossentropy” loss function – because of multiclass nature of the classification task and the one-hot representation of the labels. \n",
    "\"softmax\" output activation function, as it accommodates multiple classes into the normalized probabilistic vector with the total sum one.\n",
    "“accuracy” performance measure, since classes in the dataset well balanced.\n",
    "“batch_size” equal to 128, in order to increase the training speed of the model."
   ]
  },
  {
   "cell_type": "markdown",
   "metadata": {},
   "source": [
    "Another hyperparameters such as filters number, kernel size, dropout rate, optimizer, activation function and the number of hidden layers were tuned with Talos library https://autonomio.github.io/talos/#/"
   ]
  },
  {
   "cell_type": "markdown",
   "metadata": {},
   "source": [
    "First step is define the function that builds, compiles and fits the Keras model"
   ]
  },
  {
   "cell_type": "code",
   "execution_count": 31,
   "metadata": {},
   "outputs": [],
   "source": [
    "def clf_model(x_train, y_train, x_val, y_val, params):\n",
    "    model_CNN6 = Sequential()\n",
    "    model_CNN6.add(Embedding(vocab_size, 100, weights=[embedding_vectors], input_length=max_length, trainable=False))\n",
    "    model_CNN6.add(Dropout(0.3))\n",
    "    model_CNN6.add(Conv1D(filters=params['filters'], kernel_size = params['kernel_size'], activation='relu'))\n",
    "    model_CNN6.add(MaxPooling1D(pool_size=2))\n",
    "    model_CNN6.add(Dropout(0.3))\n",
    "    model_CNN6.add(LSTM(64, recurrent_dropout=0.15))\n",
    "    model_CNN6.add(Dropout(0.3))\n",
    "    model_CNN6.add(Dense(16, activation='relu'))\n",
    "\n",
    "\n",
    "    model_CNN6.add(Dense(4, activation='softmax'))\n",
    "    \n",
    "    model_CNN6.compile(loss='categorical_crossentropy', optimizer=params['optimizer'], metrics=['accuracy'])\n",
    "\n",
    "    history = model_CNN6.fit(x_train, y_train, \n",
    "                        validation_data=[x_val, y_val],\n",
    "                        batch_size=128,\n",
    "                        callbacks=[talos.utils.live()],\n",
    "                        epochs=10,\n",
    "                        verbose=0)\n",
    "\n",
    "    return history, model_CNN6"
   ]
  },
  {
   "cell_type": "markdown",
   "metadata": {},
   "source": [
    "Hyperparameter space"
   ]
  },
  {
   "cell_type": "code",
   "execution_count": 32,
   "metadata": {},
   "outputs": [],
   "source": [
    "p = {'filters': [64, 128, 256],\n",
    "     'kernel_size': [4, 5, 8],\n",
    "     'optimizer': ['Nadam', 'Adam']\n",
    "    }"
   ]
  },
  {
   "cell_type": "markdown",
   "metadata": {},
   "source": [
    "After defining the function and hyperparameters space, Talos might be initiated with Scan command"
   ]
  },
  {
   "cell_type": "markdown",
   "metadata": {},
   "source": [
    "20% of the training dataset was selected for validation"
   ]
  },
  {
   "cell_type": "code",
   "execution_count": 33,
   "metadata": {},
   "outputs": [
    {
     "data": {
      "image/png": "[encoded data removed]",
      "text/plain": [
       "<Figure size 864x576 with 2 Axes>"
      ]
     },
     "metadata": {
      "needs_background": "light"
     },
     "output_type": "display_data"
    },
    {
     "name": "stderr",
     "output_type": "stream",
     "text": [
      "100%|██████████| 18/18 [3:35:22<00:00, 822.24s/it]\n"
     ]
    }
   ],
   "source": [
    "exp8 = talos.Scan(x=Xtrain,\n",
    "               y=ytrain,\n",
    "               val_split = 0.2,\n",
    "               model=clf_model,\n",
    "               params=p,\n",
    "               experiment_name='clf8',\n",
    "               seed = 44,\n",
    "               round_limit = 18\n",
    "                 )"
   ]
  },
  {
   "cell_type": "code",
   "execution_count": 34,
   "metadata": {},
   "outputs": [
    {
     "data": {
      "text/html": [
       "<div>\n",
       "<style scoped>\n",
       "    .dataframe tbody tr th:only-of-type {\n",
       "        vertical-align: middle;\n",
       "    }\n",
       "\n",
       "    .dataframe tbody tr th {\n",
       "        vertical-align: top;\n",
       "    }\n",
       "\n",
       "    .dataframe thead th {\n",
       "        text-align: right;\n",
       "    }\n",
       "</style>\n",
       "<table border=\"1\" class=\"dataframe\">\n",
       "  <thead>\n",
       "    <tr style=\"text-align: right;\">\n",
       "      <th></th>\n",
       "      <th>round_epochs</th>\n",
       "      <th>val_loss</th>\n",
       "      <th>val_accuracy</th>\n",
       "      <th>loss</th>\n",
       "      <th>accuracy</th>\n",
       "      <th>filters</th>\n",
       "      <th>kernel_size</th>\n",
       "      <th>optimizer</th>\n",
       "    </tr>\n",
       "  </thead>\n",
       "  <tbody>\n",
       "    <tr>\n",
       "      <th>17</th>\n",
       "      <td>10</td>\n",
       "      <td>0.286478</td>\n",
       "      <td>0.899000</td>\n",
       "      <td>0.269526</td>\n",
       "      <td>0.905781</td>\n",
       "      <td>256</td>\n",
       "      <td>8</td>\n",
       "      <td>Nadam</td>\n",
       "    </tr>\n",
       "    <tr>\n",
       "      <th>16</th>\n",
       "      <td>10</td>\n",
       "      <td>0.298538</td>\n",
       "      <td>0.895625</td>\n",
       "      <td>0.296623</td>\n",
       "      <td>0.900719</td>\n",
       "      <td>256</td>\n",
       "      <td>4</td>\n",
       "      <td>Nadam</td>\n",
       "    </tr>\n",
       "    <tr>\n",
       "      <th>2</th>\n",
       "      <td>10</td>\n",
       "      <td>0.290606</td>\n",
       "      <td>0.895500</td>\n",
       "      <td>0.280066</td>\n",
       "      <td>0.903188</td>\n",
       "      <td>128</td>\n",
       "      <td>8</td>\n",
       "      <td>Nadam</td>\n",
       "    </tr>\n",
       "    <tr>\n",
       "      <th>10</th>\n",
       "      <td>10</td>\n",
       "      <td>0.300019</td>\n",
       "      <td>0.895500</td>\n",
       "      <td>0.288677</td>\n",
       "      <td>0.902344</td>\n",
       "      <td>256</td>\n",
       "      <td>8</td>\n",
       "      <td>Adam</td>\n",
       "    </tr>\n",
       "    <tr>\n",
       "      <th>14</th>\n",
       "      <td>10</td>\n",
       "      <td>0.293536</td>\n",
       "      <td>0.894750</td>\n",
       "      <td>0.284947</td>\n",
       "      <td>0.902594</td>\n",
       "      <td>256</td>\n",
       "      <td>5</td>\n",
       "      <td>Nadam</td>\n",
       "    </tr>\n",
       "    <tr>\n",
       "      <th>8</th>\n",
       "      <td>10</td>\n",
       "      <td>0.308003</td>\n",
       "      <td>0.893750</td>\n",
       "      <td>0.311851</td>\n",
       "      <td>0.894781</td>\n",
       "      <td>128</td>\n",
       "      <td>8</td>\n",
       "      <td>Adam</td>\n",
       "    </tr>\n",
       "    <tr>\n",
       "      <th>4</th>\n",
       "      <td>10</td>\n",
       "      <td>0.315393</td>\n",
       "      <td>0.893375</td>\n",
       "      <td>0.309617</td>\n",
       "      <td>0.895094</td>\n",
       "      <td>128</td>\n",
       "      <td>5</td>\n",
       "      <td>Nadam</td>\n",
       "    </tr>\n",
       "    <tr>\n",
       "      <th>7</th>\n",
       "      <td>10</td>\n",
       "      <td>0.304281</td>\n",
       "      <td>0.893000</td>\n",
       "      <td>0.310762</td>\n",
       "      <td>0.895063</td>\n",
       "      <td>256</td>\n",
       "      <td>4</td>\n",
       "      <td>Adam</td>\n",
       "    </tr>\n",
       "    <tr>\n",
       "      <th>12</th>\n",
       "      <td>10</td>\n",
       "      <td>0.318829</td>\n",
       "      <td>0.891125</td>\n",
       "      <td>0.326161</td>\n",
       "      <td>0.890063</td>\n",
       "      <td>128</td>\n",
       "      <td>5</td>\n",
       "      <td>Adam</td>\n",
       "    </tr>\n",
       "    <tr>\n",
       "      <th>3</th>\n",
       "      <td>10</td>\n",
       "      <td>0.307992</td>\n",
       "      <td>0.891125</td>\n",
       "      <td>0.310003</td>\n",
       "      <td>0.896031</td>\n",
       "      <td>256</td>\n",
       "      <td>5</td>\n",
       "      <td>Adam</td>\n",
       "    </tr>\n",
       "    <tr>\n",
       "      <th>15</th>\n",
       "      <td>10</td>\n",
       "      <td>0.321082</td>\n",
       "      <td>0.891000</td>\n",
       "      <td>0.334669</td>\n",
       "      <td>0.886594</td>\n",
       "      <td>64</td>\n",
       "      <td>8</td>\n",
       "      <td>Adam</td>\n",
       "    </tr>\n",
       "    <tr>\n",
       "      <th>13</th>\n",
       "      <td>10</td>\n",
       "      <td>0.317294</td>\n",
       "      <td>0.889625</td>\n",
       "      <td>0.322137</td>\n",
       "      <td>0.891688</td>\n",
       "      <td>128</td>\n",
       "      <td>4</td>\n",
       "      <td>Nadam</td>\n",
       "    </tr>\n",
       "    <tr>\n",
       "      <th>9</th>\n",
       "      <td>10</td>\n",
       "      <td>0.323350</td>\n",
       "      <td>0.888375</td>\n",
       "      <td>0.320613</td>\n",
       "      <td>0.890000</td>\n",
       "      <td>64</td>\n",
       "      <td>5</td>\n",
       "      <td>Nadam</td>\n",
       "    </tr>\n",
       "    <tr>\n",
       "      <th>5</th>\n",
       "      <td>10</td>\n",
       "      <td>0.322759</td>\n",
       "      <td>0.888250</td>\n",
       "      <td>0.328162</td>\n",
       "      <td>0.890250</td>\n",
       "      <td>64</td>\n",
       "      <td>4</td>\n",
       "      <td>Nadam</td>\n",
       "    </tr>\n",
       "    <tr>\n",
       "      <th>6</th>\n",
       "      <td>10</td>\n",
       "      <td>0.319459</td>\n",
       "      <td>0.887500</td>\n",
       "      <td>0.325117</td>\n",
       "      <td>0.890719</td>\n",
       "      <td>128</td>\n",
       "      <td>4</td>\n",
       "      <td>Adam</td>\n",
       "    </tr>\n",
       "    <tr>\n",
       "      <th>1</th>\n",
       "      <td>10</td>\n",
       "      <td>0.350608</td>\n",
       "      <td>0.886250</td>\n",
       "      <td>0.371882</td>\n",
       "      <td>0.877281</td>\n",
       "      <td>64</td>\n",
       "      <td>4</td>\n",
       "      <td>Adam</td>\n",
       "    </tr>\n",
       "    <tr>\n",
       "      <th>0</th>\n",
       "      <td>10</td>\n",
       "      <td>0.336040</td>\n",
       "      <td>0.886125</td>\n",
       "      <td>0.344987</td>\n",
       "      <td>0.884875</td>\n",
       "      <td>64</td>\n",
       "      <td>5</td>\n",
       "      <td>Adam</td>\n",
       "    </tr>\n",
       "    <tr>\n",
       "      <th>11</th>\n",
       "      <td>10</td>\n",
       "      <td>0.328732</td>\n",
       "      <td>0.883125</td>\n",
       "      <td>0.297502</td>\n",
       "      <td>0.898406</td>\n",
       "      <td>64</td>\n",
       "      <td>8</td>\n",
       "      <td>Nadam</td>\n",
       "    </tr>\n",
       "  </tbody>\n",
       "</table>\n",
       "</div>"
      ],
      "text/plain": [
       "    round_epochs  val_loss  val_accuracy      loss  accuracy  filters  \\\n",
       "17            10  0.286478      0.899000  0.269526  0.905781      256   \n",
       "16            10  0.298538      0.895625  0.296623  0.900719      256   \n",
       "2             10  0.290606      0.895500  0.280066  0.903188      128   \n",
       "10            10  0.300019      0.895500  0.288677  0.902344      256   \n",
       "14            10  0.293536      0.894750  0.284947  0.902594      256   \n",
       "8             10  0.308003      0.893750  0.311851  0.894781      128   \n",
       "4             10  0.315393      0.893375  0.309617  0.895094      128   \n",
       "7             10  0.304281      0.893000  0.310762  0.895063      256   \n",
       "12            10  0.318829      0.891125  0.326161  0.890063      128   \n",
       "3             10  0.307992      0.891125  0.310003  0.896031      256   \n",
       "15            10  0.321082      0.891000  0.334669  0.886594       64   \n",
       "13            10  0.317294      0.889625  0.322137  0.891688      128   \n",
       "9             10  0.323350      0.888375  0.320613  0.890000       64   \n",
       "5             10  0.322759      0.888250  0.328162  0.890250       64   \n",
       "6             10  0.319459      0.887500  0.325117  0.890719      128   \n",
       "1             10  0.350608      0.886250  0.371882  0.877281       64   \n",
       "0             10  0.336040      0.886125  0.344987  0.884875       64   \n",
       "11            10  0.328732      0.883125  0.297502  0.898406       64   \n",
       "\n",
       "    kernel_size optimizer  \n",
       "17            8     Nadam  \n",
       "16            4     Nadam  \n",
       "2             8     Nadam  \n",
       "10            8      Adam  \n",
       "14            5     Nadam  \n",
       "8             8      Adam  \n",
       "4             5     Nadam  \n",
       "7             4      Adam  \n",
       "12            5      Adam  \n",
       "3             5      Adam  \n",
       "15            8      Adam  \n",
       "13            4     Nadam  \n",
       "9             5     Nadam  \n",
       "5             4     Nadam  \n",
       "6             4      Adam  \n",
       "1             4      Adam  \n",
       "0             5      Adam  \n",
       "11            8     Nadam  "
      ]
     },
     "execution_count": 34,
     "metadata": {},
     "output_type": "execute_result"
    }
   ],
   "source": [
    "exp8.data.head(18).sort_values(by=['val_accuracy'], ascending=False)"
   ]
  },
  {
   "cell_type": "markdown",
   "metadata": {},
   "source": [
    "The best combinations of hyperparameters provided by round 14, with validation accuracy equal about 97,7 %. "
   ]
  },
  {
   "cell_type": "markdown",
   "metadata": {},
   "source": [
    "A four-dimensional bar grid for visualizing hyperparameters relationships"
   ]
  },
  {
   "cell_type": "code",
   "execution_count": 37,
   "metadata": {},
   "outputs": [
    {
     "data": {
      "image/png": "[encoded data removed]",
      "text/plain": [
       "<Figure size 1226.6x288 with 2 Axes>"
      ]
     },
     "metadata": {},
     "output_type": "display_data"
    }
   ],
   "source": [
    "analyze_object = talos.Analyze(exp8)\n",
    "analyze_object.plot_bars('kernel_size', 'val_accuracy', 'filters','optimizer')"
   ]
  },
  {
   "cell_type": "code",
   "execution_count": 39,
   "metadata": {},
   "outputs": [
    {
     "name": "stdout",
     "output_type": "stream",
     "text": [
      "Deploy package clf9 have been saved.\n"
     ]
    },
    {
     "data": {
      "text/plain": [
       "<talos.commands.deploy.Deploy at 0x16bfe42e8>"
      ]
     },
     "execution_count": 39,
     "metadata": {},
     "output_type": "execute_result"
    }
   ],
   "source": [
    "#saving talos results\n",
    "talos.Deploy(exp8, 'clf9', metric = 'val_accuracy')"
   ]
  },
  {
   "cell_type": "code",
   "execution_count": null,
   "metadata": {},
   "outputs": [],
   "source": [
    "#restore talos results\n",
    "talos.Restore('clf9')"
   ]
  },
  {
   "cell_type": "markdown",
   "metadata": {},
   "source": [
    "According to Talos results, the best combinations of hyperparameters represented with Nadam optimizer, 256 filters and 8 kernel size with validation accuracy 89,90 %. Next, C-LSTM model was trained with selected best hyperparameters (except kernel size, which was checked by trial and error approach), 26 epochs and batch size equal to 128 "
   ]
  },
  {
   "cell_type": "code",
   "execution_count": 48,
   "metadata": {
    "scrolled": true
   },
   "outputs": [
    {
     "name": "stdout",
     "output_type": "stream",
     "text": [
      "Model: \"sequential_16\"\n",
      "_________________________________________________________________\n",
      "Layer (type)                 Output Shape              Param #   \n",
      "=================================================================\n",
      "embedding_16 (Embedding)     (None, 90, 100)           5320300   \n",
      "_________________________________________________________________\n",
      "dropout_42 (Dropout)         (None, 90, 100)           0         \n",
      "_________________________________________________________________\n",
      "conv1d_15 (Conv1D)           (None, 86, 256)           128256    \n",
      "_________________________________________________________________\n",
      "max_pooling1d_14 (MaxPooling (None, 43, 256)           0         \n",
      "_________________________________________________________________\n",
      "dropout_43 (Dropout)         (None, 43, 256)           0         \n",
      "_________________________________________________________________\n",
      "lstm_32 (LSTM)               (None, 64)                82176     \n",
      "_________________________________________________________________\n",
      "dropout_44 (Dropout)         (None, 64)                0         \n",
      "_________________________________________________________________\n",
      "dense_19 (Dense)             (None, 16)                1040      \n",
      "_________________________________________________________________\n",
      "dense_20 (Dense)             (None, 4)                 68        \n",
      "=================================================================\n",
      "Total params: 5,531,840\n",
      "Trainable params: 211,540\n",
      "Non-trainable params: 5,320,300\n",
      "_________________________________________________________________\n",
      "None\n",
      "Train on 32000 samples, validate on 8000 samples\n",
      "Epoch 1/26\n",
      "32000/32000 [==============================] - 92s 3ms/step - loss: 0.7208 - accuracy: 0.6923 - val_loss: 0.4323 - val_accuracy: 0.8586\n",
      "Epoch 2/26\n",
      "32000/32000 [==============================] - 90s 3ms/step - loss: 0.4099 - accuracy: 0.8668 - val_loss: 0.3529 - val_accuracy: 0.8814\n",
      "Epoch 3/26\n",
      "32000/32000 [==============================] - 91s 3ms/step - loss: 0.3721 - accuracy: 0.8768 - val_loss: 0.3348 - val_accuracy: 0.8869\n",
      "Epoch 4/26\n",
      "32000/32000 [==============================] - 91s 3ms/step - loss: 0.3503 - accuracy: 0.8824 - val_loss: 0.3281 - val_accuracy: 0.8854\n",
      "Epoch 5/26\n",
      "32000/32000 [==============================] - 88s 3ms/step - loss: 0.3346 - accuracy: 0.8867 - val_loss: 0.3170 - val_accuracy: 0.8915\n",
      "Epoch 6/26\n",
      "32000/32000 [==============================] - 88s 3ms/step - loss: 0.3232 - accuracy: 0.8900 - val_loss: 0.3047 - val_accuracy: 0.8915\n",
      "Epoch 7/26\n",
      "32000/32000 [==============================] - 90s 3ms/step - loss: 0.3080 - accuracy: 0.8950 - val_loss: 0.2962 - val_accuracy: 0.8938\n",
      "Epoch 8/26\n",
      "32000/32000 [==============================] - 98s 3ms/step - loss: 0.2985 - accuracy: 0.8977 - val_loss: 0.2882 - val_accuracy: 0.8982\n",
      "Epoch 9/26\n",
      "32000/32000 [==============================] - 88s 3ms/step - loss: 0.2914 - accuracy: 0.8986 - val_loss: 0.2835 - val_accuracy: 0.9001\n",
      "Epoch 10/26\n",
      "32000/32000 [==============================] - 88s 3ms/step - loss: 0.2822 - accuracy: 0.9026 - val_loss: 0.2790 - val_accuracy: 0.8991\n",
      "Epoch 11/26\n",
      "32000/32000 [==============================] - 88s 3ms/step - loss: 0.2723 - accuracy: 0.9056 - val_loss: 0.2880 - val_accuracy: 0.8979\n",
      "Epoch 12/26\n",
      "32000/32000 [==============================] - 88s 3ms/step - loss: 0.2672 - accuracy: 0.9078 - val_loss: 0.2854 - val_accuracy: 0.8961\n",
      "Epoch 13/26\n",
      "32000/32000 [==============================] - 87s 3ms/step - loss: 0.2592 - accuracy: 0.9097 - val_loss: 0.2751 - val_accuracy: 0.8999\n",
      "Epoch 14/26\n",
      "32000/32000 [==============================] - 88s 3ms/step - loss: 0.2478 - accuracy: 0.9133 - val_loss: 0.2737 - val_accuracy: 0.9026\n",
      "Epoch 15/26\n",
      "32000/32000 [==============================] - 88s 3ms/step - loss: 0.2489 - accuracy: 0.9134 - val_loss: 0.2850 - val_accuracy: 0.8997\n",
      "Epoch 16/26\n",
      "32000/32000 [==============================] - 88s 3ms/step - loss: 0.2421 - accuracy: 0.9167 - val_loss: 0.2707 - val_accuracy: 0.9032\n",
      "Epoch 17/26\n",
      "32000/32000 [==============================] - 88s 3ms/step - loss: 0.2387 - accuracy: 0.9162 - val_loss: 0.2705 - val_accuracy: 0.9032\n",
      "Epoch 18/26\n",
      "32000/32000 [==============================] - 88s 3ms/step - loss: 0.2321 - accuracy: 0.9187 - val_loss: 0.2677 - val_accuracy: 0.9043\n",
      "Epoch 19/26\n",
      "32000/32000 [==============================] - 88s 3ms/step - loss: 0.2256 - accuracy: 0.9225 - val_loss: 0.2725 - val_accuracy: 0.9046\n",
      "Epoch 20/26\n",
      "32000/32000 [==============================] - 88s 3ms/step - loss: 0.2212 - accuracy: 0.9216 - val_loss: 0.2808 - val_accuracy: 0.9015\n",
      "Epoch 21/26\n",
      "32000/32000 [==============================] - 88s 3ms/step - loss: 0.2175 - accuracy: 0.9235 - val_loss: 0.2774 - val_accuracy: 0.9036\n",
      "Epoch 22/26\n",
      "32000/32000 [==============================] - 87s 3ms/step - loss: 0.2158 - accuracy: 0.9251 - val_loss: 0.2764 - val_accuracy: 0.9015\n",
      "Epoch 23/26\n",
      "32000/32000 [==============================] - 89s 3ms/step - loss: 0.2097 - accuracy: 0.9263 - val_loss: 0.2659 - val_accuracy: 0.9045\n",
      "Epoch 24/26\n",
      "32000/32000 [==============================] - 88s 3ms/step - loss: 0.2044 - accuracy: 0.9288 - val_loss: 0.2859 - val_accuracy: 0.9053\n",
      "Epoch 25/26\n",
      "32000/32000 [==============================] - 88s 3ms/step - loss: 0.2037 - accuracy: 0.9279 - val_loss: 0.2812 - val_accuracy: 0.9044\n",
      "Epoch 26/26\n",
      "32000/32000 [==============================] - 88s 3ms/step - loss: 0.1978 - accuracy: 0.9314 - val_loss: 0.2673 - val_accuracy: 0.9056\n",
      "\n",
      " Completed training in 2316.2732326984406 seconds.\n",
      "\n"
     ]
    },
    {
     "data": {
      "image/png": "[encoded data removed]",
      "text/plain": [
       "<Figure size 720x360 with 1 Axes>"
      ]
     },
     "metadata": {
      "needs_background": "light"
     },
     "output_type": "display_data"
    }
   ],
   "source": [
    "random.seed(93)\n",
    "\n",
    "model_CNN5 = Sequential()\n",
    "model_CNN5.add(Embedding(vocab_size, 100, weights=[embedding_vectors], input_length=max_length, trainable=False))\n",
    "\n",
    "model_CNN5.add(Dropout(0.3))\n",
    "model_CNN5.add(Conv1D(filters=256, kernel_size = 5, activation='relu'))\n",
    "model_CNN5.add(MaxPooling1D(pool_size=2))\n",
    "model_CNN5.add(Dropout(0.3))\n",
    "\n",
    "model_CNN5.add(LSTM(64,recurrent_dropout=0.15))\n",
    "\n",
    "model_CNN5.add(Dropout(0.3))\n",
    "\n",
    "model_CNN5.add(Dense(16, activation='relu'))\n",
    "\n",
    "model_CNN5.add(Dense(num_classes, activation='softmax'))\n",
    "\n",
    "print(model_CNN5.summary())\n",
    "\n",
    "\n",
    "# compile network\n",
    "model_CNN5.compile(loss = 'categorical_crossentropy', optimizer = 'Nadam', metrics = ['accuracy'])\n",
    "\n",
    "start = time.time()\n",
    "# fit network\n",
    "history = model_CNN5.fit(Xtrain, ytrain, epochs = 26, batch_size = 128, verbose=1, validation_split = 0.2)\n",
    "\n",
    "\n",
    "pd.DataFrame(history.history).plot(figsize=(10, 5))\n",
    "plt.legend(loc=6, prop={'size': 7})\n",
    "plt.grid(True)\n",
    "\n",
    "elapsed = time.time() - start\n",
    "print('\\n Completed training in {} seconds.'.format(elapsed),end='\\n\\n')"
   ]
  },
  {
   "cell_type": "code",
   "execution_count": null,
   "metadata": {},
   "outputs": [],
   "source": [
    "#loading the model\n",
    "#model_CNN5 = keras.models.load_model('model_CNN8.h5')"
   ]
  },
  {
   "cell_type": "markdown",
   "metadata": {},
   "source": [
    "Finally, applying the trained model on the test dataset, the accuracy score 91.47% has been achieved"
   ]
  },
  {
   "cell_type": "code",
   "execution_count": 49,
   "metadata": {},
   "outputs": [
    {
     "name": "stdout",
     "output_type": "stream",
     "text": [
      "Test Accuracy: 91.474998\n"
     ]
    }
   ],
   "source": [
    "# evaluate the model\n",
    "loss, acc = model_CNN5.evaluate(Xtest, ytest, verbose=0)\n",
    "print('Test Accuracy: %f' % (acc*100))    "
   ]
  },
  {
   "cell_type": "code",
   "execution_count": 50,
   "metadata": {},
   "outputs": [],
   "source": [
    "#saving the model\n",
    "#model_CNN5.save('model_CNN8.h5')"
   ]
  }
 ],
 "metadata": {
  "kernelspec": {
   "display_name": "Python 3",
   "language": "python",
   "name": "python3"
  },
  "language_info": {
   "codemirror_mode": {
    "name": "ipython",
    "version": 3
   },
   "file_extension": ".py",
   "mimetype": "text/x-python",
   "name": "python",
   "nbconvert_exporter": "python",
   "pygments_lexer": "ipython3",
   "version": "3.7.3"
  }
 },
 "nbformat": 4,
 "nbformat_minor": 2
}
